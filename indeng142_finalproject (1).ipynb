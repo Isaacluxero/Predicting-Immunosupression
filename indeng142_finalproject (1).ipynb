{
  "nbformat": 4,
  "nbformat_minor": 0,
  "metadata": {
    "colab": {
      "provenance": [],
      "collapsed_sections": [
        "XoTdjdwRo0DN",
        "2O4OtksfpyhD",
        "dQEH1H1sp0ja",
        "QfqbW0hopvge"
      ]
    },
    "kernelspec": {
      "name": "python3",
      "display_name": "Python 3"
    },
    "language_info": {
      "name": "python"
    }
  },
  "cells": [
    {
      "cell_type": "code",
      "execution_count": null,
      "metadata": {
        "id": "AG6JQ9MuAFOm"
      },
      "outputs": [],
      "source": [
        "import os\n",
        "import pandas as pd\n",
        "import numpy as np\n",
        "import matplotlib.pyplot as plt"
      ]
    },
    {
      "cell_type": "code",
      "source": [
        "import statsmodels.formula.api as smf\n",
        "import statsmodels.api as sm\n",
        "from sklearn.metrics import confusion_matrix\n",
        "from sklearn.model_selection import GridSearchCV\n",
        "from sklearn.tree import DecisionTreeClassifier\n",
        "import matplotlib.pyplot as plt\n",
        "from sklearn.tree import plot_tree\n",
        "from sklearn.ensemble import RandomForestRegressor\n",
        "from sklearn.ensemble import RandomForestClassifier\n",
        "from sklearn.metrics import accuracy_score\n",
        "from sklearn.discriminant_analysis import LinearDiscriminantAnalysis\n",
        "from sklearn.metrics import accuracy_score\n",
        "from sklearn.linear_model import LogisticRegression\n",
        "from sklearn.metrics import recall_score"
      ],
      "metadata": {
        "id": "md4u5887Az24"
      },
      "execution_count": null,
      "outputs": []
    },
    {
      "cell_type": "code",
      "source": [
        "from sklearn.model_selection import KFold\n",
        "from sklearn.model_selection import GridSearchCV\n",
        "from sklearn.tree import DecisionTreeRegressor\n",
        "from sklearn.model_selection import KFold\n",
        "from sklearn.preprocessing import OneHotEncoder\n",
        "from sklearn.ensemble import GradientBoostingClassifier\n",
        "import time\n",
        "from sklearn.metrics import precision_recall_curve\n",
        "from sklearn.metrics import auc\n",
        "from sklearn.metrics import roc_curve"
      ],
      "metadata": {
        "id": "rRQWOu5HAz5U"
      },
      "execution_count": null,
      "outputs": []
    },
    {
      "cell_type": "code",
      "source": [],
      "metadata": {
        "id": "qIrXnC7dKpmi"
      },
      "execution_count": null,
      "outputs": []
    },
    {
      "cell_type": "code",
      "source": [],
      "metadata": {
        "id": "w2ecgfg7O0gM"
      },
      "execution_count": null,
      "outputs": []
    },
    {
      "cell_type": "code",
      "source": [],
      "metadata": {
        "id": "-m8ggjrTQcu8"
      },
      "execution_count": null,
      "outputs": []
    },
    {
      "cell_type": "code",
      "source": [],
      "metadata": {
        "id": "lCpYJSHoQlYy"
      },
      "execution_count": null,
      "outputs": []
    },
    {
      "cell_type": "markdown",
      "source": [
        "#### Data Cleaning"
      ],
      "metadata": {
        "id": "4Gc5hE6nGtDu"
      }
    },
    {
      "cell_type": "code",
      "source": [
        "Read our data file: https://chronicdata.cdc.gov/Heart-Disease-Stroke-Prevention/National-Health-Interview-Survey-NHIS-National-Car/fwns-azgu\n",
        "https://www.cdc.gov/nchs/nhis/2021nhis.htm\n",
        "med_data = pd.read_csv('adult21.csv')\n"
      ],
      "metadata": {
        "id": "PkF644OeEt3N",
        "colab": {
          "base_uri": "https://localhost:8080/",
          "height": 151
        },
        "outputId": "0106cb81-8563-47c0-8a93-10c1d73b219a"
      },
      "execution_count": null,
      "outputs": [
        {
          "output_type": "error",
          "ename": "SyntaxError",
          "evalue": "ignored",
          "traceback": [
            "\u001b[0;36m  File \u001b[0;32m\"<ipython-input-6-a29258f46c65>\"\u001b[0;36m, line \u001b[0;32m1\u001b[0m\n\u001b[0;31m    Read our data file: https://chronicdata.cdc.gov/Heart-Disease-Stroke-Prevention/National-Health-Interview-Survey-NHIS-National-Car/fwns-azgu\u001b[0m\n\u001b[0m         ^\u001b[0m\n\u001b[0;31mSyntaxError\u001b[0m\u001b[0;31m:\u001b[0m invalid syntax\n"
          ]
        }
      ]
    },
    {
      "cell_type": "code",
      "source": [
        "med_data"
      ],
      "metadata": {
        "colab": {
          "base_uri": "https://localhost:8080/",
          "height": 488
        },
        "id": "Y2QQ2MbUMzNH",
        "outputId": "0245039e-e14e-4140-c360-8ea6a54b59f0"
      },
      "execution_count": null,
      "outputs": [
        {
          "output_type": "execute_result",
          "data": {
            "text/plain": [
              "       URBRRL  RATCAT_A  IMPINCFLG_A  CVDVAC2YR_A  CVDVAC2MR_A  CVDVAC1YR_A  \\\n",
              "0           4         7            0          NaN          NaN          NaN   \n",
              "1           4        12            0          NaN          NaN          NaN   \n",
              "2           4        14            0          NaN          NaN          NaN   \n",
              "3           3        11            0          NaN          NaN          NaN   \n",
              "4           1         6            1          NaN          NaN          NaN   \n",
              "...       ...       ...          ...          ...          ...          ...   \n",
              "29477       4        14            1       2021.0          1.0       2021.0   \n",
              "29478       4        10            0       2021.0          3.0       2021.0   \n",
              "29479       4         8            0       2021.0          4.0       2021.0   \n",
              "29480       4         8            0          NaN          NaN          NaN   \n",
              "29481       4        13            0       2021.0          4.0       2021.0   \n",
              "\n",
              "       CVDVAC1MR_A  SHTCVD19AV_A  SHTCVD19NM_A  SHTCVD19_A  ...  PROXYREL_A  \\\n",
              "0              NaN           NaN           NaN         NaN  ...         NaN   \n",
              "1              NaN           NaN           NaN         NaN  ...         NaN   \n",
              "2              NaN           NaN           NaN         NaN  ...         NaN   \n",
              "3              NaN           NaN           NaN         NaN  ...         NaN   \n",
              "4              NaN           NaN           NaN         NaN  ...         NaN   \n",
              "...            ...           ...           ...         ...  ...         ...   \n",
              "29477          6.0           NaN           3.0         1.0  ...         NaN   \n",
              "29478          4.0           NaN           2.0         1.0  ...         NaN   \n",
              "29479         11.0           NaN           3.0         1.0  ...         NaN   \n",
              "29480          NaN           NaN           NaN         2.0  ...         NaN   \n",
              "29481          5.0           NaN           2.0         1.0  ...         NaN   \n",
              "\n",
              "       PROXY_A  AVAIL_A  HHSTAT_A  INTV_MON  RECTYPE  IMPNUM_A     WTFA_A  \\\n",
              "0          NaN        1         1         1       10         1   5423.324   \n",
              "1          NaN        1         1         1       10         1   3832.196   \n",
              "2          NaN        1         1         1       10         1   3422.661   \n",
              "3          NaN        1         1         1       10         1  12960.165   \n",
              "4          NaN        1         1         1       10         1   9284.618   \n",
              "...        ...      ...       ...       ...      ...       ...        ...   \n",
              "29477      NaN        1         1        12       10         1   3203.634   \n",
              "29478      NaN        1         1        12       10         1   1556.049   \n",
              "29479      NaN        1         1        12       10         1   6238.789   \n",
              "29480      NaN        1         1        12       10         1   4769.800   \n",
              "29481      NaN        1         1        12       10         1   6336.260   \n",
              "\n",
              "           HHX  POVRATTC_A  \n",
              "0      H056808        1.93  \n",
              "1      H018779        4.45  \n",
              "2      H049265        5.94  \n",
              "3      H007699        3.70  \n",
              "4      H066034        1.66  \n",
              "...        ...         ...  \n",
              "29477  H012375        5.11  \n",
              "29478  H052160        3.03  \n",
              "29479  H051563        2.07  \n",
              "29480  H058432        2.05  \n",
              "29481  H052354        4.89  \n",
              "\n",
              "[29482 rows x 622 columns]"
            ],
            "text/html": [
              "\n",
              "  <div id=\"df-984bc876-6059-4b9d-a0c3-72ae972cd882\">\n",
              "    <div class=\"colab-df-container\">\n",
              "      <div>\n",
              "<style scoped>\n",
              "    .dataframe tbody tr th:only-of-type {\n",
              "        vertical-align: middle;\n",
              "    }\n",
              "\n",
              "    .dataframe tbody tr th {\n",
              "        vertical-align: top;\n",
              "    }\n",
              "\n",
              "    .dataframe thead th {\n",
              "        text-align: right;\n",
              "    }\n",
              "</style>\n",
              "<table border=\"1\" class=\"dataframe\">\n",
              "  <thead>\n",
              "    <tr style=\"text-align: right;\">\n",
              "      <th></th>\n",
              "      <th>URBRRL</th>\n",
              "      <th>RATCAT_A</th>\n",
              "      <th>IMPINCFLG_A</th>\n",
              "      <th>CVDVAC2YR_A</th>\n",
              "      <th>CVDVAC2MR_A</th>\n",
              "      <th>CVDVAC1YR_A</th>\n",
              "      <th>CVDVAC1MR_A</th>\n",
              "      <th>SHTCVD19AV_A</th>\n",
              "      <th>SHTCVD19NM_A</th>\n",
              "      <th>SHTCVD19_A</th>\n",
              "      <th>...</th>\n",
              "      <th>PROXYREL_A</th>\n",
              "      <th>PROXY_A</th>\n",
              "      <th>AVAIL_A</th>\n",
              "      <th>HHSTAT_A</th>\n",
              "      <th>INTV_MON</th>\n",
              "      <th>RECTYPE</th>\n",
              "      <th>IMPNUM_A</th>\n",
              "      <th>WTFA_A</th>\n",
              "      <th>HHX</th>\n",
              "      <th>POVRATTC_A</th>\n",
              "    </tr>\n",
              "  </thead>\n",
              "  <tbody>\n",
              "    <tr>\n",
              "      <th>0</th>\n",
              "      <td>4</td>\n",
              "      <td>7</td>\n",
              "      <td>0</td>\n",
              "      <td>NaN</td>\n",
              "      <td>NaN</td>\n",
              "      <td>NaN</td>\n",
              "      <td>NaN</td>\n",
              "      <td>NaN</td>\n",
              "      <td>NaN</td>\n",
              "      <td>NaN</td>\n",
              "      <td>...</td>\n",
              "      <td>NaN</td>\n",
              "      <td>NaN</td>\n",
              "      <td>1</td>\n",
              "      <td>1</td>\n",
              "      <td>1</td>\n",
              "      <td>10</td>\n",
              "      <td>1</td>\n",
              "      <td>5423.324</td>\n",
              "      <td>H056808</td>\n",
              "      <td>1.93</td>\n",
              "    </tr>\n",
              "    <tr>\n",
              "      <th>1</th>\n",
              "      <td>4</td>\n",
              "      <td>12</td>\n",
              "      <td>0</td>\n",
              "      <td>NaN</td>\n",
              "      <td>NaN</td>\n",
              "      <td>NaN</td>\n",
              "      <td>NaN</td>\n",
              "      <td>NaN</td>\n",
              "      <td>NaN</td>\n",
              "      <td>NaN</td>\n",
              "      <td>...</td>\n",
              "      <td>NaN</td>\n",
              "      <td>NaN</td>\n",
              "      <td>1</td>\n",
              "      <td>1</td>\n",
              "      <td>1</td>\n",
              "      <td>10</td>\n",
              "      <td>1</td>\n",
              "      <td>3832.196</td>\n",
              "      <td>H018779</td>\n",
              "      <td>4.45</td>\n",
              "    </tr>\n",
              "    <tr>\n",
              "      <th>2</th>\n",
              "      <td>4</td>\n",
              "      <td>14</td>\n",
              "      <td>0</td>\n",
              "      <td>NaN</td>\n",
              "      <td>NaN</td>\n",
              "      <td>NaN</td>\n",
              "      <td>NaN</td>\n",
              "      <td>NaN</td>\n",
              "      <td>NaN</td>\n",
              "      <td>NaN</td>\n",
              "      <td>...</td>\n",
              "      <td>NaN</td>\n",
              "      <td>NaN</td>\n",
              "      <td>1</td>\n",
              "      <td>1</td>\n",
              "      <td>1</td>\n",
              "      <td>10</td>\n",
              "      <td>1</td>\n",
              "      <td>3422.661</td>\n",
              "      <td>H049265</td>\n",
              "      <td>5.94</td>\n",
              "    </tr>\n",
              "    <tr>\n",
              "      <th>3</th>\n",
              "      <td>3</td>\n",
              "      <td>11</td>\n",
              "      <td>0</td>\n",
              "      <td>NaN</td>\n",
              "      <td>NaN</td>\n",
              "      <td>NaN</td>\n",
              "      <td>NaN</td>\n",
              "      <td>NaN</td>\n",
              "      <td>NaN</td>\n",
              "      <td>NaN</td>\n",
              "      <td>...</td>\n",
              "      <td>NaN</td>\n",
              "      <td>NaN</td>\n",
              "      <td>1</td>\n",
              "      <td>1</td>\n",
              "      <td>1</td>\n",
              "      <td>10</td>\n",
              "      <td>1</td>\n",
              "      <td>12960.165</td>\n",
              "      <td>H007699</td>\n",
              "      <td>3.70</td>\n",
              "    </tr>\n",
              "    <tr>\n",
              "      <th>4</th>\n",
              "      <td>1</td>\n",
              "      <td>6</td>\n",
              "      <td>1</td>\n",
              "      <td>NaN</td>\n",
              "      <td>NaN</td>\n",
              "      <td>NaN</td>\n",
              "      <td>NaN</td>\n",
              "      <td>NaN</td>\n",
              "      <td>NaN</td>\n",
              "      <td>NaN</td>\n",
              "      <td>...</td>\n",
              "      <td>NaN</td>\n",
              "      <td>NaN</td>\n",
              "      <td>1</td>\n",
              "      <td>1</td>\n",
              "      <td>1</td>\n",
              "      <td>10</td>\n",
              "      <td>1</td>\n",
              "      <td>9284.618</td>\n",
              "      <td>H066034</td>\n",
              "      <td>1.66</td>\n",
              "    </tr>\n",
              "    <tr>\n",
              "      <th>...</th>\n",
              "      <td>...</td>\n",
              "      <td>...</td>\n",
              "      <td>...</td>\n",
              "      <td>...</td>\n",
              "      <td>...</td>\n",
              "      <td>...</td>\n",
              "      <td>...</td>\n",
              "      <td>...</td>\n",
              "      <td>...</td>\n",
              "      <td>...</td>\n",
              "      <td>...</td>\n",
              "      <td>...</td>\n",
              "      <td>...</td>\n",
              "      <td>...</td>\n",
              "      <td>...</td>\n",
              "      <td>...</td>\n",
              "      <td>...</td>\n",
              "      <td>...</td>\n",
              "      <td>...</td>\n",
              "      <td>...</td>\n",
              "      <td>...</td>\n",
              "    </tr>\n",
              "    <tr>\n",
              "      <th>29477</th>\n",
              "      <td>4</td>\n",
              "      <td>14</td>\n",
              "      <td>1</td>\n",
              "      <td>2021.0</td>\n",
              "      <td>1.0</td>\n",
              "      <td>2021.0</td>\n",
              "      <td>6.0</td>\n",
              "      <td>NaN</td>\n",
              "      <td>3.0</td>\n",
              "      <td>1.0</td>\n",
              "      <td>...</td>\n",
              "      <td>NaN</td>\n",
              "      <td>NaN</td>\n",
              "      <td>1</td>\n",
              "      <td>1</td>\n",
              "      <td>12</td>\n",
              "      <td>10</td>\n",
              "      <td>1</td>\n",
              "      <td>3203.634</td>\n",
              "      <td>H012375</td>\n",
              "      <td>5.11</td>\n",
              "    </tr>\n",
              "    <tr>\n",
              "      <th>29478</th>\n",
              "      <td>4</td>\n",
              "      <td>10</td>\n",
              "      <td>0</td>\n",
              "      <td>2021.0</td>\n",
              "      <td>3.0</td>\n",
              "      <td>2021.0</td>\n",
              "      <td>4.0</td>\n",
              "      <td>NaN</td>\n",
              "      <td>2.0</td>\n",
              "      <td>1.0</td>\n",
              "      <td>...</td>\n",
              "      <td>NaN</td>\n",
              "      <td>NaN</td>\n",
              "      <td>1</td>\n",
              "      <td>1</td>\n",
              "      <td>12</td>\n",
              "      <td>10</td>\n",
              "      <td>1</td>\n",
              "      <td>1556.049</td>\n",
              "      <td>H052160</td>\n",
              "      <td>3.03</td>\n",
              "    </tr>\n",
              "    <tr>\n",
              "      <th>29479</th>\n",
              "      <td>4</td>\n",
              "      <td>8</td>\n",
              "      <td>0</td>\n",
              "      <td>2021.0</td>\n",
              "      <td>4.0</td>\n",
              "      <td>2021.0</td>\n",
              "      <td>11.0</td>\n",
              "      <td>NaN</td>\n",
              "      <td>3.0</td>\n",
              "      <td>1.0</td>\n",
              "      <td>...</td>\n",
              "      <td>NaN</td>\n",
              "      <td>NaN</td>\n",
              "      <td>1</td>\n",
              "      <td>1</td>\n",
              "      <td>12</td>\n",
              "      <td>10</td>\n",
              "      <td>1</td>\n",
              "      <td>6238.789</td>\n",
              "      <td>H051563</td>\n",
              "      <td>2.07</td>\n",
              "    </tr>\n",
              "    <tr>\n",
              "      <th>29480</th>\n",
              "      <td>4</td>\n",
              "      <td>8</td>\n",
              "      <td>0</td>\n",
              "      <td>NaN</td>\n",
              "      <td>NaN</td>\n",
              "      <td>NaN</td>\n",
              "      <td>NaN</td>\n",
              "      <td>NaN</td>\n",
              "      <td>NaN</td>\n",
              "      <td>2.0</td>\n",
              "      <td>...</td>\n",
              "      <td>NaN</td>\n",
              "      <td>NaN</td>\n",
              "      <td>1</td>\n",
              "      <td>1</td>\n",
              "      <td>12</td>\n",
              "      <td>10</td>\n",
              "      <td>1</td>\n",
              "      <td>4769.800</td>\n",
              "      <td>H058432</td>\n",
              "      <td>2.05</td>\n",
              "    </tr>\n",
              "    <tr>\n",
              "      <th>29481</th>\n",
              "      <td>4</td>\n",
              "      <td>13</td>\n",
              "      <td>0</td>\n",
              "      <td>2021.0</td>\n",
              "      <td>4.0</td>\n",
              "      <td>2021.0</td>\n",
              "      <td>5.0</td>\n",
              "      <td>NaN</td>\n",
              "      <td>2.0</td>\n",
              "      <td>1.0</td>\n",
              "      <td>...</td>\n",
              "      <td>NaN</td>\n",
              "      <td>NaN</td>\n",
              "      <td>1</td>\n",
              "      <td>1</td>\n",
              "      <td>12</td>\n",
              "      <td>10</td>\n",
              "      <td>1</td>\n",
              "      <td>6336.260</td>\n",
              "      <td>H052354</td>\n",
              "      <td>4.89</td>\n",
              "    </tr>\n",
              "  </tbody>\n",
              "</table>\n",
              "<p>29482 rows × 622 columns</p>\n",
              "</div>\n",
              "      <button class=\"colab-df-convert\" onclick=\"convertToInteractive('df-984bc876-6059-4b9d-a0c3-72ae972cd882')\"\n",
              "              title=\"Convert this dataframe to an interactive table.\"\n",
              "              style=\"display:none;\">\n",
              "        \n",
              "  <svg xmlns=\"http://www.w3.org/2000/svg\" height=\"24px\"viewBox=\"0 0 24 24\"\n",
              "       width=\"24px\">\n",
              "    <path d=\"M0 0h24v24H0V0z\" fill=\"none\"/>\n",
              "    <path d=\"M18.56 5.44l.94 2.06.94-2.06 2.06-.94-2.06-.94-.94-2.06-.94 2.06-2.06.94zm-11 1L8.5 8.5l.94-2.06 2.06-.94-2.06-.94L8.5 2.5l-.94 2.06-2.06.94zm10 10l.94 2.06.94-2.06 2.06-.94-2.06-.94-.94-2.06-.94 2.06-2.06.94z\"/><path d=\"M17.41 7.96l-1.37-1.37c-.4-.4-.92-.59-1.43-.59-.52 0-1.04.2-1.43.59L10.3 9.45l-7.72 7.72c-.78.78-.78 2.05 0 2.83L4 21.41c.39.39.9.59 1.41.59.51 0 1.02-.2 1.41-.59l7.78-7.78 2.81-2.81c.8-.78.8-2.07 0-2.86zM5.41 20L4 18.59l7.72-7.72 1.47 1.35L5.41 20z\"/>\n",
              "  </svg>\n",
              "      </button>\n",
              "      \n",
              "  <style>\n",
              "    .colab-df-container {\n",
              "      display:flex;\n",
              "      flex-wrap:wrap;\n",
              "      gap: 12px;\n",
              "    }\n",
              "\n",
              "    .colab-df-convert {\n",
              "      background-color: #E8F0FE;\n",
              "      border: none;\n",
              "      border-radius: 50%;\n",
              "      cursor: pointer;\n",
              "      display: none;\n",
              "      fill: #1967D2;\n",
              "      height: 32px;\n",
              "      padding: 0 0 0 0;\n",
              "      width: 32px;\n",
              "    }\n",
              "\n",
              "    .colab-df-convert:hover {\n",
              "      background-color: #E2EBFA;\n",
              "      box-shadow: 0px 1px 2px rgba(60, 64, 67, 0.3), 0px 1px 3px 1px rgba(60, 64, 67, 0.15);\n",
              "      fill: #174EA6;\n",
              "    }\n",
              "\n",
              "    [theme=dark] .colab-df-convert {\n",
              "      background-color: #3B4455;\n",
              "      fill: #D2E3FC;\n",
              "    }\n",
              "\n",
              "    [theme=dark] .colab-df-convert:hover {\n",
              "      background-color: #434B5C;\n",
              "      box-shadow: 0px 1px 3px 1px rgba(0, 0, 0, 0.15);\n",
              "      filter: drop-shadow(0px 1px 2px rgba(0, 0, 0, 0.3));\n",
              "      fill: #FFFFFF;\n",
              "    }\n",
              "  </style>\n",
              "\n",
              "      <script>\n",
              "        const buttonEl =\n",
              "          document.querySelector('#df-984bc876-6059-4b9d-a0c3-72ae972cd882 button.colab-df-convert');\n",
              "        buttonEl.style.display =\n",
              "          google.colab.kernel.accessAllowed ? 'block' : 'none';\n",
              "\n",
              "        async function convertToInteractive(key) {\n",
              "          const element = document.querySelector('#df-984bc876-6059-4b9d-a0c3-72ae972cd882');\n",
              "          const dataTable =\n",
              "            await google.colab.kernel.invokeFunction('convertToInteractive',\n",
              "                                                     [key], {});\n",
              "          if (!dataTable) return;\n",
              "\n",
              "          const docLinkHtml = 'Like what you see? Visit the ' +\n",
              "            '<a target=\"_blank\" href=https://colab.research.google.com/notebooks/data_table.ipynb>data table notebook</a>'\n",
              "            + ' to learn more about interactive tables.';\n",
              "          element.innerHTML = '';\n",
              "          dataTable['output_type'] = 'display_data';\n",
              "          await google.colab.output.renderOutput(dataTable, element);\n",
              "          const docLink = document.createElement('div');\n",
              "          docLink.innerHTML = docLinkHtml;\n",
              "          element.appendChild(docLink);\n",
              "        }\n",
              "      </script>\n",
              "    </div>\n",
              "  </div>\n",
              "  "
            ]
          },
          "metadata": {},
          "execution_count": 5
        }
      ]
    },
    {
      "cell_type": "code",
      "source": [
        "med_data['HLTHCOND_A']"
      ],
      "metadata": {
        "id": "1jGu29BRNWJO",
        "colab": {
          "base_uri": "https://localhost:8080/"
        },
        "outputId": "c79cc66c-ee0b-487c-b7fe-8a8d0d8dafd4"
      },
      "execution_count": null,
      "outputs": [
        {
          "output_type": "execute_result",
          "data": {
            "text/plain": [
              "0        2\n",
              "1        2\n",
              "2        2\n",
              "3        1\n",
              "4        2\n",
              "        ..\n",
              "29477    2\n",
              "29478    1\n",
              "29479    2\n",
              "29480    2\n",
              "29481    2\n",
              "Name: HLTHCOND_A, Length: 29482, dtype: int64"
            ]
          },
          "metadata": {},
          "execution_count": 6
        }
      ]
    },
    {
      "cell_type": "code",
      "source": [
        "med_data.shape"
      ],
      "metadata": {
        "colab": {
          "base_uri": "https://localhost:8080/"
        },
        "id": "SDIvTzUycU8t",
        "outputId": "6604198c-f70b-4dd9-e28b-5e2e336c5ab4"
      },
      "execution_count": null,
      "outputs": [
        {
          "output_type": "execute_result",
          "data": {
            "text/plain": [
              "(29482, 622)"
            ]
          },
          "metadata": {},
          "execution_count": 7
        }
      ]
    },
    {
      "cell_type": "code",
      "source": [
        "## Finding the percentages of NaN values per columns\n",
        "percent_missing = med_data.isnull().sum() * 100 / len(med_data)\n",
        "missing_value_df = pd.DataFrame({'column_name': med_data.columns,\n",
        "                                 'percent_missing': percent_missing})\n",
        "\n",
        "## sorting percent missing in ascending order\n",
        "missing_value_df.sort_values('percent_missing', inplace=True)"
      ],
      "metadata": {
        "id": "wuVdb9uAamYv"
      },
      "execution_count": null,
      "outputs": []
    },
    {
      "cell_type": "code",
      "source": [
        "## Discretionarily isolating relevant or potentially relevant features related to our dependent variable\n",
        "filtered_col_df = med_data[[\"HLTHCOND_A\",\"WTFA_A\", \"URBRRL\", \"AGEP_A\", \"SEX_A\", \"EDUCP_A\", \"PHSTAT_A\", \"LSATIS11R_A\", \"LSATIS4R_A\", \"HYP12M_A\", \"HYPMED_A\", \"CHL12M_A\", \"CHLMED_A\", \"CHDEV_A\", \"ANGEV_A\", \"MIEV_A\", \"STREV_A\", \"ASPONOWN_A\", \"ASEV_A\", \"ASTILL_A\", \"CANEV_A\", \"BLADDCAN_A\", \"BLOODCAN_A\", \"BONECAN_A\", \"BRAINCAN_A\", \"BREASCAN_A\", \"CERVICAN_A\", \"COLONCAN_A\", \"ESOPHCAN_A\", \"GALLBCAN_A\", \"LARYNCAN_A\", \"LEUKECAN_A\", \"LIVERCAN_A\", \"LUNGCAN_A\", \"LYMPHCAN_A\", \"MELANCAN_A\", \"MOUTHCAN_A\", \"OVARYCAN_A\", \"PANCRCAN_A\", \"PROSTCAN_A\", \"RECTUCAN_A\", \"SKNMCAN_A\", \"SKNNMCAN_A\", \"SKNDKCAN_A\", \"STOMACAN_A\", \"THROACAN_A\", \"THYROCAN_A\", \"UTERUCAN_A\", \"HDNCKCAN_A\", \"COLRCCAN_A\", \"OTHERCANP_A\", \"DIBEV_A\", \"DIFYRSTC1_A\", \"DIBTYPE_A\", \"COPDEV_A\", \"ARTHEV_A\", \"DEMENEV_A\", \"ANXEV_A\", \"DEPEV_A\", \"KIDWEAKEV_A\", \"HEPEV_A\", \"LIVEREV_A\", \"CFSEV_A\", \"COLDFLU12M_A\", \"EPIEV_A\", \"DXRESP_A\", \"HEIGHTTC_A\", \"WEIGHTLBTC_A\", \"COMDIFF_A\", \"NOTCOV_A\", \"SINCOVRX_A\", \"MCPART_A\", \"MCCHOICE_A\",  \"POLHLD1_A\", \"MAPREM_A\", \"PLN1PAY1_A\", \"HICOSTR1_A\", \"PRRXCOV1_A\", \"POLHLD2_A\", \"PLNEXCHG2_A\", \"PLN2PAY1_A\", \"HICOSTR2_A\", \"PRRXCOV2_A\", \"CHPREM_A\", \"OPPREM_A\", \"HILAST_A\", \"HILASTMY_A\", \"HISTOPCOST_A\", \"RSNHICOST_A\", \"HISTOPELIG_A\", \"RSNHIMISS_A\", \"HINOTYR_A\", \"HICOV_A\", \"PAYBLL12M_A\", \"PAYNOBLLNW_A\", \"PAYWORRY_A\", \"CVDDIAG_A\", \"CVDRSLT_A\", \"CVDSEV_A\", \"LASTDR_A\", \"URGNT12MTC_A\", \"EMERG12MTC_A\", \"HOSPONGT_A\", \"DLYCARE_A\", \"DNGCARE_A\", \"CANCOVTREA_A\", \"CANCOVCHG_A\", \"JOBMISS_A\", \"CURJOBSD1_A\", \"INCWRKO_A\", \"FSNAP12M_A\", \"FDSBALANCE_A\", \"FDSNOTEAT_A\", \"FDSLESS_A\", \"CIGNOW_A\", \"ECIGEV_A\", \"ECIGNOW_A\", \"SUPPORT_A\", \"BPLAST_A\", \"CHOLLAST_A\", \"DIBLAST1_A\", \"PSATEST_A\", \"LIVEBIRTH_A\", \"LIVEHEP_A\", \"ANXFREQ_A\", \"DEPMED_A\", \"PAIULMB3M_A\" , \"SAD_A\", \"MHTHND_A\", \"DEPLEVEL_A\" , \"FAMCARECVD_A\", \"COLOGUARD1_A\" , \"PSAREASON_A\" , \"MAMWHEN_A\" , \"HYSTEV1_A\"]]\n"
      ],
      "metadata": {
        "id": "t1AGlBI7dPDH"
      },
      "execution_count": null,
      "outputs": []
    },
    {
      "cell_type": "code",
      "source": [
        "## Finding the percentages of NaN values per columns on filtered data\n",
        "percent_missing_filtered = filtered_col_df.isnull().sum() * 100 / len(filtered_col_df)\n",
        "percent_missing_filtered.sort_values(inplace=True)\n",
        "percent_missing_filtered_df = pd.DataFrame(percent_missing_filtered)\n",
        "percent_missing_filtered_df"
      ],
      "metadata": {
        "colab": {
          "base_uri": "https://localhost:8080/",
          "height": 424
        },
        "id": "epVSOe0eemH5",
        "outputId": "d0f791e8-a530-4c0b-fbe1-486e58486fa4"
      },
      "execution_count": null,
      "outputs": [
        {
          "output_type": "execute_result",
          "data": {
            "text/plain": [
              "                      0\n",
              "HLTHCOND_A     0.000000\n",
              "HICOV_A        0.000000\n",
              "SINCOVRX_A     0.000000\n",
              "NOTCOV_A       0.000000\n",
              "COMDIFF_A      0.000000\n",
              "...                 ...\n",
              "HICOSTR2_A    98.656808\n",
              "OPPREM_A      99.430161\n",
              "FAMCARECVD_A  99.457296\n",
              "PLNEXCHG2_A   99.681161\n",
              "CHPREM_A      99.983040\n",
              "\n",
              "[135 rows x 1 columns]"
            ],
            "text/html": [
              "\n",
              "  <div id=\"df-581910f4-b628-48f6-82b8-c554a9165042\">\n",
              "    <div class=\"colab-df-container\">\n",
              "      <div>\n",
              "<style scoped>\n",
              "    .dataframe tbody tr th:only-of-type {\n",
              "        vertical-align: middle;\n",
              "    }\n",
              "\n",
              "    .dataframe tbody tr th {\n",
              "        vertical-align: top;\n",
              "    }\n",
              "\n",
              "    .dataframe thead th {\n",
              "        text-align: right;\n",
              "    }\n",
              "</style>\n",
              "<table border=\"1\" class=\"dataframe\">\n",
              "  <thead>\n",
              "    <tr style=\"text-align: right;\">\n",
              "      <th></th>\n",
              "      <th>0</th>\n",
              "    </tr>\n",
              "  </thead>\n",
              "  <tbody>\n",
              "    <tr>\n",
              "      <th>HLTHCOND_A</th>\n",
              "      <td>0.000000</td>\n",
              "    </tr>\n",
              "    <tr>\n",
              "      <th>HICOV_A</th>\n",
              "      <td>0.000000</td>\n",
              "    </tr>\n",
              "    <tr>\n",
              "      <th>SINCOVRX_A</th>\n",
              "      <td>0.000000</td>\n",
              "    </tr>\n",
              "    <tr>\n",
              "      <th>NOTCOV_A</th>\n",
              "      <td>0.000000</td>\n",
              "    </tr>\n",
              "    <tr>\n",
              "      <th>COMDIFF_A</th>\n",
              "      <td>0.000000</td>\n",
              "    </tr>\n",
              "    <tr>\n",
              "      <th>...</th>\n",
              "      <td>...</td>\n",
              "    </tr>\n",
              "    <tr>\n",
              "      <th>HICOSTR2_A</th>\n",
              "      <td>98.656808</td>\n",
              "    </tr>\n",
              "    <tr>\n",
              "      <th>OPPREM_A</th>\n",
              "      <td>99.430161</td>\n",
              "    </tr>\n",
              "    <tr>\n",
              "      <th>FAMCARECVD_A</th>\n",
              "      <td>99.457296</td>\n",
              "    </tr>\n",
              "    <tr>\n",
              "      <th>PLNEXCHG2_A</th>\n",
              "      <td>99.681161</td>\n",
              "    </tr>\n",
              "    <tr>\n",
              "      <th>CHPREM_A</th>\n",
              "      <td>99.983040</td>\n",
              "    </tr>\n",
              "  </tbody>\n",
              "</table>\n",
              "<p>135 rows × 1 columns</p>\n",
              "</div>\n",
              "      <button class=\"colab-df-convert\" onclick=\"convertToInteractive('df-581910f4-b628-48f6-82b8-c554a9165042')\"\n",
              "              title=\"Convert this dataframe to an interactive table.\"\n",
              "              style=\"display:none;\">\n",
              "        \n",
              "  <svg xmlns=\"http://www.w3.org/2000/svg\" height=\"24px\"viewBox=\"0 0 24 24\"\n",
              "       width=\"24px\">\n",
              "    <path d=\"M0 0h24v24H0V0z\" fill=\"none\"/>\n",
              "    <path d=\"M18.56 5.44l.94 2.06.94-2.06 2.06-.94-2.06-.94-.94-2.06-.94 2.06-2.06.94zm-11 1L8.5 8.5l.94-2.06 2.06-.94-2.06-.94L8.5 2.5l-.94 2.06-2.06.94zm10 10l.94 2.06.94-2.06 2.06-.94-2.06-.94-.94-2.06-.94 2.06-2.06.94z\"/><path d=\"M17.41 7.96l-1.37-1.37c-.4-.4-.92-.59-1.43-.59-.52 0-1.04.2-1.43.59L10.3 9.45l-7.72 7.72c-.78.78-.78 2.05 0 2.83L4 21.41c.39.39.9.59 1.41.59.51 0 1.02-.2 1.41-.59l7.78-7.78 2.81-2.81c.8-.78.8-2.07 0-2.86zM5.41 20L4 18.59l7.72-7.72 1.47 1.35L5.41 20z\"/>\n",
              "  </svg>\n",
              "      </button>\n",
              "      \n",
              "  <style>\n",
              "    .colab-df-container {\n",
              "      display:flex;\n",
              "      flex-wrap:wrap;\n",
              "      gap: 12px;\n",
              "    }\n",
              "\n",
              "    .colab-df-convert {\n",
              "      background-color: #E8F0FE;\n",
              "      border: none;\n",
              "      border-radius: 50%;\n",
              "      cursor: pointer;\n",
              "      display: none;\n",
              "      fill: #1967D2;\n",
              "      height: 32px;\n",
              "      padding: 0 0 0 0;\n",
              "      width: 32px;\n",
              "    }\n",
              "\n",
              "    .colab-df-convert:hover {\n",
              "      background-color: #E2EBFA;\n",
              "      box-shadow: 0px 1px 2px rgba(60, 64, 67, 0.3), 0px 1px 3px 1px rgba(60, 64, 67, 0.15);\n",
              "      fill: #174EA6;\n",
              "    }\n",
              "\n",
              "    [theme=dark] .colab-df-convert {\n",
              "      background-color: #3B4455;\n",
              "      fill: #D2E3FC;\n",
              "    }\n",
              "\n",
              "    [theme=dark] .colab-df-convert:hover {\n",
              "      background-color: #434B5C;\n",
              "      box-shadow: 0px 1px 3px 1px rgba(0, 0, 0, 0.15);\n",
              "      filter: drop-shadow(0px 1px 2px rgba(0, 0, 0, 0.3));\n",
              "      fill: #FFFFFF;\n",
              "    }\n",
              "  </style>\n",
              "\n",
              "      <script>\n",
              "        const buttonEl =\n",
              "          document.querySelector('#df-581910f4-b628-48f6-82b8-c554a9165042 button.colab-df-convert');\n",
              "        buttonEl.style.display =\n",
              "          google.colab.kernel.accessAllowed ? 'block' : 'none';\n",
              "\n",
              "        async function convertToInteractive(key) {\n",
              "          const element = document.querySelector('#df-581910f4-b628-48f6-82b8-c554a9165042');\n",
              "          const dataTable =\n",
              "            await google.colab.kernel.invokeFunction('convertToInteractive',\n",
              "                                                     [key], {});\n",
              "          if (!dataTable) return;\n",
              "\n",
              "          const docLinkHtml = 'Like what you see? Visit the ' +\n",
              "            '<a target=\"_blank\" href=https://colab.research.google.com/notebooks/data_table.ipynb>data table notebook</a>'\n",
              "            + ' to learn more about interactive tables.';\n",
              "          element.innerHTML = '';\n",
              "          dataTable['output_type'] = 'display_data';\n",
              "          await google.colab.output.renderOutput(dataTable, element);\n",
              "          const docLink = document.createElement('div');\n",
              "          docLink.innerHTML = docLinkHtml;\n",
              "          element.appendChild(docLink);\n",
              "        }\n",
              "      </script>\n",
              "    </div>\n",
              "  </div>\n",
              "  "
            ]
          },
          "metadata": {},
          "execution_count": 10
        }
      ]
    },
    {
      "cell_type": "code",
      "source": [
        "## Eliminate features which contain more than 53% nan values due to large jump from 53% to 63% in our relevant features\n",
        "percent_missing_filtered_df[50:100]"
      ],
      "metadata": {
        "colab": {
          "base_uri": "https://localhost:8080/",
          "height": 1000
        },
        "id": "uZV3FQy7fExg",
        "outputId": "769351db-02dc-49e9-ced9-d27908ed9760"
      },
      "execution_count": null,
      "outputs": [
        {
          "output_type": "execute_result",
          "data": {
            "text/plain": [
              "                      0\n",
              "LSATIS11R_A    0.000000\n",
              "PHSTAT_A       0.000000\n",
              "MIEV_A         0.000000\n",
              "LIVEHEP_A      1.913032\n",
              "HINOTYR_A      7.530018\n",
              "DIBLAST1_A    10.630215\n",
              "COLOGUARD1_A  29.448477\n",
              "POLHLD1_A     36.374737\n",
              "PRRXCOV1_A    36.374737\n",
              "PLN1PAY1_A    36.374737\n",
              "PAIULMB3M_A   37.890916\n",
              "CVDRSLT_A     40.780815\n",
              "CURJOBSD1_A   44.243945\n",
              "JOBMISS_A     45.285259\n",
              "HYSTEV1_A     45.383624\n",
              "HICOSTR1_A    48.192117\n",
              "DXRESP_A      50.420596\n",
              "DEPLEVEL_A    52.499830\n",
              "ASPONOWN_A    62.434706\n",
              "MAMWHEN_A     63.133437\n",
              "HYPMED_A      63.852520\n",
              "MCPART_A      68.167017\n",
              "PSATEST_A     68.428193\n",
              "HYP12M_A      68.886100\n",
              "CHL12M_A      69.174412\n",
              "CHLMED_A      69.174412\n",
              "MCCHOICE_A    69.669629\n",
              "LIVEBIRTH_A   76.528051\n",
              "ECIGNOW_A     84.376908\n",
              "PSAREASON_A   85.051896\n",
              "ASTILL_A      86.245845\n",
              "SKNNMCAN_A    87.605997\n",
              "CANCOVTREA_A  87.605997\n",
              "SKNDKCAN_A    87.605997\n",
              "STOMACAN_A    87.605997\n",
              "SKNMCAN_A     87.605997\n",
              "THROACAN_A    87.605997\n",
              "THYROCAN_A    87.605997\n",
              "HDNCKCAN_A    87.605997\n",
              "RECTUCAN_A    87.605997\n",
              "BLADDCAN_A    87.605997\n",
              "LUNGCAN_A     87.605997\n",
              "BLOODCAN_A    87.605997\n",
              "ESOPHCAN_A    87.605997\n",
              "COLONCAN_A    87.605997\n",
              "GALLBCAN_A    87.605997\n",
              "BREASCAN_A    87.605997\n",
              "BRAINCAN_A    87.605997\n",
              "BONECAN_A     87.605997\n",
              "COLRCCAN_A    87.605997"
            ],
            "text/html": [
              "\n",
              "  <div id=\"df-2106e497-3d59-49b2-a3a7-c2f8c9031e34\">\n",
              "    <div class=\"colab-df-container\">\n",
              "      <div>\n",
              "<style scoped>\n",
              "    .dataframe tbody tr th:only-of-type {\n",
              "        vertical-align: middle;\n",
              "    }\n",
              "\n",
              "    .dataframe tbody tr th {\n",
              "        vertical-align: top;\n",
              "    }\n",
              "\n",
              "    .dataframe thead th {\n",
              "        text-align: right;\n",
              "    }\n",
              "</style>\n",
              "<table border=\"1\" class=\"dataframe\">\n",
              "  <thead>\n",
              "    <tr style=\"text-align: right;\">\n",
              "      <th></th>\n",
              "      <th>0</th>\n",
              "    </tr>\n",
              "  </thead>\n",
              "  <tbody>\n",
              "    <tr>\n",
              "      <th>LSATIS11R_A</th>\n",
              "      <td>0.000000</td>\n",
              "    </tr>\n",
              "    <tr>\n",
              "      <th>PHSTAT_A</th>\n",
              "      <td>0.000000</td>\n",
              "    </tr>\n",
              "    <tr>\n",
              "      <th>MIEV_A</th>\n",
              "      <td>0.000000</td>\n",
              "    </tr>\n",
              "    <tr>\n",
              "      <th>LIVEHEP_A</th>\n",
              "      <td>1.913032</td>\n",
              "    </tr>\n",
              "    <tr>\n",
              "      <th>HINOTYR_A</th>\n",
              "      <td>7.530018</td>\n",
              "    </tr>\n",
              "    <tr>\n",
              "      <th>DIBLAST1_A</th>\n",
              "      <td>10.630215</td>\n",
              "    </tr>\n",
              "    <tr>\n",
              "      <th>COLOGUARD1_A</th>\n",
              "      <td>29.448477</td>\n",
              "    </tr>\n",
              "    <tr>\n",
              "      <th>POLHLD1_A</th>\n",
              "      <td>36.374737</td>\n",
              "    </tr>\n",
              "    <tr>\n",
              "      <th>PRRXCOV1_A</th>\n",
              "      <td>36.374737</td>\n",
              "    </tr>\n",
              "    <tr>\n",
              "      <th>PLN1PAY1_A</th>\n",
              "      <td>36.374737</td>\n",
              "    </tr>\n",
              "    <tr>\n",
              "      <th>PAIULMB3M_A</th>\n",
              "      <td>37.890916</td>\n",
              "    </tr>\n",
              "    <tr>\n",
              "      <th>CVDRSLT_A</th>\n",
              "      <td>40.780815</td>\n",
              "    </tr>\n",
              "    <tr>\n",
              "      <th>CURJOBSD1_A</th>\n",
              "      <td>44.243945</td>\n",
              "    </tr>\n",
              "    <tr>\n",
              "      <th>JOBMISS_A</th>\n",
              "      <td>45.285259</td>\n",
              "    </tr>\n",
              "    <tr>\n",
              "      <th>HYSTEV1_A</th>\n",
              "      <td>45.383624</td>\n",
              "    </tr>\n",
              "    <tr>\n",
              "      <th>HICOSTR1_A</th>\n",
              "      <td>48.192117</td>\n",
              "    </tr>\n",
              "    <tr>\n",
              "      <th>DXRESP_A</th>\n",
              "      <td>50.420596</td>\n",
              "    </tr>\n",
              "    <tr>\n",
              "      <th>DEPLEVEL_A</th>\n",
              "      <td>52.499830</td>\n",
              "    </tr>\n",
              "    <tr>\n",
              "      <th>ASPONOWN_A</th>\n",
              "      <td>62.434706</td>\n",
              "    </tr>\n",
              "    <tr>\n",
              "      <th>MAMWHEN_A</th>\n",
              "      <td>63.133437</td>\n",
              "    </tr>\n",
              "    <tr>\n",
              "      <th>HYPMED_A</th>\n",
              "      <td>63.852520</td>\n",
              "    </tr>\n",
              "    <tr>\n",
              "      <th>MCPART_A</th>\n",
              "      <td>68.167017</td>\n",
              "    </tr>\n",
              "    <tr>\n",
              "      <th>PSATEST_A</th>\n",
              "      <td>68.428193</td>\n",
              "    </tr>\n",
              "    <tr>\n",
              "      <th>HYP12M_A</th>\n",
              "      <td>68.886100</td>\n",
              "    </tr>\n",
              "    <tr>\n",
              "      <th>CHL12M_A</th>\n",
              "      <td>69.174412</td>\n",
              "    </tr>\n",
              "    <tr>\n",
              "      <th>CHLMED_A</th>\n",
              "      <td>69.174412</td>\n",
              "    </tr>\n",
              "    <tr>\n",
              "      <th>MCCHOICE_A</th>\n",
              "      <td>69.669629</td>\n",
              "    </tr>\n",
              "    <tr>\n",
              "      <th>LIVEBIRTH_A</th>\n",
              "      <td>76.528051</td>\n",
              "    </tr>\n",
              "    <tr>\n",
              "      <th>ECIGNOW_A</th>\n",
              "      <td>84.376908</td>\n",
              "    </tr>\n",
              "    <tr>\n",
              "      <th>PSAREASON_A</th>\n",
              "      <td>85.051896</td>\n",
              "    </tr>\n",
              "    <tr>\n",
              "      <th>ASTILL_A</th>\n",
              "      <td>86.245845</td>\n",
              "    </tr>\n",
              "    <tr>\n",
              "      <th>SKNNMCAN_A</th>\n",
              "      <td>87.605997</td>\n",
              "    </tr>\n",
              "    <tr>\n",
              "      <th>CANCOVTREA_A</th>\n",
              "      <td>87.605997</td>\n",
              "    </tr>\n",
              "    <tr>\n",
              "      <th>SKNDKCAN_A</th>\n",
              "      <td>87.605997</td>\n",
              "    </tr>\n",
              "    <tr>\n",
              "      <th>STOMACAN_A</th>\n",
              "      <td>87.605997</td>\n",
              "    </tr>\n",
              "    <tr>\n",
              "      <th>SKNMCAN_A</th>\n",
              "      <td>87.605997</td>\n",
              "    </tr>\n",
              "    <tr>\n",
              "      <th>THROACAN_A</th>\n",
              "      <td>87.605997</td>\n",
              "    </tr>\n",
              "    <tr>\n",
              "      <th>THYROCAN_A</th>\n",
              "      <td>87.605997</td>\n",
              "    </tr>\n",
              "    <tr>\n",
              "      <th>HDNCKCAN_A</th>\n",
              "      <td>87.605997</td>\n",
              "    </tr>\n",
              "    <tr>\n",
              "      <th>RECTUCAN_A</th>\n",
              "      <td>87.605997</td>\n",
              "    </tr>\n",
              "    <tr>\n",
              "      <th>BLADDCAN_A</th>\n",
              "      <td>87.605997</td>\n",
              "    </tr>\n",
              "    <tr>\n",
              "      <th>LUNGCAN_A</th>\n",
              "      <td>87.605997</td>\n",
              "    </tr>\n",
              "    <tr>\n",
              "      <th>BLOODCAN_A</th>\n",
              "      <td>87.605997</td>\n",
              "    </tr>\n",
              "    <tr>\n",
              "      <th>ESOPHCAN_A</th>\n",
              "      <td>87.605997</td>\n",
              "    </tr>\n",
              "    <tr>\n",
              "      <th>COLONCAN_A</th>\n",
              "      <td>87.605997</td>\n",
              "    </tr>\n",
              "    <tr>\n",
              "      <th>GALLBCAN_A</th>\n",
              "      <td>87.605997</td>\n",
              "    </tr>\n",
              "    <tr>\n",
              "      <th>BREASCAN_A</th>\n",
              "      <td>87.605997</td>\n",
              "    </tr>\n",
              "    <tr>\n",
              "      <th>BRAINCAN_A</th>\n",
              "      <td>87.605997</td>\n",
              "    </tr>\n",
              "    <tr>\n",
              "      <th>BONECAN_A</th>\n",
              "      <td>87.605997</td>\n",
              "    </tr>\n",
              "    <tr>\n",
              "      <th>COLRCCAN_A</th>\n",
              "      <td>87.605997</td>\n",
              "    </tr>\n",
              "  </tbody>\n",
              "</table>\n",
              "</div>\n",
              "      <button class=\"colab-df-convert\" onclick=\"convertToInteractive('df-2106e497-3d59-49b2-a3a7-c2f8c9031e34')\"\n",
              "              title=\"Convert this dataframe to an interactive table.\"\n",
              "              style=\"display:none;\">\n",
              "        \n",
              "  <svg xmlns=\"http://www.w3.org/2000/svg\" height=\"24px\"viewBox=\"0 0 24 24\"\n",
              "       width=\"24px\">\n",
              "    <path d=\"M0 0h24v24H0V0z\" fill=\"none\"/>\n",
              "    <path d=\"M18.56 5.44l.94 2.06.94-2.06 2.06-.94-2.06-.94-.94-2.06-.94 2.06-2.06.94zm-11 1L8.5 8.5l.94-2.06 2.06-.94-2.06-.94L8.5 2.5l-.94 2.06-2.06.94zm10 10l.94 2.06.94-2.06 2.06-.94-2.06-.94-.94-2.06-.94 2.06-2.06.94z\"/><path d=\"M17.41 7.96l-1.37-1.37c-.4-.4-.92-.59-1.43-.59-.52 0-1.04.2-1.43.59L10.3 9.45l-7.72 7.72c-.78.78-.78 2.05 0 2.83L4 21.41c.39.39.9.59 1.41.59.51 0 1.02-.2 1.41-.59l7.78-7.78 2.81-2.81c.8-.78.8-2.07 0-2.86zM5.41 20L4 18.59l7.72-7.72 1.47 1.35L5.41 20z\"/>\n",
              "  </svg>\n",
              "      </button>\n",
              "      \n",
              "  <style>\n",
              "    .colab-df-container {\n",
              "      display:flex;\n",
              "      flex-wrap:wrap;\n",
              "      gap: 12px;\n",
              "    }\n",
              "\n",
              "    .colab-df-convert {\n",
              "      background-color: #E8F0FE;\n",
              "      border: none;\n",
              "      border-radius: 50%;\n",
              "      cursor: pointer;\n",
              "      display: none;\n",
              "      fill: #1967D2;\n",
              "      height: 32px;\n",
              "      padding: 0 0 0 0;\n",
              "      width: 32px;\n",
              "    }\n",
              "\n",
              "    .colab-df-convert:hover {\n",
              "      background-color: #E2EBFA;\n",
              "      box-shadow: 0px 1px 2px rgba(60, 64, 67, 0.3), 0px 1px 3px 1px rgba(60, 64, 67, 0.15);\n",
              "      fill: #174EA6;\n",
              "    }\n",
              "\n",
              "    [theme=dark] .colab-df-convert {\n",
              "      background-color: #3B4455;\n",
              "      fill: #D2E3FC;\n",
              "    }\n",
              "\n",
              "    [theme=dark] .colab-df-convert:hover {\n",
              "      background-color: #434B5C;\n",
              "      box-shadow: 0px 1px 3px 1px rgba(0, 0, 0, 0.15);\n",
              "      filter: drop-shadow(0px 1px 2px rgba(0, 0, 0, 0.3));\n",
              "      fill: #FFFFFF;\n",
              "    }\n",
              "  </style>\n",
              "\n",
              "      <script>\n",
              "        const buttonEl =\n",
              "          document.querySelector('#df-2106e497-3d59-49b2-a3a7-c2f8c9031e34 button.colab-df-convert');\n",
              "        buttonEl.style.display =\n",
              "          google.colab.kernel.accessAllowed ? 'block' : 'none';\n",
              "\n",
              "        async function convertToInteractive(key) {\n",
              "          const element = document.querySelector('#df-2106e497-3d59-49b2-a3a7-c2f8c9031e34');\n",
              "          const dataTable =\n",
              "            await google.colab.kernel.invokeFunction('convertToInteractive',\n",
              "                                                     [key], {});\n",
              "          if (!dataTable) return;\n",
              "\n",
              "          const docLinkHtml = 'Like what you see? Visit the ' +\n",
              "            '<a target=\"_blank\" href=https://colab.research.google.com/notebooks/data_table.ipynb>data table notebook</a>'\n",
              "            + ' to learn more about interactive tables.';\n",
              "          element.innerHTML = '';\n",
              "          dataTable['output_type'] = 'display_data';\n",
              "          await google.colab.output.renderOutput(dataTable, element);\n",
              "          const docLink = document.createElement('div');\n",
              "          docLink.innerHTML = docLinkHtml;\n",
              "          element.appendChild(docLink);\n",
              "        }\n",
              "      </script>\n",
              "    </div>\n",
              "  </div>\n",
              "  "
            ]
          },
          "metadata": {},
          "execution_count": 11
        }
      ]
    },
    {
      "cell_type": "code",
      "source": [
        "# renamed columns so it's easier to work with\n",
        "percent_missing_filtered_df= percent_missing_filtered_df.reset_index()\n",
        "percent_missing_filtered_df.rename(columns={'index': 'colname', 0: 'percent_missing'}, inplace=True)\n",
        "percent_missing_filtered_df"
      ],
      "metadata": {
        "colab": {
          "base_uri": "https://localhost:8080/",
          "height": 424
        },
        "id": "Mp5ROU2kgL6R",
        "outputId": "b7329c71-a78d-4826-e1f4-5ee950f24445"
      },
      "execution_count": null,
      "outputs": [
        {
          "output_type": "execute_result",
          "data": {
            "text/plain": [
              "          colname  percent_missing\n",
              "0      HLTHCOND_A         0.000000\n",
              "1         HICOV_A         0.000000\n",
              "2      SINCOVRX_A         0.000000\n",
              "3        NOTCOV_A         0.000000\n",
              "4       COMDIFF_A         0.000000\n",
              "..            ...              ...\n",
              "130    HICOSTR2_A        98.656808\n",
              "131      OPPREM_A        99.430161\n",
              "132  FAMCARECVD_A        99.457296\n",
              "133   PLNEXCHG2_A        99.681161\n",
              "134      CHPREM_A        99.983040\n",
              "\n",
              "[135 rows x 2 columns]"
            ],
            "text/html": [
              "\n",
              "  <div id=\"df-f4d64a14-3ba2-4ffc-8688-1ceef8c1860c\">\n",
              "    <div class=\"colab-df-container\">\n",
              "      <div>\n",
              "<style scoped>\n",
              "    .dataframe tbody tr th:only-of-type {\n",
              "        vertical-align: middle;\n",
              "    }\n",
              "\n",
              "    .dataframe tbody tr th {\n",
              "        vertical-align: top;\n",
              "    }\n",
              "\n",
              "    .dataframe thead th {\n",
              "        text-align: right;\n",
              "    }\n",
              "</style>\n",
              "<table border=\"1\" class=\"dataframe\">\n",
              "  <thead>\n",
              "    <tr style=\"text-align: right;\">\n",
              "      <th></th>\n",
              "      <th>colname</th>\n",
              "      <th>percent_missing</th>\n",
              "    </tr>\n",
              "  </thead>\n",
              "  <tbody>\n",
              "    <tr>\n",
              "      <th>0</th>\n",
              "      <td>HLTHCOND_A</td>\n",
              "      <td>0.000000</td>\n",
              "    </tr>\n",
              "    <tr>\n",
              "      <th>1</th>\n",
              "      <td>HICOV_A</td>\n",
              "      <td>0.000000</td>\n",
              "    </tr>\n",
              "    <tr>\n",
              "      <th>2</th>\n",
              "      <td>SINCOVRX_A</td>\n",
              "      <td>0.000000</td>\n",
              "    </tr>\n",
              "    <tr>\n",
              "      <th>3</th>\n",
              "      <td>NOTCOV_A</td>\n",
              "      <td>0.000000</td>\n",
              "    </tr>\n",
              "    <tr>\n",
              "      <th>4</th>\n",
              "      <td>COMDIFF_A</td>\n",
              "      <td>0.000000</td>\n",
              "    </tr>\n",
              "    <tr>\n",
              "      <th>...</th>\n",
              "      <td>...</td>\n",
              "      <td>...</td>\n",
              "    </tr>\n",
              "    <tr>\n",
              "      <th>130</th>\n",
              "      <td>HICOSTR2_A</td>\n",
              "      <td>98.656808</td>\n",
              "    </tr>\n",
              "    <tr>\n",
              "      <th>131</th>\n",
              "      <td>OPPREM_A</td>\n",
              "      <td>99.430161</td>\n",
              "    </tr>\n",
              "    <tr>\n",
              "      <th>132</th>\n",
              "      <td>FAMCARECVD_A</td>\n",
              "      <td>99.457296</td>\n",
              "    </tr>\n",
              "    <tr>\n",
              "      <th>133</th>\n",
              "      <td>PLNEXCHG2_A</td>\n",
              "      <td>99.681161</td>\n",
              "    </tr>\n",
              "    <tr>\n",
              "      <th>134</th>\n",
              "      <td>CHPREM_A</td>\n",
              "      <td>99.983040</td>\n",
              "    </tr>\n",
              "  </tbody>\n",
              "</table>\n",
              "<p>135 rows × 2 columns</p>\n",
              "</div>\n",
              "      <button class=\"colab-df-convert\" onclick=\"convertToInteractive('df-f4d64a14-3ba2-4ffc-8688-1ceef8c1860c')\"\n",
              "              title=\"Convert this dataframe to an interactive table.\"\n",
              "              style=\"display:none;\">\n",
              "        \n",
              "  <svg xmlns=\"http://www.w3.org/2000/svg\" height=\"24px\"viewBox=\"0 0 24 24\"\n",
              "       width=\"24px\">\n",
              "    <path d=\"M0 0h24v24H0V0z\" fill=\"none\"/>\n",
              "    <path d=\"M18.56 5.44l.94 2.06.94-2.06 2.06-.94-2.06-.94-.94-2.06-.94 2.06-2.06.94zm-11 1L8.5 8.5l.94-2.06 2.06-.94-2.06-.94L8.5 2.5l-.94 2.06-2.06.94zm10 10l.94 2.06.94-2.06 2.06-.94-2.06-.94-.94-2.06-.94 2.06-2.06.94z\"/><path d=\"M17.41 7.96l-1.37-1.37c-.4-.4-.92-.59-1.43-.59-.52 0-1.04.2-1.43.59L10.3 9.45l-7.72 7.72c-.78.78-.78 2.05 0 2.83L4 21.41c.39.39.9.59 1.41.59.51 0 1.02-.2 1.41-.59l7.78-7.78 2.81-2.81c.8-.78.8-2.07 0-2.86zM5.41 20L4 18.59l7.72-7.72 1.47 1.35L5.41 20z\"/>\n",
              "  </svg>\n",
              "      </button>\n",
              "      \n",
              "  <style>\n",
              "    .colab-df-container {\n",
              "      display:flex;\n",
              "      flex-wrap:wrap;\n",
              "      gap: 12px;\n",
              "    }\n",
              "\n",
              "    .colab-df-convert {\n",
              "      background-color: #E8F0FE;\n",
              "      border: none;\n",
              "      border-radius: 50%;\n",
              "      cursor: pointer;\n",
              "      display: none;\n",
              "      fill: #1967D2;\n",
              "      height: 32px;\n",
              "      padding: 0 0 0 0;\n",
              "      width: 32px;\n",
              "    }\n",
              "\n",
              "    .colab-df-convert:hover {\n",
              "      background-color: #E2EBFA;\n",
              "      box-shadow: 0px 1px 2px rgba(60, 64, 67, 0.3), 0px 1px 3px 1px rgba(60, 64, 67, 0.15);\n",
              "      fill: #174EA6;\n",
              "    }\n",
              "\n",
              "    [theme=dark] .colab-df-convert {\n",
              "      background-color: #3B4455;\n",
              "      fill: #D2E3FC;\n",
              "    }\n",
              "\n",
              "    [theme=dark] .colab-df-convert:hover {\n",
              "      background-color: #434B5C;\n",
              "      box-shadow: 0px 1px 3px 1px rgba(0, 0, 0, 0.15);\n",
              "      filter: drop-shadow(0px 1px 2px rgba(0, 0, 0, 0.3));\n",
              "      fill: #FFFFFF;\n",
              "    }\n",
              "  </style>\n",
              "\n",
              "      <script>\n",
              "        const buttonEl =\n",
              "          document.querySelector('#df-f4d64a14-3ba2-4ffc-8688-1ceef8c1860c button.colab-df-convert');\n",
              "        buttonEl.style.display =\n",
              "          google.colab.kernel.accessAllowed ? 'block' : 'none';\n",
              "\n",
              "        async function convertToInteractive(key) {\n",
              "          const element = document.querySelector('#df-f4d64a14-3ba2-4ffc-8688-1ceef8c1860c');\n",
              "          const dataTable =\n",
              "            await google.colab.kernel.invokeFunction('convertToInteractive',\n",
              "                                                     [key], {});\n",
              "          if (!dataTable) return;\n",
              "\n",
              "          const docLinkHtml = 'Like what you see? Visit the ' +\n",
              "            '<a target=\"_blank\" href=https://colab.research.google.com/notebooks/data_table.ipynb>data table notebook</a>'\n",
              "            + ' to learn more about interactive tables.';\n",
              "          element.innerHTML = '';\n",
              "          dataTable['output_type'] = 'display_data';\n",
              "          await google.colab.output.renderOutput(dataTable, element);\n",
              "          const docLink = document.createElement('div');\n",
              "          docLink.innerHTML = docLinkHtml;\n",
              "          element.appendChild(docLink);\n",
              "        }\n",
              "      </script>\n",
              "    </div>\n",
              "  </div>\n",
              "  "
            ]
          },
          "metadata": {},
          "execution_count": 12
        }
      ]
    },
    {
      "cell_type": "code",
      "source": [
        "med_data_keep_col = percent_missing_filtered_df[percent_missing_filtered_df.percent_missing < 53]\n",
        "med_data_keep_col['colname'].array"
      ],
      "metadata": {
        "colab": {
          "base_uri": "https://localhost:8080/"
        },
        "id": "ZMr75xh-g43A",
        "outputId": "23514a85-6600-4a76-ef85-0d422c49514b"
      },
      "execution_count": null,
      "outputs": [
        {
          "output_type": "execute_result",
          "data": {
            "text/plain": [
              "<PandasArray>\n",
              "[  'HLTHCOND_A',      'HICOV_A',   'SINCOVRX_A',     'NOTCOV_A',\n",
              "    'COMDIFF_A',   'HEIGHTTC_A',      'EPIEV_A', 'COLDFLU12M_A',\n",
              "      'CFSEV_A',    'LIVEREV_A',      'HEPEV_A',  'KIDWEAKEV_A',\n",
              "      'DEPEV_A',      'ANXEV_A',    'DEMENEV_A',     'ARTHEV_A',\n",
              "  'PAYBLL12M_A',   'PAYWORRY_A',    'CVDDIAG_A',     'LASTDR_A',\n",
              "     'MHTHND_A',        'SAD_A',     'DEPMED_A',    'ANXFREQ_A',\n",
              "   'CHOLLAST_A',     'BPLAST_A',    'SUPPORT_A',     'COPDEV_A',\n",
              "     'ECIGEV_A',   'FSNAP12M_A',    'INCWRKO_A',    'DNGCARE_A',\n",
              "    'DLYCARE_A',   'HOSPONGT_A', 'EMERG12MTC_A', 'URGNT12MTC_A',\n",
              " 'FDSBALANCE_A',      'DIBEV_A', 'WEIGHTLBTC_A',       'ASEV_A',\n",
              "       'URBRRL',       'AGEP_A',        'SEX_A',      'CANEV_A',\n",
              "       'WTFA_A',      'STREV_A',      'EDUCP_A',      'ANGEV_A',\n",
              "      'CHDEV_A',   'LSATIS4R_A',  'LSATIS11R_A',     'PHSTAT_A',\n",
              "       'MIEV_A',    'LIVEHEP_A',    'HINOTYR_A',   'DIBLAST1_A',\n",
              " 'COLOGUARD1_A',    'POLHLD1_A',   'PRRXCOV1_A',   'PLN1PAY1_A',\n",
              "  'PAIULMB3M_A',    'CVDRSLT_A',  'CURJOBSD1_A',    'JOBMISS_A',\n",
              "    'HYSTEV1_A',   'HICOSTR1_A',     'DXRESP_A',   'DEPLEVEL_A']\n",
              "Length: 68, dtype: object"
            ]
          },
          "metadata": {},
          "execution_count": 13
        }
      ]
    },
    {
      "cell_type": "code",
      "source": [
        "med_data_col_filter = med_data[[  'HLTHCOND_A',      'HICOV_A',   'SINCOVRX_A',     'NOTCOV_A',\n",
        "    'COMDIFF_A',   'HEIGHTTC_A',      'EPIEV_A', 'COLDFLU12M_A',\n",
        "      'CFSEV_A',    'LIVEREV_A',      'HEPEV_A',  'KIDWEAKEV_A',\n",
        "      'DEPEV_A',      'ANXEV_A',    'DEMENEV_A',     'ARTHEV_A',\n",
        "  'PAYBLL12M_A',   'PAYWORRY_A',    'CVDDIAG_A',     'LASTDR_A',\n",
        "     'MHTHND_A',        'SAD_A',     'DEPMED_A',    'ANXFREQ_A',\n",
        "   'CHOLLAST_A',     'BPLAST_A',    'SUPPORT_A',     'COPDEV_A',\n",
        "     'ECIGEV_A',   'FSNAP12M_A',    'INCWRKO_A',    'DNGCARE_A',\n",
        "    'DLYCARE_A',   'HOSPONGT_A', 'EMERG12MTC_A', 'URGNT12MTC_A',\n",
        " 'FDSBALANCE_A',      'DIBEV_A', 'WEIGHTLBTC_A',       'ASEV_A',\n",
        "       'URBRRL',       'AGEP_A',        'SEX_A',      'CANEV_A',\n",
        "       'WTFA_A',      'STREV_A',      'EDUCP_A',      'ANGEV_A',\n",
        "      'CHDEV_A',   'LSATIS4R_A',  'LSATIS11R_A',     'PHSTAT_A',\n",
        "       'MIEV_A',    'LIVEHEP_A',    'HINOTYR_A',   'DIBLAST1_A',\n",
        " 'COLOGUARD1_A',    'POLHLD1_A',   'PRRXCOV1_A',   'PLN1PAY1_A',\n",
        "  'PAIULMB3M_A',    'CVDRSLT_A',  'CURJOBSD1_A',    'JOBMISS_A',\n",
        "    'HYSTEV1_A',   'HICOSTR1_A',     'DXRESP_A',   'DEPLEVEL_A']]"
      ],
      "metadata": {
        "id": "78NLaI6jhw1a"
      },
      "execution_count": null,
      "outputs": []
    },
    {
      "cell_type": "code",
      "source": [
        "## Check to ensure all values are numerical and do not require one-hot encoding\n",
        "num_missing_filtered = med_data_col_filter.isnull().sum() * 100 / len(med_data_col_filter)\n",
        "num_missing_filtered"
      ],
      "metadata": {
        "colab": {
          "base_uri": "https://localhost:8080/"
        },
        "id": "NRUItw8gi1ax",
        "outputId": "9e231c4e-45e1-44d7-b777-617bdf0469bf"
      },
      "execution_count": null,
      "outputs": [
        {
          "output_type": "execute_result",
          "data": {
            "text/plain": [
              "HLTHCOND_A     0.000000\n",
              "HICOV_A        0.000000\n",
              "SINCOVRX_A     0.000000\n",
              "NOTCOV_A       0.000000\n",
              "COMDIFF_A      0.000000\n",
              "                ...    \n",
              "JOBMISS_A     45.285259\n",
              "HYSTEV1_A     45.383624\n",
              "HICOSTR1_A    48.192117\n",
              "DXRESP_A      50.420596\n",
              "DEPLEVEL_A    52.499830\n",
              "Length: 68, dtype: float64"
            ]
          },
          "metadata": {},
          "execution_count": 15
        }
      ]
    },
    {
      "cell_type": "code",
      "source": [
        "## FOr the remaining features with nan values, impute the values to \"don't know response\", or the number 9\n",
        "med_data_col_filter_fillna = med_data_col_filter.fillna(9)"
      ],
      "metadata": {
        "id": "LNlcbi3FjLAd"
      },
      "execution_count": null,
      "outputs": []
    },
    {
      "cell_type": "code",
      "source": [
        "med_data_col_filter_fillna"
      ],
      "metadata": {
        "colab": {
          "base_uri": "https://localhost:8080/",
          "height": 488
        },
        "id": "Yv88_lH4jpDm",
        "outputId": "17027a85-9e46-4bf6-f3a8-dbe96f2f7baf"
      },
      "execution_count": null,
      "outputs": [
        {
          "output_type": "execute_result",
          "data": {
            "text/plain": [
              "       HLTHCOND_A  HICOV_A  SINCOVRX_A  NOTCOV_A  COMDIFF_A  HEIGHTTC_A  \\\n",
              "0               2        1           2         2          1          69   \n",
              "1               2        1           1         2          1          75   \n",
              "2               2        1           1         2          1          67   \n",
              "3               1        1           2         2          1          63   \n",
              "4               2        1           1         2          1          72   \n",
              "...           ...      ...         ...       ...        ...         ...   \n",
              "29477           2        1           2         2          1          61   \n",
              "29478           1        1           2         2          1          68   \n",
              "29479           2        1           2         2          3          60   \n",
              "29480           2        1           2         2          2          71   \n",
              "29481           2        1           2         2          2          60   \n",
              "\n",
              "       EPIEV_A  COLDFLU12M_A  CFSEV_A  LIVEREV_A  ...  PRRXCOV1_A  PLN1PAY1_A  \\\n",
              "0            2             2        2          2  ...         1.0         1.0   \n",
              "1            2             2        2          2  ...         1.0         1.0   \n",
              "2            2             2        2          2  ...         1.0         1.0   \n",
              "3            2             2        2          2  ...         9.0         9.0   \n",
              "4            2             2        2          2  ...         1.0         1.0   \n",
              "...        ...           ...      ...        ...  ...         ...         ...   \n",
              "29477        2             2        2          2  ...         7.0         1.0   \n",
              "29478        2             2        2          2  ...         1.0         1.0   \n",
              "29479        2             2        2          2  ...         9.0         9.0   \n",
              "29480        1             2        2          2  ...         9.0         9.0   \n",
              "29481        2             2        2          2  ...         1.0         1.0   \n",
              "\n",
              "       PAIULMB3M_A  CVDRSLT_A  CURJOBSD1_A  JOBMISS_A  HYSTEV1_A  HICOSTR1_A  \\\n",
              "0              2.0        2.0          1.0        0.0        9.0      1440.0   \n",
              "1              1.0        1.0          1.0       18.0        9.0      3600.0   \n",
              "2              2.0        1.0          1.0       21.0        9.0      3000.0   \n",
              "3              3.0        2.0          9.0        9.0        2.0         9.0   \n",
              "4              9.0        2.0          9.0        9.0        9.0     99999.0   \n",
              "...            ...        ...          ...        ...        ...         ...   \n",
              "29477          1.0        9.0          9.0        9.0        2.0     99997.0   \n",
              "29478          3.0        1.0          1.0        0.0        2.0       360.0   \n",
              "29479          3.0        2.0          9.0        9.0        2.0         9.0   \n",
              "29480          2.0        9.0          9.0        9.0        9.0         9.0   \n",
              "29481          3.0        2.0          9.0        9.0        1.0     11916.0   \n",
              "\n",
              "       DXRESP_A  DEPLEVEL_A  \n",
              "0           1.0         9.0  \n",
              "1           9.0         9.0  \n",
              "2           1.0         1.0  \n",
              "3           9.0         3.0  \n",
              "4           9.0         9.0  \n",
              "...         ...         ...  \n",
              "29477       1.0         2.0  \n",
              "29478       9.0         3.0  \n",
              "29479       1.0         1.0  \n",
              "29480       1.0         1.0  \n",
              "29481       2.0         2.0  \n",
              "\n",
              "[29482 rows x 68 columns]"
            ],
            "text/html": [
              "\n",
              "  <div id=\"df-a7404cc5-d28b-4508-9864-51cb40475a0e\">\n",
              "    <div class=\"colab-df-container\">\n",
              "      <div>\n",
              "<style scoped>\n",
              "    .dataframe tbody tr th:only-of-type {\n",
              "        vertical-align: middle;\n",
              "    }\n",
              "\n",
              "    .dataframe tbody tr th {\n",
              "        vertical-align: top;\n",
              "    }\n",
              "\n",
              "    .dataframe thead th {\n",
              "        text-align: right;\n",
              "    }\n",
              "</style>\n",
              "<table border=\"1\" class=\"dataframe\">\n",
              "  <thead>\n",
              "    <tr style=\"text-align: right;\">\n",
              "      <th></th>\n",
              "      <th>HLTHCOND_A</th>\n",
              "      <th>HICOV_A</th>\n",
              "      <th>SINCOVRX_A</th>\n",
              "      <th>NOTCOV_A</th>\n",
              "      <th>COMDIFF_A</th>\n",
              "      <th>HEIGHTTC_A</th>\n",
              "      <th>EPIEV_A</th>\n",
              "      <th>COLDFLU12M_A</th>\n",
              "      <th>CFSEV_A</th>\n",
              "      <th>LIVEREV_A</th>\n",
              "      <th>...</th>\n",
              "      <th>PRRXCOV1_A</th>\n",
              "      <th>PLN1PAY1_A</th>\n",
              "      <th>PAIULMB3M_A</th>\n",
              "      <th>CVDRSLT_A</th>\n",
              "      <th>CURJOBSD1_A</th>\n",
              "      <th>JOBMISS_A</th>\n",
              "      <th>HYSTEV1_A</th>\n",
              "      <th>HICOSTR1_A</th>\n",
              "      <th>DXRESP_A</th>\n",
              "      <th>DEPLEVEL_A</th>\n",
              "    </tr>\n",
              "  </thead>\n",
              "  <tbody>\n",
              "    <tr>\n",
              "      <th>0</th>\n",
              "      <td>2</td>\n",
              "      <td>1</td>\n",
              "      <td>2</td>\n",
              "      <td>2</td>\n",
              "      <td>1</td>\n",
              "      <td>69</td>\n",
              "      <td>2</td>\n",
              "      <td>2</td>\n",
              "      <td>2</td>\n",
              "      <td>2</td>\n",
              "      <td>...</td>\n",
              "      <td>1.0</td>\n",
              "      <td>1.0</td>\n",
              "      <td>2.0</td>\n",
              "      <td>2.0</td>\n",
              "      <td>1.0</td>\n",
              "      <td>0.0</td>\n",
              "      <td>9.0</td>\n",
              "      <td>1440.0</td>\n",
              "      <td>1.0</td>\n",
              "      <td>9.0</td>\n",
              "    </tr>\n",
              "    <tr>\n",
              "      <th>1</th>\n",
              "      <td>2</td>\n",
              "      <td>1</td>\n",
              "      <td>1</td>\n",
              "      <td>2</td>\n",
              "      <td>1</td>\n",
              "      <td>75</td>\n",
              "      <td>2</td>\n",
              "      <td>2</td>\n",
              "      <td>2</td>\n",
              "      <td>2</td>\n",
              "      <td>...</td>\n",
              "      <td>1.0</td>\n",
              "      <td>1.0</td>\n",
              "      <td>1.0</td>\n",
              "      <td>1.0</td>\n",
              "      <td>1.0</td>\n",
              "      <td>18.0</td>\n",
              "      <td>9.0</td>\n",
              "      <td>3600.0</td>\n",
              "      <td>9.0</td>\n",
              "      <td>9.0</td>\n",
              "    </tr>\n",
              "    <tr>\n",
              "      <th>2</th>\n",
              "      <td>2</td>\n",
              "      <td>1</td>\n",
              "      <td>1</td>\n",
              "      <td>2</td>\n",
              "      <td>1</td>\n",
              "      <td>67</td>\n",
              "      <td>2</td>\n",
              "      <td>2</td>\n",
              "      <td>2</td>\n",
              "      <td>2</td>\n",
              "      <td>...</td>\n",
              "      <td>1.0</td>\n",
              "      <td>1.0</td>\n",
              "      <td>2.0</td>\n",
              "      <td>1.0</td>\n",
              "      <td>1.0</td>\n",
              "      <td>21.0</td>\n",
              "      <td>9.0</td>\n",
              "      <td>3000.0</td>\n",
              "      <td>1.0</td>\n",
              "      <td>1.0</td>\n",
              "    </tr>\n",
              "    <tr>\n",
              "      <th>3</th>\n",
              "      <td>1</td>\n",
              "      <td>1</td>\n",
              "      <td>2</td>\n",
              "      <td>2</td>\n",
              "      <td>1</td>\n",
              "      <td>63</td>\n",
              "      <td>2</td>\n",
              "      <td>2</td>\n",
              "      <td>2</td>\n",
              "      <td>2</td>\n",
              "      <td>...</td>\n",
              "      <td>9.0</td>\n",
              "      <td>9.0</td>\n",
              "      <td>3.0</td>\n",
              "      <td>2.0</td>\n",
              "      <td>9.0</td>\n",
              "      <td>9.0</td>\n",
              "      <td>2.0</td>\n",
              "      <td>9.0</td>\n",
              "      <td>9.0</td>\n",
              "      <td>3.0</td>\n",
              "    </tr>\n",
              "    <tr>\n",
              "      <th>4</th>\n",
              "      <td>2</td>\n",
              "      <td>1</td>\n",
              "      <td>1</td>\n",
              "      <td>2</td>\n",
              "      <td>1</td>\n",
              "      <td>72</td>\n",
              "      <td>2</td>\n",
              "      <td>2</td>\n",
              "      <td>2</td>\n",
              "      <td>2</td>\n",
              "      <td>...</td>\n",
              "      <td>1.0</td>\n",
              "      <td>1.0</td>\n",
              "      <td>9.0</td>\n",
              "      <td>2.0</td>\n",
              "      <td>9.0</td>\n",
              "      <td>9.0</td>\n",
              "      <td>9.0</td>\n",
              "      <td>99999.0</td>\n",
              "      <td>9.0</td>\n",
              "      <td>9.0</td>\n",
              "    </tr>\n",
              "    <tr>\n",
              "      <th>...</th>\n",
              "      <td>...</td>\n",
              "      <td>...</td>\n",
              "      <td>...</td>\n",
              "      <td>...</td>\n",
              "      <td>...</td>\n",
              "      <td>...</td>\n",
              "      <td>...</td>\n",
              "      <td>...</td>\n",
              "      <td>...</td>\n",
              "      <td>...</td>\n",
              "      <td>...</td>\n",
              "      <td>...</td>\n",
              "      <td>...</td>\n",
              "      <td>...</td>\n",
              "      <td>...</td>\n",
              "      <td>...</td>\n",
              "      <td>...</td>\n",
              "      <td>...</td>\n",
              "      <td>...</td>\n",
              "      <td>...</td>\n",
              "      <td>...</td>\n",
              "    </tr>\n",
              "    <tr>\n",
              "      <th>29477</th>\n",
              "      <td>2</td>\n",
              "      <td>1</td>\n",
              "      <td>2</td>\n",
              "      <td>2</td>\n",
              "      <td>1</td>\n",
              "      <td>61</td>\n",
              "      <td>2</td>\n",
              "      <td>2</td>\n",
              "      <td>2</td>\n",
              "      <td>2</td>\n",
              "      <td>...</td>\n",
              "      <td>7.0</td>\n",
              "      <td>1.0</td>\n",
              "      <td>1.0</td>\n",
              "      <td>9.0</td>\n",
              "      <td>9.0</td>\n",
              "      <td>9.0</td>\n",
              "      <td>2.0</td>\n",
              "      <td>99997.0</td>\n",
              "      <td>1.0</td>\n",
              "      <td>2.0</td>\n",
              "    </tr>\n",
              "    <tr>\n",
              "      <th>29478</th>\n",
              "      <td>1</td>\n",
              "      <td>1</td>\n",
              "      <td>2</td>\n",
              "      <td>2</td>\n",
              "      <td>1</td>\n",
              "      <td>68</td>\n",
              "      <td>2</td>\n",
              "      <td>2</td>\n",
              "      <td>2</td>\n",
              "      <td>2</td>\n",
              "      <td>...</td>\n",
              "      <td>1.0</td>\n",
              "      <td>1.0</td>\n",
              "      <td>3.0</td>\n",
              "      <td>1.0</td>\n",
              "      <td>1.0</td>\n",
              "      <td>0.0</td>\n",
              "      <td>2.0</td>\n",
              "      <td>360.0</td>\n",
              "      <td>9.0</td>\n",
              "      <td>3.0</td>\n",
              "    </tr>\n",
              "    <tr>\n",
              "      <th>29479</th>\n",
              "      <td>2</td>\n",
              "      <td>1</td>\n",
              "      <td>2</td>\n",
              "      <td>2</td>\n",
              "      <td>3</td>\n",
              "      <td>60</td>\n",
              "      <td>2</td>\n",
              "      <td>2</td>\n",
              "      <td>2</td>\n",
              "      <td>2</td>\n",
              "      <td>...</td>\n",
              "      <td>9.0</td>\n",
              "      <td>9.0</td>\n",
              "      <td>3.0</td>\n",
              "      <td>2.0</td>\n",
              "      <td>9.0</td>\n",
              "      <td>9.0</td>\n",
              "      <td>2.0</td>\n",
              "      <td>9.0</td>\n",
              "      <td>1.0</td>\n",
              "      <td>1.0</td>\n",
              "    </tr>\n",
              "    <tr>\n",
              "      <th>29480</th>\n",
              "      <td>2</td>\n",
              "      <td>1</td>\n",
              "      <td>2</td>\n",
              "      <td>2</td>\n",
              "      <td>2</td>\n",
              "      <td>71</td>\n",
              "      <td>1</td>\n",
              "      <td>2</td>\n",
              "      <td>2</td>\n",
              "      <td>2</td>\n",
              "      <td>...</td>\n",
              "      <td>9.0</td>\n",
              "      <td>9.0</td>\n",
              "      <td>2.0</td>\n",
              "      <td>9.0</td>\n",
              "      <td>9.0</td>\n",
              "      <td>9.0</td>\n",
              "      <td>9.0</td>\n",
              "      <td>9.0</td>\n",
              "      <td>1.0</td>\n",
              "      <td>1.0</td>\n",
              "    </tr>\n",
              "    <tr>\n",
              "      <th>29481</th>\n",
              "      <td>2</td>\n",
              "      <td>1</td>\n",
              "      <td>2</td>\n",
              "      <td>2</td>\n",
              "      <td>2</td>\n",
              "      <td>60</td>\n",
              "      <td>2</td>\n",
              "      <td>2</td>\n",
              "      <td>2</td>\n",
              "      <td>2</td>\n",
              "      <td>...</td>\n",
              "      <td>1.0</td>\n",
              "      <td>1.0</td>\n",
              "      <td>3.0</td>\n",
              "      <td>2.0</td>\n",
              "      <td>9.0</td>\n",
              "      <td>9.0</td>\n",
              "      <td>1.0</td>\n",
              "      <td>11916.0</td>\n",
              "      <td>2.0</td>\n",
              "      <td>2.0</td>\n",
              "    </tr>\n",
              "  </tbody>\n",
              "</table>\n",
              "<p>29482 rows × 68 columns</p>\n",
              "</div>\n",
              "      <button class=\"colab-df-convert\" onclick=\"convertToInteractive('df-a7404cc5-d28b-4508-9864-51cb40475a0e')\"\n",
              "              title=\"Convert this dataframe to an interactive table.\"\n",
              "              style=\"display:none;\">\n",
              "        \n",
              "  <svg xmlns=\"http://www.w3.org/2000/svg\" height=\"24px\"viewBox=\"0 0 24 24\"\n",
              "       width=\"24px\">\n",
              "    <path d=\"M0 0h24v24H0V0z\" fill=\"none\"/>\n",
              "    <path d=\"M18.56 5.44l.94 2.06.94-2.06 2.06-.94-2.06-.94-.94-2.06-.94 2.06-2.06.94zm-11 1L8.5 8.5l.94-2.06 2.06-.94-2.06-.94L8.5 2.5l-.94 2.06-2.06.94zm10 10l.94 2.06.94-2.06 2.06-.94-2.06-.94-.94-2.06-.94 2.06-2.06.94z\"/><path d=\"M17.41 7.96l-1.37-1.37c-.4-.4-.92-.59-1.43-.59-.52 0-1.04.2-1.43.59L10.3 9.45l-7.72 7.72c-.78.78-.78 2.05 0 2.83L4 21.41c.39.39.9.59 1.41.59.51 0 1.02-.2 1.41-.59l7.78-7.78 2.81-2.81c.8-.78.8-2.07 0-2.86zM5.41 20L4 18.59l7.72-7.72 1.47 1.35L5.41 20z\"/>\n",
              "  </svg>\n",
              "      </button>\n",
              "      \n",
              "  <style>\n",
              "    .colab-df-container {\n",
              "      display:flex;\n",
              "      flex-wrap:wrap;\n",
              "      gap: 12px;\n",
              "    }\n",
              "\n",
              "    .colab-df-convert {\n",
              "      background-color: #E8F0FE;\n",
              "      border: none;\n",
              "      border-radius: 50%;\n",
              "      cursor: pointer;\n",
              "      display: none;\n",
              "      fill: #1967D2;\n",
              "      height: 32px;\n",
              "      padding: 0 0 0 0;\n",
              "      width: 32px;\n",
              "    }\n",
              "\n",
              "    .colab-df-convert:hover {\n",
              "      background-color: #E2EBFA;\n",
              "      box-shadow: 0px 1px 2px rgba(60, 64, 67, 0.3), 0px 1px 3px 1px rgba(60, 64, 67, 0.15);\n",
              "      fill: #174EA6;\n",
              "    }\n",
              "\n",
              "    [theme=dark] .colab-df-convert {\n",
              "      background-color: #3B4455;\n",
              "      fill: #D2E3FC;\n",
              "    }\n",
              "\n",
              "    [theme=dark] .colab-df-convert:hover {\n",
              "      background-color: #434B5C;\n",
              "      box-shadow: 0px 1px 3px 1px rgba(0, 0, 0, 0.15);\n",
              "      filter: drop-shadow(0px 1px 2px rgba(0, 0, 0, 0.3));\n",
              "      fill: #FFFFFF;\n",
              "    }\n",
              "  </style>\n",
              "\n",
              "      <script>\n",
              "        const buttonEl =\n",
              "          document.querySelector('#df-a7404cc5-d28b-4508-9864-51cb40475a0e button.colab-df-convert');\n",
              "        buttonEl.style.display =\n",
              "          google.colab.kernel.accessAllowed ? 'block' : 'none';\n",
              "\n",
              "        async function convertToInteractive(key) {\n",
              "          const element = document.querySelector('#df-a7404cc5-d28b-4508-9864-51cb40475a0e');\n",
              "          const dataTable =\n",
              "            await google.colab.kernel.invokeFunction('convertToInteractive',\n",
              "                                                     [key], {});\n",
              "          if (!dataTable) return;\n",
              "\n",
              "          const docLinkHtml = 'Like what you see? Visit the ' +\n",
              "            '<a target=\"_blank\" href=https://colab.research.google.com/notebooks/data_table.ipynb>data table notebook</a>'\n",
              "            + ' to learn more about interactive tables.';\n",
              "          element.innerHTML = '';\n",
              "          dataTable['output_type'] = 'display_data';\n",
              "          await google.colab.output.renderOutput(dataTable, element);\n",
              "          const docLink = document.createElement('div');\n",
              "          docLink.innerHTML = docLinkHtml;\n",
              "          element.appendChild(docLink);\n",
              "        }\n",
              "      </script>\n",
              "    </div>\n",
              "  </div>\n",
              "  "
            ]
          },
          "metadata": {},
          "execution_count": 17
        }
      ]
    },
    {
      "cell_type": "code",
      "source": [
        "## For responses \"refused\", \"not ascertained\", \"don't know\" (7, 8 , 9) for y label, change to baseline response of no (0)\n",
        "med_data_col_filter_fillna[\"HLTHCOND_B\"] = [1 if x == 1 else 0 for x in med_data_col_filter_fillna[\"HLTHCOND_A\"]]"
      ],
      "metadata": {
        "id": "MlvZlGWCn5YI"
      },
      "execution_count": null,
      "outputs": []
    },
    {
      "cell_type": "code",
      "source": [
        "med_data_col_filter_fillna[\"HLTHCOND_B\"].value_counts()"
      ],
      "metadata": {
        "colab": {
          "base_uri": "https://localhost:8080/"
        },
        "id": "bKxUWUzpoXQ2",
        "outputId": "d7522ee5-8dc4-4415-926e-896fbb79e405"
      },
      "execution_count": null,
      "outputs": [
        {
          "output_type": "execute_result",
          "data": {
            "text/plain": [
              "0    28057\n",
              "1     1425\n",
              "Name: HLTHCOND_B, dtype: int64"
            ]
          },
          "metadata": {},
          "execution_count": 19
        }
      ]
    },
    {
      "cell_type": "code",
      "source": [
        "med_data_col_filter_fillna = med_data_col_filter_fillna.drop([\"HLTHCOND_A\"], axis=1)"
      ],
      "metadata": {
        "id": "SGXiyu8AopUb"
      },
      "execution_count": null,
      "outputs": []
    },
    {
      "cell_type": "code",
      "source": [],
      "metadata": {
        "id": "1p38Px3Rj5Kj"
      },
      "execution_count": null,
      "outputs": []
    },
    {
      "cell_type": "code",
      "source": [
        "## Isolate our dependent variable, weakened immune system, from cleaned data set\n",
        "## Split the cleaned data set into a training set of 70% size and a test set of 30% size\n",
        "from sklearn.model_selection import train_test_split\n",
        "\n",
        "y = med_data_col_filter_fillna['HLTHCOND_B']\n",
        "X = med_data_col_filter_fillna.drop(['HLTHCOND_B'], axis=1)\n",
        "\n",
        "X_train, X_test, y_train, y_test = train_test_split(X, y, test_size=0.3, random_state=88)\n",
        "X_train.shape, X_test.shape"
      ],
      "metadata": {
        "colab": {
          "base_uri": "https://localhost:8080/"
        },
        "id": "_g9H5TTAjyYf",
        "outputId": "ea088fdc-1e52-4fee-958c-4ed5d29c9a93"
      },
      "execution_count": null,
      "outputs": [
        {
          "output_type": "execute_result",
          "data": {
            "text/plain": [
              "((20637, 67), (8845, 67))"
            ]
          },
          "metadata": {},
          "execution_count": 21
        }
      ]
    },
    {
      "cell_type": "code",
      "source": [
        "med_data_col_filter_fillna.head()"
      ],
      "metadata": {
        "id": "wA3Yiu8yj3dp",
        "colab": {
          "base_uri": "https://localhost:8080/",
          "height": 300
        },
        "outputId": "b56d1710-781b-4718-c27b-ecdef742512b"
      },
      "execution_count": null,
      "outputs": [
        {
          "output_type": "execute_result",
          "data": {
            "text/plain": [
              "   HICOV_A  SINCOVRX_A  NOTCOV_A  COMDIFF_A  HEIGHTTC_A  EPIEV_A  \\\n",
              "0        1           2         2          1          69        2   \n",
              "1        1           1         2          1          75        2   \n",
              "2        1           1         2          1          67        2   \n",
              "3        1           2         2          1          63        2   \n",
              "4        1           1         2          1          72        2   \n",
              "\n",
              "   COLDFLU12M_A  CFSEV_A  LIVEREV_A  HEPEV_A  ...  PLN1PAY1_A  PAIULMB3M_A  \\\n",
              "0             2        2          2        2  ...         1.0          2.0   \n",
              "1             2        2          2        2  ...         1.0          1.0   \n",
              "2             2        2          2        2  ...         1.0          2.0   \n",
              "3             2        2          2        2  ...         9.0          3.0   \n",
              "4             2        2          2        2  ...         1.0          9.0   \n",
              "\n",
              "   CVDRSLT_A  CURJOBSD1_A  JOBMISS_A  HYSTEV1_A  HICOSTR1_A  DXRESP_A  \\\n",
              "0        2.0          1.0        0.0        9.0      1440.0       1.0   \n",
              "1        1.0          1.0       18.0        9.0      3600.0       9.0   \n",
              "2        1.0          1.0       21.0        9.0      3000.0       1.0   \n",
              "3        2.0          9.0        9.0        2.0         9.0       9.0   \n",
              "4        2.0          9.0        9.0        9.0     99999.0       9.0   \n",
              "\n",
              "   DEPLEVEL_A  HLTHCOND_B  \n",
              "0         9.0           0  \n",
              "1         9.0           0  \n",
              "2         1.0           0  \n",
              "3         3.0           1  \n",
              "4         9.0           0  \n",
              "\n",
              "[5 rows x 68 columns]"
            ],
            "text/html": [
              "\n",
              "  <div id=\"df-a2455bb7-661a-4360-8f57-7c5a6edb7cbc\">\n",
              "    <div class=\"colab-df-container\">\n",
              "      <div>\n",
              "<style scoped>\n",
              "    .dataframe tbody tr th:only-of-type {\n",
              "        vertical-align: middle;\n",
              "    }\n",
              "\n",
              "    .dataframe tbody tr th {\n",
              "        vertical-align: top;\n",
              "    }\n",
              "\n",
              "    .dataframe thead th {\n",
              "        text-align: right;\n",
              "    }\n",
              "</style>\n",
              "<table border=\"1\" class=\"dataframe\">\n",
              "  <thead>\n",
              "    <tr style=\"text-align: right;\">\n",
              "      <th></th>\n",
              "      <th>HICOV_A</th>\n",
              "      <th>SINCOVRX_A</th>\n",
              "      <th>NOTCOV_A</th>\n",
              "      <th>COMDIFF_A</th>\n",
              "      <th>HEIGHTTC_A</th>\n",
              "      <th>EPIEV_A</th>\n",
              "      <th>COLDFLU12M_A</th>\n",
              "      <th>CFSEV_A</th>\n",
              "      <th>LIVEREV_A</th>\n",
              "      <th>HEPEV_A</th>\n",
              "      <th>...</th>\n",
              "      <th>PLN1PAY1_A</th>\n",
              "      <th>PAIULMB3M_A</th>\n",
              "      <th>CVDRSLT_A</th>\n",
              "      <th>CURJOBSD1_A</th>\n",
              "      <th>JOBMISS_A</th>\n",
              "      <th>HYSTEV1_A</th>\n",
              "      <th>HICOSTR1_A</th>\n",
              "      <th>DXRESP_A</th>\n",
              "      <th>DEPLEVEL_A</th>\n",
              "      <th>HLTHCOND_B</th>\n",
              "    </tr>\n",
              "  </thead>\n",
              "  <tbody>\n",
              "    <tr>\n",
              "      <th>0</th>\n",
              "      <td>1</td>\n",
              "      <td>2</td>\n",
              "      <td>2</td>\n",
              "      <td>1</td>\n",
              "      <td>69</td>\n",
              "      <td>2</td>\n",
              "      <td>2</td>\n",
              "      <td>2</td>\n",
              "      <td>2</td>\n",
              "      <td>2</td>\n",
              "      <td>...</td>\n",
              "      <td>1.0</td>\n",
              "      <td>2.0</td>\n",
              "      <td>2.0</td>\n",
              "      <td>1.0</td>\n",
              "      <td>0.0</td>\n",
              "      <td>9.0</td>\n",
              "      <td>1440.0</td>\n",
              "      <td>1.0</td>\n",
              "      <td>9.0</td>\n",
              "      <td>0</td>\n",
              "    </tr>\n",
              "    <tr>\n",
              "      <th>1</th>\n",
              "      <td>1</td>\n",
              "      <td>1</td>\n",
              "      <td>2</td>\n",
              "      <td>1</td>\n",
              "      <td>75</td>\n",
              "      <td>2</td>\n",
              "      <td>2</td>\n",
              "      <td>2</td>\n",
              "      <td>2</td>\n",
              "      <td>2</td>\n",
              "      <td>...</td>\n",
              "      <td>1.0</td>\n",
              "      <td>1.0</td>\n",
              "      <td>1.0</td>\n",
              "      <td>1.0</td>\n",
              "      <td>18.0</td>\n",
              "      <td>9.0</td>\n",
              "      <td>3600.0</td>\n",
              "      <td>9.0</td>\n",
              "      <td>9.0</td>\n",
              "      <td>0</td>\n",
              "    </tr>\n",
              "    <tr>\n",
              "      <th>2</th>\n",
              "      <td>1</td>\n",
              "      <td>1</td>\n",
              "      <td>2</td>\n",
              "      <td>1</td>\n",
              "      <td>67</td>\n",
              "      <td>2</td>\n",
              "      <td>2</td>\n",
              "      <td>2</td>\n",
              "      <td>2</td>\n",
              "      <td>2</td>\n",
              "      <td>...</td>\n",
              "      <td>1.0</td>\n",
              "      <td>2.0</td>\n",
              "      <td>1.0</td>\n",
              "      <td>1.0</td>\n",
              "      <td>21.0</td>\n",
              "      <td>9.0</td>\n",
              "      <td>3000.0</td>\n",
              "      <td>1.0</td>\n",
              "      <td>1.0</td>\n",
              "      <td>0</td>\n",
              "    </tr>\n",
              "    <tr>\n",
              "      <th>3</th>\n",
              "      <td>1</td>\n",
              "      <td>2</td>\n",
              "      <td>2</td>\n",
              "      <td>1</td>\n",
              "      <td>63</td>\n",
              "      <td>2</td>\n",
              "      <td>2</td>\n",
              "      <td>2</td>\n",
              "      <td>2</td>\n",
              "      <td>2</td>\n",
              "      <td>...</td>\n",
              "      <td>9.0</td>\n",
              "      <td>3.0</td>\n",
              "      <td>2.0</td>\n",
              "      <td>9.0</td>\n",
              "      <td>9.0</td>\n",
              "      <td>2.0</td>\n",
              "      <td>9.0</td>\n",
              "      <td>9.0</td>\n",
              "      <td>3.0</td>\n",
              "      <td>1</td>\n",
              "    </tr>\n",
              "    <tr>\n",
              "      <th>4</th>\n",
              "      <td>1</td>\n",
              "      <td>1</td>\n",
              "      <td>2</td>\n",
              "      <td>1</td>\n",
              "      <td>72</td>\n",
              "      <td>2</td>\n",
              "      <td>2</td>\n",
              "      <td>2</td>\n",
              "      <td>2</td>\n",
              "      <td>2</td>\n",
              "      <td>...</td>\n",
              "      <td>1.0</td>\n",
              "      <td>9.0</td>\n",
              "      <td>2.0</td>\n",
              "      <td>9.0</td>\n",
              "      <td>9.0</td>\n",
              "      <td>9.0</td>\n",
              "      <td>99999.0</td>\n",
              "      <td>9.0</td>\n",
              "      <td>9.0</td>\n",
              "      <td>0</td>\n",
              "    </tr>\n",
              "  </tbody>\n",
              "</table>\n",
              "<p>5 rows × 68 columns</p>\n",
              "</div>\n",
              "      <button class=\"colab-df-convert\" onclick=\"convertToInteractive('df-a2455bb7-661a-4360-8f57-7c5a6edb7cbc')\"\n",
              "              title=\"Convert this dataframe to an interactive table.\"\n",
              "              style=\"display:none;\">\n",
              "        \n",
              "  <svg xmlns=\"http://www.w3.org/2000/svg\" height=\"24px\"viewBox=\"0 0 24 24\"\n",
              "       width=\"24px\">\n",
              "    <path d=\"M0 0h24v24H0V0z\" fill=\"none\"/>\n",
              "    <path d=\"M18.56 5.44l.94 2.06.94-2.06 2.06-.94-2.06-.94-.94-2.06-.94 2.06-2.06.94zm-11 1L8.5 8.5l.94-2.06 2.06-.94-2.06-.94L8.5 2.5l-.94 2.06-2.06.94zm10 10l.94 2.06.94-2.06 2.06-.94-2.06-.94-.94-2.06-.94 2.06-2.06.94z\"/><path d=\"M17.41 7.96l-1.37-1.37c-.4-.4-.92-.59-1.43-.59-.52 0-1.04.2-1.43.59L10.3 9.45l-7.72 7.72c-.78.78-.78 2.05 0 2.83L4 21.41c.39.39.9.59 1.41.59.51 0 1.02-.2 1.41-.59l7.78-7.78 2.81-2.81c.8-.78.8-2.07 0-2.86zM5.41 20L4 18.59l7.72-7.72 1.47 1.35L5.41 20z\"/>\n",
              "  </svg>\n",
              "      </button>\n",
              "      \n",
              "  <style>\n",
              "    .colab-df-container {\n",
              "      display:flex;\n",
              "      flex-wrap:wrap;\n",
              "      gap: 12px;\n",
              "    }\n",
              "\n",
              "    .colab-df-convert {\n",
              "      background-color: #E8F0FE;\n",
              "      border: none;\n",
              "      border-radius: 50%;\n",
              "      cursor: pointer;\n",
              "      display: none;\n",
              "      fill: #1967D2;\n",
              "      height: 32px;\n",
              "      padding: 0 0 0 0;\n",
              "      width: 32px;\n",
              "    }\n",
              "\n",
              "    .colab-df-convert:hover {\n",
              "      background-color: #E2EBFA;\n",
              "      box-shadow: 0px 1px 2px rgba(60, 64, 67, 0.3), 0px 1px 3px 1px rgba(60, 64, 67, 0.15);\n",
              "      fill: #174EA6;\n",
              "    }\n",
              "\n",
              "    [theme=dark] .colab-df-convert {\n",
              "      background-color: #3B4455;\n",
              "      fill: #D2E3FC;\n",
              "    }\n",
              "\n",
              "    [theme=dark] .colab-df-convert:hover {\n",
              "      background-color: #434B5C;\n",
              "      box-shadow: 0px 1px 3px 1px rgba(0, 0, 0, 0.15);\n",
              "      filter: drop-shadow(0px 1px 2px rgba(0, 0, 0, 0.3));\n",
              "      fill: #FFFFFF;\n",
              "    }\n",
              "  </style>\n",
              "\n",
              "      <script>\n",
              "        const buttonEl =\n",
              "          document.querySelector('#df-a2455bb7-661a-4360-8f57-7c5a6edb7cbc button.colab-df-convert');\n",
              "        buttonEl.style.display =\n",
              "          google.colab.kernel.accessAllowed ? 'block' : 'none';\n",
              "\n",
              "        async function convertToInteractive(key) {\n",
              "          const element = document.querySelector('#df-a2455bb7-661a-4360-8f57-7c5a6edb7cbc');\n",
              "          const dataTable =\n",
              "            await google.colab.kernel.invokeFunction('convertToInteractive',\n",
              "                                                     [key], {});\n",
              "          if (!dataTable) return;\n",
              "\n",
              "          const docLinkHtml = 'Like what you see? Visit the ' +\n",
              "            '<a target=\"_blank\" href=https://colab.research.google.com/notebooks/data_table.ipynb>data table notebook</a>'\n",
              "            + ' to learn more about interactive tables.';\n",
              "          element.innerHTML = '';\n",
              "          dataTable['output_type'] = 'display_data';\n",
              "          await google.colab.output.renderOutput(dataTable, element);\n",
              "          const docLink = document.createElement('div');\n",
              "          docLink.innerHTML = docLinkHtml;\n",
              "          element.appendChild(docLink);\n",
              "        }\n",
              "      </script>\n",
              "    </div>\n",
              "  </div>\n",
              "  "
            ]
          },
          "metadata": {},
          "execution_count": 22
        }
      ]
    },
    {
      "cell_type": "markdown",
      "source": [
        "####Our Feature Variables for Predicting: Immunosuppression column 'HLTHCOND_A' (Weakened immune system due to health condition)"
      ],
      "metadata": {
        "id": "oFzKMDSMX3VA"
      }
    },
    {
      "cell_type": "markdown",
      "source": [
        "Charlie (1-5): WTFA_A, URBRRL, AGEP_A, SEX_A, EDUCP_A, PHSTAT_A, LSATIS11R_A, LSATIS4R_A, HYP12M_A, HYPMED_A, CHL12M_A, CHLMED_A, CHDEV_A, ANGEV_A, MIEV_A, STREV_A, ASPONOWN_A, ASEV_A, ASTILL_A, CANEV_A, BLADDCAN_A, BLOODCAN_A, BONECAN_A, BRAINCAN_A, BREASCAN_A, CERVICAN_A, COLONCAN_A, ESOPHCAN_A, GALLBCAN_A, LARYNCAN_A, LEUKECAN_A, LIVERCAN_A, LUNGCAN_A, LYMPHCAN_A, MELANCAN_A, MOUTHCAN_A, OVARYCAN_A, PANCRCAN_A, PROSTCAN_A, RECTUCAN_A, SKNMCAN_A"
      ],
      "metadata": {
        "id": "lE5QWFWkcNhA"
      }
    },
    {
      "cell_type": "markdown",
      "source": [
        "Ryan(6-10): SKNNMCAN_A, SKNDKCAN_A, STOMACAN_A, THROACAN_A, THYROCAN_A, UTERUCAN_A, HDNCKCAN_A, COLRCCAN_A, OTHERCANP_A, DIBEV_A, DIFYRSTC1_A, DIBTYPE_A, COPDEV_A, ARTHEV_A, DEMENEV_A, ANXEV_A, DEPEV_A, KIDWEAKEV_A, HEPEV_A, LIVEREV_A, CFSEV_A, COLDFLU12M_A, EPIEV_A, DXRESP_A, HEIGHTTC_A, WEIGHTLBTC_A, COMDIFF_A"
      ],
      "metadata": {
        "id": "5mO6YiE_8Oiq"
      }
    },
    {
      "cell_type": "markdown",
      "source": [
        "Isaac: BPLAST_A, CHOLLAST_A, DIBLAST1_A, PSATEST_A, LIVEBIRTH_A, LIVEHEP_A, ANXFREQ_A, DEPMED_A, PAIULMB3M_A , SAD_A, MHTHND_A, DEPLEVEL_A , FAMCARECVD_A, COLOGUARD1_A , PSAREASON_A , MAMWHEN_A , HYSTEV1_A"
      ],
      "metadata": {
        "id": "mR9S9f6BYJTn"
      }
    },
    {
      "cell_type": "markdown",
      "source": [
        "Tanmay (11-15): NOTCOV_A, SINCOVRX_A, MCPART_A, MCCHOICE_A,  POLHLD1_A, MAPREM_A, PLN1PAY1_A, HICOSTR1_A, PRRXCOV1_A, POLHLD2_A, PLNEXCHG2_A, PLN2PAY1_A, HICOSTR2_A, PRRXCOV2_A, CHPREM_A, OPPREM_A, HILAST_A, HILASTMY_A, HISTOPCOST_A, RSNHICOST_A, HISTOPELIG_A, RSNHIMISS_A, HINOTYR_A, HICOV_A, PAYBLL12M_A, PAYNOBLLNW_A, PAYWORRY_A, CVDDIAG_A, CVDRSLT_A, CVDSEV_A, LASTDR_A, URGNT12MTC_A, EMERG12MTC_A, HOSPONGT_A, DLYCARE_A, DNGCARE_A, CANCOVTREA_A, CANCOVCHG_A"
      ],
      "metadata": {
        "id": "0dLiNRIXZNGB"
      }
    },
    {
      "cell_type": "markdown",
      "source": [
        "Annie (21-27): JOBMISS_A, CURJOBSD1_A, INCWRKO_A, FSNAP12M_A, FDSBALANCE_A, FDSNOTEAT_A, FDSLESS_A, CIGNOW_A, ECIGEV_A, ECIGNOW_A, SUPPORT_A\n",
        "\n",
        "*   List item\n",
        "*   List item\n",
        "\n",
        "FDSNOTEAT_A, FDSLESS_A"
      ],
      "metadata": {
        "id": "BmZK_6v0R_GV"
      }
    },
    {
      "cell_type": "markdown",
      "source": [],
      "metadata": {
        "id": "Wbqtc2dC8MFe"
      }
    },
    {
      "cell_type": "code",
      "source": [],
      "metadata": {
        "id": "6JsA0IbYS0W3"
      },
      "execution_count": null,
      "outputs": []
    },
    {
      "cell_type": "code",
      "source": [],
      "metadata": {
        "id": "w2Hfn6BKGvRo"
      },
      "execution_count": null,
      "outputs": []
    },
    {
      "cell_type": "markdown",
      "source": [
        "#### Functions"
      ],
      "metadata": {
        "id": "nPbnL4duG2Dk"
      }
    },
    {
      "cell_type": "code",
      "source": [
        "def pre(y_test, pred):\n",
        "  cm = confusion_matrix(y_test, pred)\n",
        "  tn, fp, fn, tp = cm.ravel()\n",
        "  pre = tp / (tp + fp)\n",
        "  return pre\n",
        "\n",
        "def fpr(y_test, pred):\n",
        "  cm = confusion_matrix(y_test, pred)\n",
        "  tn, fp, fn, tp = cm.ravel()\n",
        "  fpr = fp / (fp + tn)\n",
        "  return fpr\n",
        "\n",
        "def acc(y_test, pred):\n",
        "  acc1 = np.sum(np.abs(pred - y_test)) / len(pred)\n",
        "  acc2 = 1 - acc1\n",
        "  return acc2\n",
        "\n",
        "def tpr(y_test, pred):\n",
        "  cm = confusion_matrix(y_test, pred)\n",
        "  tn, fp, fn, tp = cm.ravel()\n",
        "  tpr = tp / (tp + fn)\n",
        "  return tpr"
      ],
      "metadata": {
        "id": "0z2ybTQpG3my"
      },
      "execution_count": null,
      "outputs": []
    },
    {
      "cell_type": "code",
      "source": [],
      "metadata": {
        "id": "mevtwAb4G3kJ"
      },
      "execution_count": null,
      "outputs": []
    },
    {
      "cell_type": "markdown",
      "source": [
        "#### Baseline"
      ],
      "metadata": {
        "id": "f5R-BLYlFlim"
      }
    },
    {
      "cell_type": "code",
      "source": [
        "imm_s = np.sum(med_data_col_filter_fillna['HLTHCOND_B'] == 1)  # not default\n",
        "n_imm_s = np.sum(med_data_col_filter_fillna['HLTHCOND_B'] == 0)\n",
        "imm_s, n_imm_s"
      ],
      "metadata": {
        "id": "Q38tC4qFFgid",
        "colab": {
          "base_uri": "https://localhost:8080/"
        },
        "outputId": "729be3ef-c9c4-4f82-be77-29c76490d617"
      },
      "execution_count": null,
      "outputs": [
        {
          "output_type": "execute_result",
          "data": {
            "text/plain": [
              "(1425, 28057)"
            ]
          },
          "metadata": {},
          "execution_count": 24
        }
      ]
    },
    {
      "cell_type": "code",
      "source": [
        "  # default\n",
        "baseline_acc = n_imm_s / (n_imm_s + imm_s)\n",
        "recall_bl = 0\n",
        "pre_bl = 0\n",
        "fpr_bl = 0\n",
        "print(f'Baseline Test Accuracy: {baseline_acc:.4f}')"
      ],
      "metadata": {
        "id": "mhMtH90mHfOV",
        "colab": {
          "base_uri": "https://localhost:8080/"
        },
        "outputId": "afc2b4d9-49c2-41c8-95ef-3b15b06ad7fe"
      },
      "execution_count": null,
      "outputs": [
        {
          "output_type": "stream",
          "name": "stdout",
          "text": [
            "Baseline Test Accuracy: 0.9517\n"
          ]
        }
      ]
    },
    {
      "cell_type": "markdown",
      "source": [
        "#### Logistic Regression"
      ],
      "metadata": {
        "id": "7Wtzso1uFn7V"
      }
    },
    {
      "cell_type": "code",
      "source": [
        "logreg_2 = sm.Logit(y_train,X_train).fit()"
      ],
      "metadata": {
        "id": "9j5KdJiEFggl",
        "colab": {
          "base_uri": "https://localhost:8080/"
        },
        "outputId": "799e654d-9e2b-4fd1-e527-bc55ecc6efd4"
      },
      "execution_count": null,
      "outputs": [
        {
          "output_type": "stream",
          "name": "stdout",
          "text": [
            "Optimization terminated successfully.\n",
            "         Current function value: 0.160355\n",
            "         Iterations 9\n"
          ]
        }
      ]
    },
    {
      "cell_type": "code",
      "source": [
        "y_pred_logreg_2 = logreg_2.predict(X_test)\n",
        "y_pred_logreg_2_1 = pd.Series([1 if x > 0.5 else 0 for x in y_pred_logreg_2], index = y_pred_logreg_2.index)"
      ],
      "metadata": {
        "id": "JhlDvo_ZHUT9"
      },
      "execution_count": null,
      "outputs": []
    },
    {
      "cell_type": "code",
      "source": [
        "acc_logreg_2 = accuracy_score(y_test, y_pred_logreg_2_1)\n",
        "recall_logreg_2 = tpr(y_test, y_pred_logreg_2_1)\n",
        "pre_logreg_2 = pre(y_test, y_pred_logreg_2_1)\n",
        "fpr_logreg_2 = fpr(y_test, y_pred_logreg_2_1)\n",
        "\n",
        "print(f'Logistic Regression Test Accuracy: {acc_logreg_2:.4f}')\n",
        "print(f'Logistic Regression TPR Accuracy: {recall_logreg_2:.4f}')"
      ],
      "metadata": {
        "id": "b6-i498SHURj",
        "colab": {
          "base_uri": "https://localhost:8080/"
        },
        "outputId": "c7adf50f-18c0-4443-b162-521772bee701"
      },
      "execution_count": null,
      "outputs": [
        {
          "output_type": "stream",
          "name": "stdout",
          "text": [
            "Logistic Regression Test Accuracy: 0.9525\n",
            "Logistic Regression TPR Accuracy: 0.0223\n"
          ]
        }
      ]
    },
    {
      "cell_type": "code",
      "source": [],
      "metadata": {
        "id": "18isyhVtHUPW"
      },
      "execution_count": null,
      "outputs": []
    },
    {
      "cell_type": "markdown",
      "source": [
        "#### LDA"
      ],
      "metadata": {
        "id": "_KfYdpWeFxSs"
      }
    },
    {
      "cell_type": "code",
      "source": [
        "lda = LinearDiscriminantAnalysis()\n",
        "lda.fit(X_train, y_train)"
      ],
      "metadata": {
        "id": "GkaPR7kNFgeZ",
        "colab": {
          "base_uri": "https://localhost:8080/"
        },
        "outputId": "88396901-c8b6-4ff8-83ca-86770c2c18bd"
      },
      "execution_count": null,
      "outputs": [
        {
          "output_type": "execute_result",
          "data": {
            "text/plain": [
              "LinearDiscriminantAnalysis()"
            ]
          },
          "metadata": {},
          "execution_count": 29
        }
      ]
    },
    {
      "cell_type": "code",
      "source": [
        "y_pred_lda = lda.predict(X_test)\n",
        "\n",
        "cm_lda = confusion_matrix(y_test, y_pred_lda)\n",
        "acc_lda = accuracy_score(y_test, y_pred_lda)\n",
        "recall_lda = recall_score(y_test, y_pred_lda)\n",
        "pre_lda = pre(y_test, y_pred_lda)\n",
        "fpr_lda = fpr(y_test, y_pred_lda)\n",
        "print(f'LDA Test Accuracy: {acc_lda:.4f}')\n",
        "print(f'LDA Recall Score: {recall_lda:.4f}')"
      ],
      "metadata": {
        "id": "4337v4KJFgbB",
        "colab": {
          "base_uri": "https://localhost:8080/"
        },
        "outputId": "2f5c7ca5-c37a-4d05-ae49-732b6c3c0196"
      },
      "execution_count": null,
      "outputs": [
        {
          "output_type": "stream",
          "name": "stdout",
          "text": [
            "LDA Test Accuracy: 0.9461\n",
            "LDA Recall Score: 0.0866\n"
          ]
        }
      ]
    },
    {
      "cell_type": "code",
      "source": [],
      "metadata": {
        "id": "m18DirwjFgYB"
      },
      "execution_count": null,
      "outputs": []
    },
    {
      "cell_type": "markdown",
      "source": [
        "#### Decision Tree Classifier"
      ],
      "metadata": {
        "id": "S7gbWAbyF4el"
      }
    },
    {
      "cell_type": "code",
      "source": [],
      "metadata": {
        "id": "jUDp95sklL_e"
      },
      "execution_count": null,
      "outputs": []
    },
    {
      "cell_type": "code",
      "source": [
        "dtc_1 = DecisionTreeClassifier(random_state = 88)\n",
        "dtc_1.fit(X_train, y_train)"
      ],
      "metadata": {
        "id": "Uf_lGe15FgV7",
        "colab": {
          "base_uri": "https://localhost:8080/"
        },
        "outputId": "a7024a6c-dd94-44e0-e805-9e12186172e6"
      },
      "execution_count": null,
      "outputs": [
        {
          "output_type": "execute_result",
          "data": {
            "text/plain": [
              "DecisionTreeClassifier(random_state=88)"
            ]
          },
          "metadata": {},
          "execution_count": 31
        }
      ]
    },
    {
      "cell_type": "code",
      "source": [
        "y_pred_dtc_1 = dtc_1.predict(X_test)"
      ],
      "metadata": {
        "id": "bZ5WcNsUFgUc"
      },
      "execution_count": null,
      "outputs": []
    },
    {
      "cell_type": "code",
      "source": [
        "acc_dtc_1 = accuracy_score(y_test, y_pred_dtc_1)\n",
        "recall_dtc_1 = recall_score(y_test, y_pred_dtc_1)\n",
        "pre_dtc_1 = pre(y_test, y_pred_dtc_1)\n",
        "fpr_dtc_1 = fpr(y_test, y_pred_dtc_1)\n",
        "print(f'DTC1 Test Accuracy: {acc_dtc_1:.4f}')\n",
        "print(f'DTC1 Recall Score: {recall_dtc_1:.4f}')"
      ],
      "metadata": {
        "id": "neGNHhQAFgSB",
        "colab": {
          "base_uri": "https://localhost:8080/"
        },
        "outputId": "6eb173e2-8606-4997-d4eb-731edee72089"
      },
      "execution_count": null,
      "outputs": [
        {
          "output_type": "stream",
          "name": "stdout",
          "text": [
            "DTC1 Test Accuracy: 0.9149\n",
            "DTC1 Recall Score: 0.1807\n"
          ]
        }
      ]
    },
    {
      "cell_type": "markdown",
      "source": [
        "#### Decision Tree Classifier with CV"
      ],
      "metadata": {
        "id": "06AGkKhCF-yc"
      }
    },
    {
      "cell_type": "code",
      "source": [
        "grid_values_dtc = {'ccp_alpha': np.linspace(0, 0.1, 201),\n",
        "               'random_state': [88]}\n",
        "\n",
        "\n",
        "dtc_2 = DecisionTreeClassifier()\n",
        "dtc_cv_2 = GridSearchCV(dtc_2, param_grid = grid_values_dtc, scoring = 'accuracy', cv=2, verbose=1) # default scoring metric to optimize is accuracy, used as default if none given.\n",
        "dtc_cv_2.fit(X_train, y_train)"
      ],
      "metadata": {
        "id": "zLpFYjevGAzP",
        "colab": {
          "base_uri": "https://localhost:8080/"
        },
        "outputId": "1065c15b-0e55-470c-84da-72459634b76a"
      },
      "execution_count": null,
      "outputs": [
        {
          "output_type": "stream",
          "name": "stdout",
          "text": [
            "Fitting 2 folds for each of 201 candidates, totalling 402 fits\n"
          ]
        },
        {
          "output_type": "execute_result",
          "data": {
            "text/plain": [
              "GridSearchCV(cv=2, estimator=DecisionTreeClassifier(),\n",
              "             param_grid={'ccp_alpha': array([0.    , 0.0005, 0.001 , 0.0015, 0.002 , 0.0025, 0.003 , 0.0035,\n",
              "       0.004 , 0.0045, 0.005 , 0.0055, 0.006 , 0.0065, 0.007 , 0.0075,\n",
              "       0.008 , 0.0085, 0.009 , 0.0095, 0.01  , 0.0105, 0.011 , 0.0115,\n",
              "       0.012 , 0.0125, 0.013 , 0.0135, 0.014 , 0.0145, 0.015 , 0.0155,\n",
              "       0.016 , 0.0165, 0.017 , 0.0175, 0.018 , 0.0185, 0.019 , 0.0195,\n",
              "       0.02  , 0.020...\n",
              "       0.076 , 0.0765, 0.077 , 0.0775, 0.078 , 0.0785, 0.079 , 0.0795,\n",
              "       0.08  , 0.0805, 0.081 , 0.0815, 0.082 , 0.0825, 0.083 , 0.0835,\n",
              "       0.084 , 0.0845, 0.085 , 0.0855, 0.086 , 0.0865, 0.087 , 0.0875,\n",
              "       0.088 , 0.0885, 0.089 , 0.0895, 0.09  , 0.0905, 0.091 , 0.0915,\n",
              "       0.092 , 0.0925, 0.093 , 0.0935, 0.094 , 0.0945, 0.095 , 0.0955,\n",
              "       0.096 , 0.0965, 0.097 , 0.0975, 0.098 , 0.0985, 0.099 , 0.0995,\n",
              "       0.1   ]),\n",
              "                         'random_state': [88]},\n",
              "             scoring='accuracy', verbose=1)"
            ]
          },
          "metadata": {},
          "execution_count": 34
        }
      ]
    },
    {
      "cell_type": "code",
      "source": [
        "y_pred_dtc_cv = dtc_cv_2.best_estimator_.predict(X_test)\n",
        "\n",
        "acc_dtc_2 = accuracy_score(y_test, y_pred_dtc_cv)\n",
        "recall_dtc_2 = recall_score(y_test, y_pred_dtc_cv)\n",
        "pre_dtc_2 = pre(y_test, y_pred_dtc_cv)\n",
        "fpr_dtc_2 = fpr(y_test, y_pred_dtc_cv)\n",
        "print(f'DTC1 Test Accuracy: {acc_dtc_2:.4f}')"
      ],
      "metadata": {
        "id": "1K5g9ymOGAwr",
        "colab": {
          "base_uri": "https://localhost:8080/"
        },
        "outputId": "21d44d80-fa52-4e0a-d9fa-403ba05724ea"
      },
      "execution_count": null,
      "outputs": [
        {
          "output_type": "stream",
          "name": "stdout",
          "text": [
            "DTC1 Test Accuracy: 0.9543\n"
          ]
        },
        {
          "output_type": "stream",
          "name": "stderr",
          "text": [
            "<ipython-input-23-902c90f8d8c9>:4: RuntimeWarning: invalid value encountered in long_scalars\n",
            "  pre = tp / (tp + fp)\n"
          ]
        }
      ]
    },
    {
      "cell_type": "code",
      "source": [],
      "metadata": {
        "id": "YfRZHKMIGAM3"
      },
      "execution_count": null,
      "outputs": []
    },
    {
      "cell_type": "markdown",
      "source": [
        "#### Random Forest"
      ],
      "metadata": {
        "id": "F8kz4UQJGGv9"
      }
    },
    {
      "cell_type": "code",
      "source": [
        "rf = RandomForestClassifier(random_state = 88)\n",
        "rf.fit(X_train, y_train)\n",
        "y_pred_rf = rf.predict(X_test)"
      ],
      "metadata": {
        "id": "ICxL_QbcGAEU"
      },
      "execution_count": null,
      "outputs": []
    },
    {
      "cell_type": "code",
      "source": [
        "cm_rf = confusion_matrix(y_test, y_pred_rf)\n",
        "tn, fp, fn, tp = cm_rf.ravel()\n",
        "\n",
        "acc_rf = (tn + tp) / (tn + fp + fn + tp) # TODO: calculate random forest accuracy\n",
        "recall_rf = recall_score(y_test, y_pred_rf)\n",
        "pre_rf = pre(y_test, y_pred_rf)\n",
        "fpr_rf = fpr(y_test, y_pred_rf)\n",
        "print(f'Random Forest Test Accuracy: {acc_rf:.4f}')\n",
        "print(f'Random Forest Recall Score: {recall_rf:.4f}')"
      ],
      "metadata": {
        "id": "0G4NMkGxGAB-",
        "colab": {
          "base_uri": "https://localhost:8080/"
        },
        "outputId": "efc194fd-e94f-471e-8379-2b072e6fc46b"
      },
      "execution_count": null,
      "outputs": [
        {
          "output_type": "stream",
          "name": "stdout",
          "text": [
            "Random Forest Test Accuracy: 0.9547\n",
            "Random Forest Recall Score: 0.0074\n"
          ]
        }
      ]
    },
    {
      "cell_type": "code",
      "source": [],
      "metadata": {
        "id": "tX0rEGytF_bD"
      },
      "execution_count": null,
      "outputs": []
    },
    {
      "cell_type": "markdown",
      "source": [
        "#### Random Forest with CV"
      ],
      "metadata": {
        "id": "68gusYFeGMMr"
      }
    },
    {
      "cell_type": "code",
      "source": [
        "#grid_values_rf = {'max_features': np.linspace(1,2,2, dtype='int32'),\n",
        "#               'random_state': [88]}\n",
        "rf_cv = RandomForestClassifier()\n",
        "p = int(len(X_train.columns))\n",
        "grid_values_rf = {'max_features': np.arange(1, p+1, 1),\n",
        "                  'random_state': [88]}\n",
        "#cv_2_rf = KFold(n_splits=2,random_state=88,shuffle=True)\n",
        "rf_cv_2 = GridSearchCV(rf_cv, param_grid=grid_values_rf, cv=5, scoring='accuracy',verbose=1)\n",
        "\n",
        "rf_cv_2.fit(X_train, y_train)"
      ],
      "metadata": {
        "id": "xduajaKHGPK0",
        "colab": {
          "base_uri": "https://localhost:8080/",
          "height": 389
        },
        "outputId": "68d17e0b-2082-45fb-87c7-64cc7d5a42e8"
      },
      "execution_count": null,
      "outputs": [
        {
          "output_type": "stream",
          "name": "stdout",
          "text": [
            "Fitting 5 folds for each of 67 candidates, totalling 335 fits\n"
          ]
        },
        {
          "output_type": "error",
          "ename": "KeyboardInterrupt",
          "evalue": "ignored",
          "traceback": [
            "\u001b[0;31m---------------------------------------------------------------------------\u001b[0m",
            "\u001b[0;31mKeyboardInterrupt\u001b[0m                         Traceback (most recent call last)",
            "\u001b[0;32m<ipython-input-38-5cab9d0b0b0a>\u001b[0m in \u001b[0;36m<module>\u001b[0;34m\u001b[0m\n\u001b[1;32m     11\u001b[0m \u001b[0mrf_cv_2\u001b[0m \u001b[0;34m=\u001b[0m \u001b[0mGridSearchCV\u001b[0m\u001b[0;34m(\u001b[0m\u001b[0mrf_cv\u001b[0m\u001b[0;34m,\u001b[0m \u001b[0mparam_grid\u001b[0m\u001b[0;34m=\u001b[0m\u001b[0mgrid_values_rf\u001b[0m\u001b[0;34m,\u001b[0m \u001b[0mcv\u001b[0m\u001b[0;34m=\u001b[0m\u001b[0;36m5\u001b[0m\u001b[0;34m,\u001b[0m \u001b[0mscoring\u001b[0m\u001b[0;34m=\u001b[0m\u001b[0;34m'accuracy'\u001b[0m\u001b[0;34m,\u001b[0m\u001b[0mverbose\u001b[0m\u001b[0;34m=\u001b[0m\u001b[0;36m1\u001b[0m\u001b[0;34m)\u001b[0m\u001b[0;34m\u001b[0m\u001b[0;34m\u001b[0m\u001b[0m\n\u001b[1;32m     12\u001b[0m \u001b[0;34m\u001b[0m\u001b[0m\n\u001b[0;32m---> 13\u001b[0;31m \u001b[0mrf_cv_2\u001b[0m\u001b[0;34m.\u001b[0m\u001b[0mfit\u001b[0m\u001b[0;34m(\u001b[0m\u001b[0mX_train\u001b[0m\u001b[0;34m,\u001b[0m \u001b[0my_train\u001b[0m\u001b[0;34m)\u001b[0m\u001b[0;34m\u001b[0m\u001b[0;34m\u001b[0m\u001b[0m\n\u001b[0m",
            "\u001b[0;32m/usr/local/lib/python3.8/dist-packages/sklearn/model_selection/_search.py\u001b[0m in \u001b[0;36mfit\u001b[0;34m(self, X, y, groups, **fit_params)\u001b[0m\n\u001b[1;32m    889\u001b[0m                 \u001b[0;32mreturn\u001b[0m \u001b[0mresults\u001b[0m\u001b[0;34m\u001b[0m\u001b[0;34m\u001b[0m\u001b[0m\n\u001b[1;32m    890\u001b[0m \u001b[0;34m\u001b[0m\u001b[0m\n\u001b[0;32m--> 891\u001b[0;31m             \u001b[0mself\u001b[0m\u001b[0;34m.\u001b[0m\u001b[0m_run_search\u001b[0m\u001b[0;34m(\u001b[0m\u001b[0mevaluate_candidates\u001b[0m\u001b[0;34m)\u001b[0m\u001b[0;34m\u001b[0m\u001b[0;34m\u001b[0m\u001b[0m\n\u001b[0m\u001b[1;32m    892\u001b[0m \u001b[0;34m\u001b[0m\u001b[0m\n\u001b[1;32m    893\u001b[0m             \u001b[0;31m# multimetric is determined here because in the case of a callable\u001b[0m\u001b[0;34m\u001b[0m\u001b[0;34m\u001b[0m\u001b[0;34m\u001b[0m\u001b[0m\n",
            "\u001b[0;32m/usr/local/lib/python3.8/dist-packages/sklearn/model_selection/_search.py\u001b[0m in \u001b[0;36m_run_search\u001b[0;34m(self, evaluate_candidates)\u001b[0m\n\u001b[1;32m   1390\u001b[0m     \u001b[0;32mdef\u001b[0m \u001b[0m_run_search\u001b[0m\u001b[0;34m(\u001b[0m\u001b[0mself\u001b[0m\u001b[0;34m,\u001b[0m \u001b[0mevaluate_candidates\u001b[0m\u001b[0;34m)\u001b[0m\u001b[0;34m:\u001b[0m\u001b[0;34m\u001b[0m\u001b[0;34m\u001b[0m\u001b[0m\n\u001b[1;32m   1391\u001b[0m         \u001b[0;34m\"\"\"Search all candidates in param_grid\"\"\"\u001b[0m\u001b[0;34m\u001b[0m\u001b[0;34m\u001b[0m\u001b[0m\n\u001b[0;32m-> 1392\u001b[0;31m         \u001b[0mevaluate_candidates\u001b[0m\u001b[0;34m(\u001b[0m\u001b[0mParameterGrid\u001b[0m\u001b[0;34m(\u001b[0m\u001b[0mself\u001b[0m\u001b[0;34m.\u001b[0m\u001b[0mparam_grid\u001b[0m\u001b[0;34m)\u001b[0m\u001b[0;34m)\u001b[0m\u001b[0;34m\u001b[0m\u001b[0;34m\u001b[0m\u001b[0m\n\u001b[0m\u001b[1;32m   1393\u001b[0m \u001b[0;34m\u001b[0m\u001b[0m\n\u001b[1;32m   1394\u001b[0m \u001b[0;34m\u001b[0m\u001b[0m\n",
            "\u001b[0;32m/usr/local/lib/python3.8/dist-packages/sklearn/model_selection/_search.py\u001b[0m in \u001b[0;36mevaluate_candidates\u001b[0;34m(candidate_params, cv, more_results)\u001b[0m\n\u001b[1;32m    836\u001b[0m                     )\n\u001b[1;32m    837\u001b[0m \u001b[0;34m\u001b[0m\u001b[0m\n\u001b[0;32m--> 838\u001b[0;31m                 out = parallel(\n\u001b[0m\u001b[1;32m    839\u001b[0m                     delayed(_fit_and_score)(\n\u001b[1;32m    840\u001b[0m                         \u001b[0mclone\u001b[0m\u001b[0;34m(\u001b[0m\u001b[0mbase_estimator\u001b[0m\u001b[0;34m)\u001b[0m\u001b[0;34m,\u001b[0m\u001b[0;34m\u001b[0m\u001b[0;34m\u001b[0m\u001b[0m\n",
            "\u001b[0;32m/usr/local/lib/python3.8/dist-packages/joblib/parallel.py\u001b[0m in \u001b[0;36m__call__\u001b[0;34m(self, iterable)\u001b[0m\n\u001b[1;32m   1086\u001b[0m                 \u001b[0mself\u001b[0m\u001b[0;34m.\u001b[0m\u001b[0m_iterating\u001b[0m \u001b[0;34m=\u001b[0m \u001b[0mself\u001b[0m\u001b[0;34m.\u001b[0m\u001b[0m_original_iterator\u001b[0m \u001b[0;32mis\u001b[0m \u001b[0;32mnot\u001b[0m \u001b[0;32mNone\u001b[0m\u001b[0;34m\u001b[0m\u001b[0;34m\u001b[0m\u001b[0m\n\u001b[1;32m   1087\u001b[0m \u001b[0;34m\u001b[0m\u001b[0m\n\u001b[0;32m-> 1088\u001b[0;31m             \u001b[0;32mwhile\u001b[0m \u001b[0mself\u001b[0m\u001b[0;34m.\u001b[0m\u001b[0mdispatch_one_batch\u001b[0m\u001b[0;34m(\u001b[0m\u001b[0miterator\u001b[0m\u001b[0;34m)\u001b[0m\u001b[0;34m:\u001b[0m\u001b[0;34m\u001b[0m\u001b[0;34m\u001b[0m\u001b[0m\n\u001b[0m\u001b[1;32m   1089\u001b[0m                 \u001b[0;32mpass\u001b[0m\u001b[0;34m\u001b[0m\u001b[0;34m\u001b[0m\u001b[0m\n\u001b[1;32m   1090\u001b[0m \u001b[0;34m\u001b[0m\u001b[0m\n",
            "\u001b[0;32m/usr/local/lib/python3.8/dist-packages/joblib/parallel.py\u001b[0m in \u001b[0;36mdispatch_one_batch\u001b[0;34m(self, iterator)\u001b[0m\n\u001b[1;32m    899\u001b[0m                 \u001b[0;32mreturn\u001b[0m \u001b[0;32mFalse\u001b[0m\u001b[0;34m\u001b[0m\u001b[0;34m\u001b[0m\u001b[0m\n\u001b[1;32m    900\u001b[0m             \u001b[0;32melse\u001b[0m\u001b[0;34m:\u001b[0m\u001b[0;34m\u001b[0m\u001b[0;34m\u001b[0m\u001b[0m\n\u001b[0;32m--> 901\u001b[0;31m                 \u001b[0mself\u001b[0m\u001b[0;34m.\u001b[0m\u001b[0m_dispatch\u001b[0m\u001b[0;34m(\u001b[0m\u001b[0mtasks\u001b[0m\u001b[0;34m)\u001b[0m\u001b[0;34m\u001b[0m\u001b[0;34m\u001b[0m\u001b[0m\n\u001b[0m\u001b[1;32m    902\u001b[0m                 \u001b[0;32mreturn\u001b[0m \u001b[0;32mTrue\u001b[0m\u001b[0;34m\u001b[0m\u001b[0;34m\u001b[0m\u001b[0m\n\u001b[1;32m    903\u001b[0m \u001b[0;34m\u001b[0m\u001b[0m\n",
            "\u001b[0;32m/usr/local/lib/python3.8/dist-packages/joblib/parallel.py\u001b[0m in \u001b[0;36m_dispatch\u001b[0;34m(self, batch)\u001b[0m\n\u001b[1;32m    817\u001b[0m         \u001b[0;32mwith\u001b[0m \u001b[0mself\u001b[0m\u001b[0;34m.\u001b[0m\u001b[0m_lock\u001b[0m\u001b[0;34m:\u001b[0m\u001b[0;34m\u001b[0m\u001b[0;34m\u001b[0m\u001b[0m\n\u001b[1;32m    818\u001b[0m             \u001b[0mjob_idx\u001b[0m \u001b[0;34m=\u001b[0m \u001b[0mlen\u001b[0m\u001b[0;34m(\u001b[0m\u001b[0mself\u001b[0m\u001b[0;34m.\u001b[0m\u001b[0m_jobs\u001b[0m\u001b[0;34m)\u001b[0m\u001b[0;34m\u001b[0m\u001b[0;34m\u001b[0m\u001b[0m\n\u001b[0;32m--> 819\u001b[0;31m             \u001b[0mjob\u001b[0m \u001b[0;34m=\u001b[0m \u001b[0mself\u001b[0m\u001b[0;34m.\u001b[0m\u001b[0m_backend\u001b[0m\u001b[0;34m.\u001b[0m\u001b[0mapply_async\u001b[0m\u001b[0;34m(\u001b[0m\u001b[0mbatch\u001b[0m\u001b[0;34m,\u001b[0m \u001b[0mcallback\u001b[0m\u001b[0;34m=\u001b[0m\u001b[0mcb\u001b[0m\u001b[0;34m)\u001b[0m\u001b[0;34m\u001b[0m\u001b[0;34m\u001b[0m\u001b[0m\n\u001b[0m\u001b[1;32m    820\u001b[0m             \u001b[0;31m# A job can complete so quickly than its callback is\u001b[0m\u001b[0;34m\u001b[0m\u001b[0;34m\u001b[0m\u001b[0;34m\u001b[0m\u001b[0m\n\u001b[1;32m    821\u001b[0m             \u001b[0;31m# called before we get here, causing self._jobs to\u001b[0m\u001b[0;34m\u001b[0m\u001b[0;34m\u001b[0m\u001b[0;34m\u001b[0m\u001b[0m\n",
            "\u001b[0;32m/usr/local/lib/python3.8/dist-packages/joblib/_parallel_backends.py\u001b[0m in \u001b[0;36mapply_async\u001b[0;34m(self, func, callback)\u001b[0m\n\u001b[1;32m    206\u001b[0m     \u001b[0;32mdef\u001b[0m \u001b[0mapply_async\u001b[0m\u001b[0;34m(\u001b[0m\u001b[0mself\u001b[0m\u001b[0;34m,\u001b[0m \u001b[0mfunc\u001b[0m\u001b[0;34m,\u001b[0m \u001b[0mcallback\u001b[0m\u001b[0;34m=\u001b[0m\u001b[0;32mNone\u001b[0m\u001b[0;34m)\u001b[0m\u001b[0;34m:\u001b[0m\u001b[0;34m\u001b[0m\u001b[0;34m\u001b[0m\u001b[0m\n\u001b[1;32m    207\u001b[0m         \u001b[0;34m\"\"\"Schedule a func to be run\"\"\"\u001b[0m\u001b[0;34m\u001b[0m\u001b[0;34m\u001b[0m\u001b[0m\n\u001b[0;32m--> 208\u001b[0;31m         \u001b[0mresult\u001b[0m \u001b[0;34m=\u001b[0m \u001b[0mImmediateResult\u001b[0m\u001b[0;34m(\u001b[0m\u001b[0mfunc\u001b[0m\u001b[0;34m)\u001b[0m\u001b[0;34m\u001b[0m\u001b[0;34m\u001b[0m\u001b[0m\n\u001b[0m\u001b[1;32m    209\u001b[0m         \u001b[0;32mif\u001b[0m \u001b[0mcallback\u001b[0m\u001b[0;34m:\u001b[0m\u001b[0;34m\u001b[0m\u001b[0;34m\u001b[0m\u001b[0m\n\u001b[1;32m    210\u001b[0m             \u001b[0mcallback\u001b[0m\u001b[0;34m(\u001b[0m\u001b[0mresult\u001b[0m\u001b[0;34m)\u001b[0m\u001b[0;34m\u001b[0m\u001b[0;34m\u001b[0m\u001b[0m\n",
            "\u001b[0;32m/usr/local/lib/python3.8/dist-packages/joblib/_parallel_backends.py\u001b[0m in \u001b[0;36m__init__\u001b[0;34m(self, batch)\u001b[0m\n\u001b[1;32m    595\u001b[0m         \u001b[0;31m# Don't delay the application, to avoid keeping the input\u001b[0m\u001b[0;34m\u001b[0m\u001b[0;34m\u001b[0m\u001b[0;34m\u001b[0m\u001b[0m\n\u001b[1;32m    596\u001b[0m         \u001b[0;31m# arguments in memory\u001b[0m\u001b[0;34m\u001b[0m\u001b[0;34m\u001b[0m\u001b[0;34m\u001b[0m\u001b[0m\n\u001b[0;32m--> 597\u001b[0;31m         \u001b[0mself\u001b[0m\u001b[0;34m.\u001b[0m\u001b[0mresults\u001b[0m \u001b[0;34m=\u001b[0m \u001b[0mbatch\u001b[0m\u001b[0;34m(\u001b[0m\u001b[0;34m)\u001b[0m\u001b[0;34m\u001b[0m\u001b[0;34m\u001b[0m\u001b[0m\n\u001b[0m\u001b[1;32m    598\u001b[0m \u001b[0;34m\u001b[0m\u001b[0m\n\u001b[1;32m    599\u001b[0m     \u001b[0;32mdef\u001b[0m \u001b[0mget\u001b[0m\u001b[0;34m(\u001b[0m\u001b[0mself\u001b[0m\u001b[0;34m)\u001b[0m\u001b[0;34m:\u001b[0m\u001b[0;34m\u001b[0m\u001b[0;34m\u001b[0m\u001b[0m\n",
            "\u001b[0;32m/usr/local/lib/python3.8/dist-packages/joblib/parallel.py\u001b[0m in \u001b[0;36m__call__\u001b[0;34m(self)\u001b[0m\n\u001b[1;32m    286\u001b[0m         \u001b[0;31m# change the default number of processes to -1\u001b[0m\u001b[0;34m\u001b[0m\u001b[0;34m\u001b[0m\u001b[0;34m\u001b[0m\u001b[0m\n\u001b[1;32m    287\u001b[0m         \u001b[0;32mwith\u001b[0m \u001b[0mparallel_backend\u001b[0m\u001b[0;34m(\u001b[0m\u001b[0mself\u001b[0m\u001b[0;34m.\u001b[0m\u001b[0m_backend\u001b[0m\u001b[0;34m,\u001b[0m \u001b[0mn_jobs\u001b[0m\u001b[0;34m=\u001b[0m\u001b[0mself\u001b[0m\u001b[0;34m.\u001b[0m\u001b[0m_n_jobs\u001b[0m\u001b[0;34m)\u001b[0m\u001b[0;34m:\u001b[0m\u001b[0;34m\u001b[0m\u001b[0;34m\u001b[0m\u001b[0m\n\u001b[0;32m--> 288\u001b[0;31m             return [func(*args, **kwargs)\n\u001b[0m\u001b[1;32m    289\u001b[0m                     for func, args, kwargs in self.items]\n\u001b[1;32m    290\u001b[0m \u001b[0;34m\u001b[0m\u001b[0m\n",
            "\u001b[0;32m/usr/local/lib/python3.8/dist-packages/joblib/parallel.py\u001b[0m in \u001b[0;36m<listcomp>\u001b[0;34m(.0)\u001b[0m\n\u001b[1;32m    286\u001b[0m         \u001b[0;31m# change the default number of processes to -1\u001b[0m\u001b[0;34m\u001b[0m\u001b[0;34m\u001b[0m\u001b[0;34m\u001b[0m\u001b[0m\n\u001b[1;32m    287\u001b[0m         \u001b[0;32mwith\u001b[0m \u001b[0mparallel_backend\u001b[0m\u001b[0;34m(\u001b[0m\u001b[0mself\u001b[0m\u001b[0;34m.\u001b[0m\u001b[0m_backend\u001b[0m\u001b[0;34m,\u001b[0m \u001b[0mn_jobs\u001b[0m\u001b[0;34m=\u001b[0m\u001b[0mself\u001b[0m\u001b[0;34m.\u001b[0m\u001b[0m_n_jobs\u001b[0m\u001b[0;34m)\u001b[0m\u001b[0;34m:\u001b[0m\u001b[0;34m\u001b[0m\u001b[0;34m\u001b[0m\u001b[0m\n\u001b[0;32m--> 288\u001b[0;31m             return [func(*args, **kwargs)\n\u001b[0m\u001b[1;32m    289\u001b[0m                     for func, args, kwargs in self.items]\n\u001b[1;32m    290\u001b[0m \u001b[0;34m\u001b[0m\u001b[0m\n",
            "\u001b[0;32m/usr/local/lib/python3.8/dist-packages/sklearn/utils/fixes.py\u001b[0m in \u001b[0;36m__call__\u001b[0;34m(self, *args, **kwargs)\u001b[0m\n\u001b[1;32m    214\u001b[0m     \u001b[0;32mdef\u001b[0m \u001b[0m__call__\u001b[0m\u001b[0;34m(\u001b[0m\u001b[0mself\u001b[0m\u001b[0;34m,\u001b[0m \u001b[0;34m*\u001b[0m\u001b[0margs\u001b[0m\u001b[0;34m,\u001b[0m \u001b[0;34m**\u001b[0m\u001b[0mkwargs\u001b[0m\u001b[0;34m)\u001b[0m\u001b[0;34m:\u001b[0m\u001b[0;34m\u001b[0m\u001b[0;34m\u001b[0m\u001b[0m\n\u001b[1;32m    215\u001b[0m         \u001b[0;32mwith\u001b[0m \u001b[0mconfig_context\u001b[0m\u001b[0;34m(\u001b[0m\u001b[0;34m**\u001b[0m\u001b[0mself\u001b[0m\u001b[0;34m.\u001b[0m\u001b[0mconfig\u001b[0m\u001b[0;34m)\u001b[0m\u001b[0;34m:\u001b[0m\u001b[0;34m\u001b[0m\u001b[0;34m\u001b[0m\u001b[0m\n\u001b[0;32m--> 216\u001b[0;31m             \u001b[0;32mreturn\u001b[0m \u001b[0mself\u001b[0m\u001b[0;34m.\u001b[0m\u001b[0mfunction\u001b[0m\u001b[0;34m(\u001b[0m\u001b[0;34m*\u001b[0m\u001b[0margs\u001b[0m\u001b[0;34m,\u001b[0m \u001b[0;34m**\u001b[0m\u001b[0mkwargs\u001b[0m\u001b[0;34m)\u001b[0m\u001b[0;34m\u001b[0m\u001b[0;34m\u001b[0m\u001b[0m\n\u001b[0m\u001b[1;32m    217\u001b[0m \u001b[0;34m\u001b[0m\u001b[0m\n\u001b[1;32m    218\u001b[0m \u001b[0;34m\u001b[0m\u001b[0m\n",
            "\u001b[0;32m/usr/local/lib/python3.8/dist-packages/sklearn/model_selection/_validation.py\u001b[0m in \u001b[0;36m_fit_and_score\u001b[0;34m(estimator, X, y, scorer, train, test, verbose, parameters, fit_params, return_train_score, return_parameters, return_n_test_samples, return_times, return_estimator, split_progress, candidate_progress, error_score)\u001b[0m\n\u001b[1;32m    678\u001b[0m             \u001b[0mestimator\u001b[0m\u001b[0;34m.\u001b[0m\u001b[0mfit\u001b[0m\u001b[0;34m(\u001b[0m\u001b[0mX_train\u001b[0m\u001b[0;34m,\u001b[0m \u001b[0;34m**\u001b[0m\u001b[0mfit_params\u001b[0m\u001b[0;34m)\u001b[0m\u001b[0;34m\u001b[0m\u001b[0;34m\u001b[0m\u001b[0m\n\u001b[1;32m    679\u001b[0m         \u001b[0;32melse\u001b[0m\u001b[0;34m:\u001b[0m\u001b[0;34m\u001b[0m\u001b[0;34m\u001b[0m\u001b[0m\n\u001b[0;32m--> 680\u001b[0;31m             \u001b[0mestimator\u001b[0m\u001b[0;34m.\u001b[0m\u001b[0mfit\u001b[0m\u001b[0;34m(\u001b[0m\u001b[0mX_train\u001b[0m\u001b[0;34m,\u001b[0m \u001b[0my_train\u001b[0m\u001b[0;34m,\u001b[0m \u001b[0;34m**\u001b[0m\u001b[0mfit_params\u001b[0m\u001b[0;34m)\u001b[0m\u001b[0;34m\u001b[0m\u001b[0;34m\u001b[0m\u001b[0m\n\u001b[0m\u001b[1;32m    681\u001b[0m \u001b[0;34m\u001b[0m\u001b[0m\n\u001b[1;32m    682\u001b[0m     \u001b[0;32mexcept\u001b[0m \u001b[0mException\u001b[0m\u001b[0;34m:\u001b[0m\u001b[0;34m\u001b[0m\u001b[0;34m\u001b[0m\u001b[0m\n",
            "\u001b[0;32m/usr/local/lib/python3.8/dist-packages/sklearn/ensemble/_forest.py\u001b[0m in \u001b[0;36mfit\u001b[0;34m(self, X, y, sample_weight)\u001b[0m\n\u001b[1;32m    448\u001b[0m             \u001b[0;31m# parallel_backend contexts set at a higher level,\u001b[0m\u001b[0;34m\u001b[0m\u001b[0;34m\u001b[0m\u001b[0;34m\u001b[0m\u001b[0m\n\u001b[1;32m    449\u001b[0m             \u001b[0;31m# since correctness does not rely on using threads.\u001b[0m\u001b[0;34m\u001b[0m\u001b[0;34m\u001b[0m\u001b[0;34m\u001b[0m\u001b[0m\n\u001b[0;32m--> 450\u001b[0;31m             trees = Parallel(\n\u001b[0m\u001b[1;32m    451\u001b[0m                 \u001b[0mn_jobs\u001b[0m\u001b[0;34m=\u001b[0m\u001b[0mself\u001b[0m\u001b[0;34m.\u001b[0m\u001b[0mn_jobs\u001b[0m\u001b[0;34m,\u001b[0m\u001b[0;34m\u001b[0m\u001b[0;34m\u001b[0m\u001b[0m\n\u001b[1;32m    452\u001b[0m                 \u001b[0mverbose\u001b[0m\u001b[0;34m=\u001b[0m\u001b[0mself\u001b[0m\u001b[0;34m.\u001b[0m\u001b[0mverbose\u001b[0m\u001b[0;34m,\u001b[0m\u001b[0;34m\u001b[0m\u001b[0;34m\u001b[0m\u001b[0m\n",
            "\u001b[0;32m/usr/local/lib/python3.8/dist-packages/joblib/parallel.py\u001b[0m in \u001b[0;36m__call__\u001b[0;34m(self, iterable)\u001b[0m\n\u001b[1;32m   1086\u001b[0m                 \u001b[0mself\u001b[0m\u001b[0;34m.\u001b[0m\u001b[0m_iterating\u001b[0m \u001b[0;34m=\u001b[0m \u001b[0mself\u001b[0m\u001b[0;34m.\u001b[0m\u001b[0m_original_iterator\u001b[0m \u001b[0;32mis\u001b[0m \u001b[0;32mnot\u001b[0m \u001b[0;32mNone\u001b[0m\u001b[0;34m\u001b[0m\u001b[0;34m\u001b[0m\u001b[0m\n\u001b[1;32m   1087\u001b[0m \u001b[0;34m\u001b[0m\u001b[0m\n\u001b[0;32m-> 1088\u001b[0;31m             \u001b[0;32mwhile\u001b[0m \u001b[0mself\u001b[0m\u001b[0;34m.\u001b[0m\u001b[0mdispatch_one_batch\u001b[0m\u001b[0;34m(\u001b[0m\u001b[0miterator\u001b[0m\u001b[0;34m)\u001b[0m\u001b[0;34m:\u001b[0m\u001b[0;34m\u001b[0m\u001b[0;34m\u001b[0m\u001b[0m\n\u001b[0m\u001b[1;32m   1089\u001b[0m                 \u001b[0;32mpass\u001b[0m\u001b[0;34m\u001b[0m\u001b[0;34m\u001b[0m\u001b[0m\n\u001b[1;32m   1090\u001b[0m \u001b[0;34m\u001b[0m\u001b[0m\n",
            "\u001b[0;32m/usr/local/lib/python3.8/dist-packages/joblib/parallel.py\u001b[0m in \u001b[0;36mdispatch_one_batch\u001b[0;34m(self, iterator)\u001b[0m\n\u001b[1;32m    899\u001b[0m                 \u001b[0;32mreturn\u001b[0m \u001b[0;32mFalse\u001b[0m\u001b[0;34m\u001b[0m\u001b[0;34m\u001b[0m\u001b[0m\n\u001b[1;32m    900\u001b[0m             \u001b[0;32melse\u001b[0m\u001b[0;34m:\u001b[0m\u001b[0;34m\u001b[0m\u001b[0;34m\u001b[0m\u001b[0m\n\u001b[0;32m--> 901\u001b[0;31m                 \u001b[0mself\u001b[0m\u001b[0;34m.\u001b[0m\u001b[0m_dispatch\u001b[0m\u001b[0;34m(\u001b[0m\u001b[0mtasks\u001b[0m\u001b[0;34m)\u001b[0m\u001b[0;34m\u001b[0m\u001b[0;34m\u001b[0m\u001b[0m\n\u001b[0m\u001b[1;32m    902\u001b[0m                 \u001b[0;32mreturn\u001b[0m \u001b[0;32mTrue\u001b[0m\u001b[0;34m\u001b[0m\u001b[0;34m\u001b[0m\u001b[0m\n\u001b[1;32m    903\u001b[0m \u001b[0;34m\u001b[0m\u001b[0m\n",
            "\u001b[0;32m/usr/local/lib/python3.8/dist-packages/joblib/parallel.py\u001b[0m in \u001b[0;36m_dispatch\u001b[0;34m(self, batch)\u001b[0m\n\u001b[1;32m    817\u001b[0m         \u001b[0;32mwith\u001b[0m \u001b[0mself\u001b[0m\u001b[0;34m.\u001b[0m\u001b[0m_lock\u001b[0m\u001b[0;34m:\u001b[0m\u001b[0;34m\u001b[0m\u001b[0;34m\u001b[0m\u001b[0m\n\u001b[1;32m    818\u001b[0m             \u001b[0mjob_idx\u001b[0m \u001b[0;34m=\u001b[0m \u001b[0mlen\u001b[0m\u001b[0;34m(\u001b[0m\u001b[0mself\u001b[0m\u001b[0;34m.\u001b[0m\u001b[0m_jobs\u001b[0m\u001b[0;34m)\u001b[0m\u001b[0;34m\u001b[0m\u001b[0;34m\u001b[0m\u001b[0m\n\u001b[0;32m--> 819\u001b[0;31m             \u001b[0mjob\u001b[0m \u001b[0;34m=\u001b[0m \u001b[0mself\u001b[0m\u001b[0;34m.\u001b[0m\u001b[0m_backend\u001b[0m\u001b[0;34m.\u001b[0m\u001b[0mapply_async\u001b[0m\u001b[0;34m(\u001b[0m\u001b[0mbatch\u001b[0m\u001b[0;34m,\u001b[0m \u001b[0mcallback\u001b[0m\u001b[0;34m=\u001b[0m\u001b[0mcb\u001b[0m\u001b[0;34m)\u001b[0m\u001b[0;34m\u001b[0m\u001b[0;34m\u001b[0m\u001b[0m\n\u001b[0m\u001b[1;32m    820\u001b[0m             \u001b[0;31m# A job can complete so quickly than its callback is\u001b[0m\u001b[0;34m\u001b[0m\u001b[0;34m\u001b[0m\u001b[0;34m\u001b[0m\u001b[0m\n\u001b[1;32m    821\u001b[0m             \u001b[0;31m# called before we get here, causing self._jobs to\u001b[0m\u001b[0;34m\u001b[0m\u001b[0;34m\u001b[0m\u001b[0;34m\u001b[0m\u001b[0m\n",
            "\u001b[0;32m/usr/local/lib/python3.8/dist-packages/joblib/_parallel_backends.py\u001b[0m in \u001b[0;36mapply_async\u001b[0;34m(self, func, callback)\u001b[0m\n\u001b[1;32m    206\u001b[0m     \u001b[0;32mdef\u001b[0m \u001b[0mapply_async\u001b[0m\u001b[0;34m(\u001b[0m\u001b[0mself\u001b[0m\u001b[0;34m,\u001b[0m \u001b[0mfunc\u001b[0m\u001b[0;34m,\u001b[0m \u001b[0mcallback\u001b[0m\u001b[0;34m=\u001b[0m\u001b[0;32mNone\u001b[0m\u001b[0;34m)\u001b[0m\u001b[0;34m:\u001b[0m\u001b[0;34m\u001b[0m\u001b[0;34m\u001b[0m\u001b[0m\n\u001b[1;32m    207\u001b[0m         \u001b[0;34m\"\"\"Schedule a func to be run\"\"\"\u001b[0m\u001b[0;34m\u001b[0m\u001b[0;34m\u001b[0m\u001b[0m\n\u001b[0;32m--> 208\u001b[0;31m         \u001b[0mresult\u001b[0m \u001b[0;34m=\u001b[0m \u001b[0mImmediateResult\u001b[0m\u001b[0;34m(\u001b[0m\u001b[0mfunc\u001b[0m\u001b[0;34m)\u001b[0m\u001b[0;34m\u001b[0m\u001b[0;34m\u001b[0m\u001b[0m\n\u001b[0m\u001b[1;32m    209\u001b[0m         \u001b[0;32mif\u001b[0m \u001b[0mcallback\u001b[0m\u001b[0;34m:\u001b[0m\u001b[0;34m\u001b[0m\u001b[0;34m\u001b[0m\u001b[0m\n\u001b[1;32m    210\u001b[0m             \u001b[0mcallback\u001b[0m\u001b[0;34m(\u001b[0m\u001b[0mresult\u001b[0m\u001b[0;34m)\u001b[0m\u001b[0;34m\u001b[0m\u001b[0;34m\u001b[0m\u001b[0m\n",
            "\u001b[0;32m/usr/local/lib/python3.8/dist-packages/joblib/_parallel_backends.py\u001b[0m in \u001b[0;36m__init__\u001b[0;34m(self, batch)\u001b[0m\n\u001b[1;32m    595\u001b[0m         \u001b[0;31m# Don't delay the application, to avoid keeping the input\u001b[0m\u001b[0;34m\u001b[0m\u001b[0;34m\u001b[0m\u001b[0;34m\u001b[0m\u001b[0m\n\u001b[1;32m    596\u001b[0m         \u001b[0;31m# arguments in memory\u001b[0m\u001b[0;34m\u001b[0m\u001b[0;34m\u001b[0m\u001b[0;34m\u001b[0m\u001b[0m\n\u001b[0;32m--> 597\u001b[0;31m         \u001b[0mself\u001b[0m\u001b[0;34m.\u001b[0m\u001b[0mresults\u001b[0m \u001b[0;34m=\u001b[0m \u001b[0mbatch\u001b[0m\u001b[0;34m(\u001b[0m\u001b[0;34m)\u001b[0m\u001b[0;34m\u001b[0m\u001b[0;34m\u001b[0m\u001b[0m\n\u001b[0m\u001b[1;32m    598\u001b[0m \u001b[0;34m\u001b[0m\u001b[0m\n\u001b[1;32m    599\u001b[0m     \u001b[0;32mdef\u001b[0m \u001b[0mget\u001b[0m\u001b[0;34m(\u001b[0m\u001b[0mself\u001b[0m\u001b[0;34m)\u001b[0m\u001b[0;34m:\u001b[0m\u001b[0;34m\u001b[0m\u001b[0;34m\u001b[0m\u001b[0m\n",
            "\u001b[0;32m/usr/local/lib/python3.8/dist-packages/joblib/parallel.py\u001b[0m in \u001b[0;36m__call__\u001b[0;34m(self)\u001b[0m\n\u001b[1;32m    286\u001b[0m         \u001b[0;31m# change the default number of processes to -1\u001b[0m\u001b[0;34m\u001b[0m\u001b[0;34m\u001b[0m\u001b[0;34m\u001b[0m\u001b[0m\n\u001b[1;32m    287\u001b[0m         \u001b[0;32mwith\u001b[0m \u001b[0mparallel_backend\u001b[0m\u001b[0;34m(\u001b[0m\u001b[0mself\u001b[0m\u001b[0;34m.\u001b[0m\u001b[0m_backend\u001b[0m\u001b[0;34m,\u001b[0m \u001b[0mn_jobs\u001b[0m\u001b[0;34m=\u001b[0m\u001b[0mself\u001b[0m\u001b[0;34m.\u001b[0m\u001b[0m_n_jobs\u001b[0m\u001b[0;34m)\u001b[0m\u001b[0;34m:\u001b[0m\u001b[0;34m\u001b[0m\u001b[0;34m\u001b[0m\u001b[0m\n\u001b[0;32m--> 288\u001b[0;31m             return [func(*args, **kwargs)\n\u001b[0m\u001b[1;32m    289\u001b[0m                     for func, args, kwargs in self.items]\n\u001b[1;32m    290\u001b[0m \u001b[0;34m\u001b[0m\u001b[0m\n",
            "\u001b[0;32m/usr/local/lib/python3.8/dist-packages/joblib/parallel.py\u001b[0m in \u001b[0;36m<listcomp>\u001b[0;34m(.0)\u001b[0m\n\u001b[1;32m    286\u001b[0m         \u001b[0;31m# change the default number of processes to -1\u001b[0m\u001b[0;34m\u001b[0m\u001b[0;34m\u001b[0m\u001b[0;34m\u001b[0m\u001b[0m\n\u001b[1;32m    287\u001b[0m         \u001b[0;32mwith\u001b[0m \u001b[0mparallel_backend\u001b[0m\u001b[0;34m(\u001b[0m\u001b[0mself\u001b[0m\u001b[0;34m.\u001b[0m\u001b[0m_backend\u001b[0m\u001b[0;34m,\u001b[0m \u001b[0mn_jobs\u001b[0m\u001b[0;34m=\u001b[0m\u001b[0mself\u001b[0m\u001b[0;34m.\u001b[0m\u001b[0m_n_jobs\u001b[0m\u001b[0;34m)\u001b[0m\u001b[0;34m:\u001b[0m\u001b[0;34m\u001b[0m\u001b[0;34m\u001b[0m\u001b[0m\n\u001b[0;32m--> 288\u001b[0;31m             return [func(*args, **kwargs)\n\u001b[0m\u001b[1;32m    289\u001b[0m                     for func, args, kwargs in self.items]\n\u001b[1;32m    290\u001b[0m \u001b[0;34m\u001b[0m\u001b[0m\n",
            "\u001b[0;32m/usr/local/lib/python3.8/dist-packages/sklearn/utils/fixes.py\u001b[0m in \u001b[0;36m__call__\u001b[0;34m(self, *args, **kwargs)\u001b[0m\n\u001b[1;32m    214\u001b[0m     \u001b[0;32mdef\u001b[0m \u001b[0m__call__\u001b[0m\u001b[0;34m(\u001b[0m\u001b[0mself\u001b[0m\u001b[0;34m,\u001b[0m \u001b[0;34m*\u001b[0m\u001b[0margs\u001b[0m\u001b[0;34m,\u001b[0m \u001b[0;34m**\u001b[0m\u001b[0mkwargs\u001b[0m\u001b[0;34m)\u001b[0m\u001b[0;34m:\u001b[0m\u001b[0;34m\u001b[0m\u001b[0;34m\u001b[0m\u001b[0m\n\u001b[1;32m    215\u001b[0m         \u001b[0;32mwith\u001b[0m \u001b[0mconfig_context\u001b[0m\u001b[0;34m(\u001b[0m\u001b[0;34m**\u001b[0m\u001b[0mself\u001b[0m\u001b[0;34m.\u001b[0m\u001b[0mconfig\u001b[0m\u001b[0;34m)\u001b[0m\u001b[0;34m:\u001b[0m\u001b[0;34m\u001b[0m\u001b[0;34m\u001b[0m\u001b[0m\n\u001b[0;32m--> 216\u001b[0;31m             \u001b[0;32mreturn\u001b[0m \u001b[0mself\u001b[0m\u001b[0;34m.\u001b[0m\u001b[0mfunction\u001b[0m\u001b[0;34m(\u001b[0m\u001b[0;34m*\u001b[0m\u001b[0margs\u001b[0m\u001b[0;34m,\u001b[0m \u001b[0;34m**\u001b[0m\u001b[0mkwargs\u001b[0m\u001b[0;34m)\u001b[0m\u001b[0;34m\u001b[0m\u001b[0;34m\u001b[0m\u001b[0m\n\u001b[0m\u001b[1;32m    217\u001b[0m \u001b[0;34m\u001b[0m\u001b[0m\n\u001b[1;32m    218\u001b[0m \u001b[0;34m\u001b[0m\u001b[0m\n",
            "\u001b[0;32m/usr/local/lib/python3.8/dist-packages/sklearn/ensemble/_forest.py\u001b[0m in \u001b[0;36m_parallel_build_trees\u001b[0;34m(tree, forest, X, y, sample_weight, tree_idx, n_trees, verbose, class_weight, n_samples_bootstrap)\u001b[0m\n\u001b[1;32m    183\u001b[0m             \u001b[0mcurr_sample_weight\u001b[0m \u001b[0;34m*=\u001b[0m \u001b[0mcompute_sample_weight\u001b[0m\u001b[0;34m(\u001b[0m\u001b[0;34m\"balanced\"\u001b[0m\u001b[0;34m,\u001b[0m \u001b[0my\u001b[0m\u001b[0;34m,\u001b[0m \u001b[0mindices\u001b[0m\u001b[0;34m=\u001b[0m\u001b[0mindices\u001b[0m\u001b[0;34m)\u001b[0m\u001b[0;34m\u001b[0m\u001b[0;34m\u001b[0m\u001b[0m\n\u001b[1;32m    184\u001b[0m \u001b[0;34m\u001b[0m\u001b[0m\n\u001b[0;32m--> 185\u001b[0;31m         \u001b[0mtree\u001b[0m\u001b[0;34m.\u001b[0m\u001b[0mfit\u001b[0m\u001b[0;34m(\u001b[0m\u001b[0mX\u001b[0m\u001b[0;34m,\u001b[0m \u001b[0my\u001b[0m\u001b[0;34m,\u001b[0m \u001b[0msample_weight\u001b[0m\u001b[0;34m=\u001b[0m\u001b[0mcurr_sample_weight\u001b[0m\u001b[0;34m,\u001b[0m \u001b[0mcheck_input\u001b[0m\u001b[0;34m=\u001b[0m\u001b[0;32mFalse\u001b[0m\u001b[0;34m)\u001b[0m\u001b[0;34m\u001b[0m\u001b[0;34m\u001b[0m\u001b[0m\n\u001b[0m\u001b[1;32m    186\u001b[0m     \u001b[0;32melse\u001b[0m\u001b[0;34m:\u001b[0m\u001b[0;34m\u001b[0m\u001b[0;34m\u001b[0m\u001b[0m\n\u001b[1;32m    187\u001b[0m         \u001b[0mtree\u001b[0m\u001b[0;34m.\u001b[0m\u001b[0mfit\u001b[0m\u001b[0;34m(\u001b[0m\u001b[0mX\u001b[0m\u001b[0;34m,\u001b[0m \u001b[0my\u001b[0m\u001b[0;34m,\u001b[0m \u001b[0msample_weight\u001b[0m\u001b[0;34m=\u001b[0m\u001b[0msample_weight\u001b[0m\u001b[0;34m,\u001b[0m \u001b[0mcheck_input\u001b[0m\u001b[0;34m=\u001b[0m\u001b[0;32mFalse\u001b[0m\u001b[0;34m)\u001b[0m\u001b[0;34m\u001b[0m\u001b[0;34m\u001b[0m\u001b[0m\n",
            "\u001b[0;32m/usr/local/lib/python3.8/dist-packages/sklearn/tree/_classes.py\u001b[0m in \u001b[0;36mfit\u001b[0;34m(self, X, y, sample_weight, check_input, X_idx_sorted)\u001b[0m\n\u001b[1;32m    935\u001b[0m         \"\"\"\n\u001b[1;32m    936\u001b[0m \u001b[0;34m\u001b[0m\u001b[0m\n\u001b[0;32m--> 937\u001b[0;31m         super().fit(\n\u001b[0m\u001b[1;32m    938\u001b[0m             \u001b[0mX\u001b[0m\u001b[0;34m,\u001b[0m\u001b[0;34m\u001b[0m\u001b[0;34m\u001b[0m\u001b[0m\n\u001b[1;32m    939\u001b[0m             \u001b[0my\u001b[0m\u001b[0;34m,\u001b[0m\u001b[0;34m\u001b[0m\u001b[0;34m\u001b[0m\u001b[0m\n",
            "\u001b[0;32m/usr/local/lib/python3.8/dist-packages/sklearn/tree/_classes.py\u001b[0m in \u001b[0;36mfit\u001b[0;34m(self, X, y, sample_weight, check_input, X_idx_sorted)\u001b[0m\n\u001b[1;32m    418\u001b[0m             )\n\u001b[1;32m    419\u001b[0m \u001b[0;34m\u001b[0m\u001b[0m\n\u001b[0;32m--> 420\u001b[0;31m         \u001b[0mbuilder\u001b[0m\u001b[0;34m.\u001b[0m\u001b[0mbuild\u001b[0m\u001b[0;34m(\u001b[0m\u001b[0mself\u001b[0m\u001b[0;34m.\u001b[0m\u001b[0mtree_\u001b[0m\u001b[0;34m,\u001b[0m \u001b[0mX\u001b[0m\u001b[0;34m,\u001b[0m \u001b[0my\u001b[0m\u001b[0;34m,\u001b[0m \u001b[0msample_weight\u001b[0m\u001b[0;34m)\u001b[0m\u001b[0;34m\u001b[0m\u001b[0;34m\u001b[0m\u001b[0m\n\u001b[0m\u001b[1;32m    421\u001b[0m \u001b[0;34m\u001b[0m\u001b[0m\n\u001b[1;32m    422\u001b[0m         \u001b[0;32mif\u001b[0m \u001b[0mself\u001b[0m\u001b[0;34m.\u001b[0m\u001b[0mn_outputs_\u001b[0m \u001b[0;34m==\u001b[0m \u001b[0;36m1\u001b[0m \u001b[0;32mand\u001b[0m \u001b[0mis_classifier\u001b[0m\u001b[0;34m(\u001b[0m\u001b[0mself\u001b[0m\u001b[0;34m)\u001b[0m\u001b[0;34m:\u001b[0m\u001b[0;34m\u001b[0m\u001b[0;34m\u001b[0m\u001b[0m\n",
            "\u001b[0;31mKeyboardInterrupt\u001b[0m: "
          ]
        }
      ]
    },
    {
      "cell_type": "code",
      "source": [],
      "metadata": {
        "id": "Cjv58ymsx-MC"
      },
      "execution_count": null,
      "outputs": []
    },
    {
      "cell_type": "code",
      "source": [
        "#max_features_values = rf_cv_2.best_params_['max_features']\n",
        "max_features_values = 15\n",
        "rf_cv_2 = RandomForestClassifier(max_features = 15, random_state = 88)\n",
        "rf_cv_2.fit(X_train, y_train)\n",
        "#y_pred_rf_cv = rf_cv_2.best_estimator_.predict(X_test)\n",
        "y_pred_rf_cv = rf_cv_2.predict(X_test)\n",
        "\n",
        "acc_rf_cv = accuracy_score(y_test, y_pred_rf_cv)\n",
        "recall_rf_cv = recall_score(y_test, y_pred_rf_cv)\n",
        "pre_rf_cv = pre(y_test, y_pred_rf_cv)\n",
        "fpr_rf_cv = fpr(y_test, y_pred_rf_cv)\n",
        "# TODO: Calculate RF accuracy\n",
        "print(f'CV Random Forest Max Features Optimal: {max_features_values:.4f}')\n",
        "print(f'CV Random Forest Test Accuracy: {acc_rf_cv:.4f}')"
      ],
      "metadata": {
        "id": "23qEVSs3GPIE",
        "colab": {
          "base_uri": "https://localhost:8080/"
        },
        "outputId": "0803544e-b3c6-4a35-dd0d-269635aa8d33"
      },
      "execution_count": null,
      "outputs": [
        {
          "output_type": "stream",
          "name": "stdout",
          "text": [
            "CV Random Forest Max Features Optimal: 15.0000\n",
            "CV Random Forest Test Accuracy: 0.9547\n"
          ]
        }
      ]
    },
    {
      "cell_type": "code",
      "source": [],
      "metadata": {
        "id": "2UUH8W8vGPFv"
      },
      "execution_count": null,
      "outputs": []
    },
    {
      "cell_type": "code",
      "source": [],
      "metadata": {
        "id": "BGqm0C75GPDJ"
      },
      "execution_count": null,
      "outputs": []
    },
    {
      "cell_type": "markdown",
      "source": [
        "#### Gradient Boosting"
      ],
      "metadata": {
        "id": "-V5IZSyhGUdz"
      }
    },
    {
      "cell_type": "code",
      "source": [
        "gbr = GradientBoostingClassifier(n_estimators=3300, random_state=88, verbose=1)\n",
        "gbr.fit(X_train, y_train)"
      ],
      "metadata": {
        "id": "EUZa-khXGPAw",
        "colab": {
          "base_uri": "https://localhost:8080/"
        },
        "outputId": "2c58b48b-77a2-475c-ab7e-0c7190d4967f"
      },
      "execution_count": null,
      "outputs": [
        {
          "output_type": "stream",
          "name": "stdout",
          "text": [
            "      Iter       Train Loss   Remaining Time \n",
            "         1           0.3793            9.87m\n",
            "         2           0.3702            9.16m\n",
            "         3           0.3628            9.08m\n",
            "         4           0.3565            8.50m\n",
            "         5           0.3518            8.77m\n",
            "         6           0.3481            9.53m\n",
            "         7           0.3448           10.17m\n",
            "         8           0.3419            9.83m\n",
            "         9           0.3391            9.33m\n",
            "        10           0.3365            8.94m\n",
            "        20           0.3199            9.40m\n",
            "        30           0.3106            7.46m\n",
            "        40           0.3041            6.41m\n",
            "        50           0.2993            5.77m\n",
            "        60           0.2956            5.34m\n",
            "        70           0.2924            5.04m\n",
            "        80           0.2893            4.80m\n",
            "        90           0.2863            4.61m\n",
            "       100           0.2836            4.47m\n",
            "       200           0.2662            3.73m\n",
            "       300           0.2500            3.40m\n",
            "       400           0.2344            3.19m\n",
            "       500           0.2212            3.02m\n",
            "       600           0.2099            2.88m\n",
            "       700           0.1979            2.75m\n",
            "       800           0.1866            2.62m\n",
            "       900           0.1759            2.50m\n",
            "      1000           0.1658            2.39m\n",
            "      2000           0.0949            1.32m\n",
            "      3000           0.0597           18.25s\n"
          ]
        },
        {
          "output_type": "execute_result",
          "data": {
            "text/plain": [
              "GradientBoostingClassifier(n_estimators=3300, random_state=88, verbose=1)"
            ]
          },
          "metadata": {},
          "execution_count": 46
        }
      ]
    },
    {
      "cell_type": "code",
      "source": [
        "gbr_pred = gbr.predict(X_test)\n",
        "acc_gbr = accuracy_score(y_test, gbr_pred)\n",
        "recall_gbr = recall_score(y_test, gbr_pred)\n",
        "pre_gbr = pre(y_test, gbr_pred)\n",
        "fpr_gbr = fpr(y_test, gbr_pred)\n",
        "# Calculate boosting accuracy\n",
        "print(f'GBC Test Accuracy: {acc_gbr:.4f}')\n",
        "print(f'GBC Recall Accuracy: {recall_gbr:.4f}')"
      ],
      "metadata": {
        "id": "PGvYpkiqGN9v",
        "colab": {
          "base_uri": "https://localhost:8080/"
        },
        "outputId": "3d2c1606-f52a-4b56-b927-cec981677402"
      },
      "execution_count": null,
      "outputs": [
        {
          "output_type": "stream",
          "name": "stdout",
          "text": [
            "GBC Test Accuracy: 0.9467\n",
            "GBC Recall Accuracy: 0.1064\n"
          ]
        }
      ]
    },
    {
      "cell_type": "markdown",
      "source": [
        "#### Vanilla Bagging"
      ],
      "metadata": {
        "id": "IxiXqCbaGccL"
      }
    },
    {
      "cell_type": "code",
      "source": [
        "v_bag = RandomForestClassifier(random_state = 88,max_features = 16)\n",
        "v_bag.fit(X_train, y_train)\n",
        "v_bag_pred = v_bag.predict(X_test)\n"
      ],
      "metadata": {
        "id": "837_rBVKGd-z"
      },
      "execution_count": null,
      "outputs": []
    },
    {
      "cell_type": "code",
      "source": [],
      "metadata": {
        "id": "Ju6-loupxjHG"
      },
      "execution_count": null,
      "outputs": []
    },
    {
      "cell_type": "code",
      "source": [],
      "metadata": {
        "id": "ICaaiKiTxiiU"
      },
      "execution_count": null,
      "outputs": []
    },
    {
      "cell_type": "code",
      "source": [
        "acc_v_bag = accuracy_score(y_test, v_bag_pred)\n",
        "recall_v_bag = recall_score(y_test, v_bag_pred)\n",
        "pre_vbag = pre(y_test, v_bag_pred)\n",
        "fpr_vbag = fpr(y_test, v_bag_pred)\n",
        "print(f'Vanilla Bagging Test Accuracy: {acc_v_bag:.4f}')\n",
        "print(f'Vanilla Bagging Recall Accuracy: {recall_v_bag:.4f}')"
      ],
      "metadata": {
        "id": "J4vRuQl0GgRl",
        "colab": {
          "base_uri": "https://localhost:8080/"
        },
        "outputId": "02a96d18-d327-46fd-da26-3b6de0ce7ee8"
      },
      "execution_count": null,
      "outputs": [
        {
          "output_type": "stream",
          "name": "stdout",
          "text": [
            "Vanilla Bagging Test Accuracy: 0.9542\n",
            "Vanilla Bagging Recall Accuracy: 0.0000\n"
          ]
        }
      ]
    },
    {
      "cell_type": "code",
      "source": [],
      "metadata": {
        "id": "WVy7_znuImMQ"
      },
      "execution_count": null,
      "outputs": []
    },
    {
      "cell_type": "markdown",
      "source": [
        "#### Comparison Table"
      ],
      "metadata": {
        "id": "dE9wprq7GjTN"
      }
    },
    {
      "cell_type": "code",
      "source": [
        "#Create Comparison Table\n",
        "#These lines are provided for you to help construct a comparison table.\n",
        "#It is not requred to follow this format. + You need to find ACC, TPR, FPR, PRE for each model that you choose.\n",
        "comparison_data = {'Baseline':[baseline_acc,recall_bl,fpr_bl, pre_bl],\n",
        "                   'Logistic Regression':[acc_logreg_2,recall_logreg_2,fpr_logreg_2, pre_logreg_2],\n",
        "                   'LDA':[acc_lda,recall_lda, fpr_lda, pre_lda],\n",
        "                  'Decision Tree Classifier':[acc_dtc_1,recall_dtc_1, fpr_dtc_1,pre_dtc_1],\n",
        "                   'Decision Tree Classifier with CV':[acc_dtc_2,recall_dtc_2, fpr_dtc_2,pre_dtc_2],\n",
        "                   'Random Forest':[acc_rf,recall_rf, fpr_rf,pre_rf],\n",
        "                   'Random Forest with CV':[acc_rf_cv,recall_rf_cv, fpr_rf_cv,pre_rf_cv],\n",
        "                   'Gradient Boosting':[acc_gbr,recall_gbr, fpr_gbr,pre_gbr],\n",
        "                   'Vanilla Bagging':[acc_v_bag,recall_v_bag, fpr_vbag,pre_vbag]}\n",
        "\n",
        "comparison_table = pd.DataFrame(data=comparison_data, index=['Accuracy', 'TPR', 'FPR','PRE']).transpose()\n",
        "comparison_table.style.set_properties(**{'font-size': '12pt',}).set_table_styles([{'selector': 'th', 'props': [('font-size', '10pt')]}])\n",
        "comparison_table"
      ],
      "metadata": {
        "id": "HCFYp29OGj4l",
        "colab": {
          "base_uri": "https://localhost:8080/",
          "height": 332
        },
        "outputId": "1e7acd88-977b-4b14-d5ed-2ec448360b5d"
      },
      "execution_count": null,
      "outputs": [
        {
          "output_type": "execute_result",
          "data": {
            "text/plain": [
              "                                  Accuracy       TPR       FPR       PRE\n",
              "Baseline                          0.951665  0.000000  0.000000  0.000000\n",
              "Logistic Regression               0.952516  0.022277  0.002962  0.264706\n",
              "LDA                               0.946071  0.086634  0.012795  0.244755\n",
              "Decision Tree Classifier          0.914867  0.180693  0.049994  0.147475\n",
              "Decision Tree Classifier with CV  0.954324  0.000000  0.000000       NaN\n",
              "Random Forest                     0.954664  0.007426  0.000000  1.000000\n",
              "Random Forest with CV             0.954664  0.007426  0.000000  1.000000\n",
              "Gradient Boosting                 0.946184  0.103960  0.013506  0.269231\n",
              "Vanilla Bagging                   0.954211  0.000000  0.000118  0.000000"
            ],
            "text/html": [
              "\n",
              "  <div id=\"df-762559d9-c2fc-4725-9eed-74c8f1b8b439\">\n",
              "    <div class=\"colab-df-container\">\n",
              "      <div>\n",
              "<style scoped>\n",
              "    .dataframe tbody tr th:only-of-type {\n",
              "        vertical-align: middle;\n",
              "    }\n",
              "\n",
              "    .dataframe tbody tr th {\n",
              "        vertical-align: top;\n",
              "    }\n",
              "\n",
              "    .dataframe thead th {\n",
              "        text-align: right;\n",
              "    }\n",
              "</style>\n",
              "<table border=\"1\" class=\"dataframe\">\n",
              "  <thead>\n",
              "    <tr style=\"text-align: right;\">\n",
              "      <th></th>\n",
              "      <th>Accuracy</th>\n",
              "      <th>TPR</th>\n",
              "      <th>FPR</th>\n",
              "      <th>PRE</th>\n",
              "    </tr>\n",
              "  </thead>\n",
              "  <tbody>\n",
              "    <tr>\n",
              "      <th>Baseline</th>\n",
              "      <td>0.951665</td>\n",
              "      <td>0.000000</td>\n",
              "      <td>0.000000</td>\n",
              "      <td>0.000000</td>\n",
              "    </tr>\n",
              "    <tr>\n",
              "      <th>Logistic Regression</th>\n",
              "      <td>0.952516</td>\n",
              "      <td>0.022277</td>\n",
              "      <td>0.002962</td>\n",
              "      <td>0.264706</td>\n",
              "    </tr>\n",
              "    <tr>\n",
              "      <th>LDA</th>\n",
              "      <td>0.946071</td>\n",
              "      <td>0.086634</td>\n",
              "      <td>0.012795</td>\n",
              "      <td>0.244755</td>\n",
              "    </tr>\n",
              "    <tr>\n",
              "      <th>Decision Tree Classifier</th>\n",
              "      <td>0.914867</td>\n",
              "      <td>0.180693</td>\n",
              "      <td>0.049994</td>\n",
              "      <td>0.147475</td>\n",
              "    </tr>\n",
              "    <tr>\n",
              "      <th>Decision Tree Classifier with CV</th>\n",
              "      <td>0.954324</td>\n",
              "      <td>0.000000</td>\n",
              "      <td>0.000000</td>\n",
              "      <td>NaN</td>\n",
              "    </tr>\n",
              "    <tr>\n",
              "      <th>Random Forest</th>\n",
              "      <td>0.954664</td>\n",
              "      <td>0.007426</td>\n",
              "      <td>0.000000</td>\n",
              "      <td>1.000000</td>\n",
              "    </tr>\n",
              "    <tr>\n",
              "      <th>Random Forest with CV</th>\n",
              "      <td>0.954664</td>\n",
              "      <td>0.007426</td>\n",
              "      <td>0.000000</td>\n",
              "      <td>1.000000</td>\n",
              "    </tr>\n",
              "    <tr>\n",
              "      <th>Gradient Boosting</th>\n",
              "      <td>0.946184</td>\n",
              "      <td>0.103960</td>\n",
              "      <td>0.013506</td>\n",
              "      <td>0.269231</td>\n",
              "    </tr>\n",
              "    <tr>\n",
              "      <th>Vanilla Bagging</th>\n",
              "      <td>0.954211</td>\n",
              "      <td>0.000000</td>\n",
              "      <td>0.000118</td>\n",
              "      <td>0.000000</td>\n",
              "    </tr>\n",
              "  </tbody>\n",
              "</table>\n",
              "</div>\n",
              "      <button class=\"colab-df-convert\" onclick=\"convertToInteractive('df-762559d9-c2fc-4725-9eed-74c8f1b8b439')\"\n",
              "              title=\"Convert this dataframe to an interactive table.\"\n",
              "              style=\"display:none;\">\n",
              "        \n",
              "  <svg xmlns=\"http://www.w3.org/2000/svg\" height=\"24px\"viewBox=\"0 0 24 24\"\n",
              "       width=\"24px\">\n",
              "    <path d=\"M0 0h24v24H0V0z\" fill=\"none\"/>\n",
              "    <path d=\"M18.56 5.44l.94 2.06.94-2.06 2.06-.94-2.06-.94-.94-2.06-.94 2.06-2.06.94zm-11 1L8.5 8.5l.94-2.06 2.06-.94-2.06-.94L8.5 2.5l-.94 2.06-2.06.94zm10 10l.94 2.06.94-2.06 2.06-.94-2.06-.94-.94-2.06-.94 2.06-2.06.94z\"/><path d=\"M17.41 7.96l-1.37-1.37c-.4-.4-.92-.59-1.43-.59-.52 0-1.04.2-1.43.59L10.3 9.45l-7.72 7.72c-.78.78-.78 2.05 0 2.83L4 21.41c.39.39.9.59 1.41.59.51 0 1.02-.2 1.41-.59l7.78-7.78 2.81-2.81c.8-.78.8-2.07 0-2.86zM5.41 20L4 18.59l7.72-7.72 1.47 1.35L5.41 20z\"/>\n",
              "  </svg>\n",
              "      </button>\n",
              "      \n",
              "  <style>\n",
              "    .colab-df-container {\n",
              "      display:flex;\n",
              "      flex-wrap:wrap;\n",
              "      gap: 12px;\n",
              "    }\n",
              "\n",
              "    .colab-df-convert {\n",
              "      background-color: #E8F0FE;\n",
              "      border: none;\n",
              "      border-radius: 50%;\n",
              "      cursor: pointer;\n",
              "      display: none;\n",
              "      fill: #1967D2;\n",
              "      height: 32px;\n",
              "      padding: 0 0 0 0;\n",
              "      width: 32px;\n",
              "    }\n",
              "\n",
              "    .colab-df-convert:hover {\n",
              "      background-color: #E2EBFA;\n",
              "      box-shadow: 0px 1px 2px rgba(60, 64, 67, 0.3), 0px 1px 3px 1px rgba(60, 64, 67, 0.15);\n",
              "      fill: #174EA6;\n",
              "    }\n",
              "\n",
              "    [theme=dark] .colab-df-convert {\n",
              "      background-color: #3B4455;\n",
              "      fill: #D2E3FC;\n",
              "    }\n",
              "\n",
              "    [theme=dark] .colab-df-convert:hover {\n",
              "      background-color: #434B5C;\n",
              "      box-shadow: 0px 1px 3px 1px rgba(0, 0, 0, 0.15);\n",
              "      filter: drop-shadow(0px 1px 2px rgba(0, 0, 0, 0.3));\n",
              "      fill: #FFFFFF;\n",
              "    }\n",
              "  </style>\n",
              "\n",
              "      <script>\n",
              "        const buttonEl =\n",
              "          document.querySelector('#df-762559d9-c2fc-4725-9eed-74c8f1b8b439 button.colab-df-convert');\n",
              "        buttonEl.style.display =\n",
              "          google.colab.kernel.accessAllowed ? 'block' : 'none';\n",
              "\n",
              "        async function convertToInteractive(key) {\n",
              "          const element = document.querySelector('#df-762559d9-c2fc-4725-9eed-74c8f1b8b439');\n",
              "          const dataTable =\n",
              "            await google.colab.kernel.invokeFunction('convertToInteractive',\n",
              "                                                     [key], {});\n",
              "          if (!dataTable) return;\n",
              "\n",
              "          const docLinkHtml = 'Like what you see? Visit the ' +\n",
              "            '<a target=\"_blank\" href=https://colab.research.google.com/notebooks/data_table.ipynb>data table notebook</a>'\n",
              "            + ' to learn more about interactive tables.';\n",
              "          element.innerHTML = '';\n",
              "          dataTable['output_type'] = 'display_data';\n",
              "          await google.colab.output.renderOutput(dataTable, element);\n",
              "          const docLink = document.createElement('div');\n",
              "          docLink.innerHTML = docLinkHtml;\n",
              "          element.appendChild(docLink);\n",
              "        }\n",
              "      </script>\n",
              "    </div>\n",
              "  </div>\n",
              "  "
            ]
          },
          "metadata": {},
          "execution_count": 45
        }
      ]
    },
    {
      "cell_type": "code",
      "source": [],
      "metadata": {
        "id": "e-nw_gvaHDRB"
      },
      "execution_count": null,
      "outputs": []
    },
    {
      "cell_type": "markdown",
      "source": [
        "#### Bootstrap Validation"
      ],
      "metadata": {
        "id": "8CiAqKy3HDg_"
      }
    },
    {
      "cell_type": "code",
      "source": [
        "def bootstrap_validation(test_data, test_label, model, metrics_list, sample=500, random_state=66):\n",
        "    tic = time.time()\n",
        "    n_sample = sample\n",
        "    n_metrics = len(metrics_list)\n",
        "    output_array=np.zeros([n_sample, n_metrics])\n",
        "    output_array[:]=np.nan\n",
        "    print(output_array.shape)\n",
        "    for bs_iter in range(n_sample):\n",
        "        bs_index = np.random.choice(test_data.index, len(test_data.index), replace=True)\n",
        "        bs_data = test_data.loc[bs_index]\n",
        "        bs_label = test_label.loc[bs_index]\n",
        "        bs_predicted = model.predict(bs_data)\n",
        "        for metrics_iter in range(n_metrics):\n",
        "            metrics = metrics_list[metrics_iter]\n",
        "            output_array[bs_iter, metrics_iter]=metrics(bs_predicted,bs_label)\n",
        "    output_df = pd.DataFrame(output_array)\n",
        "    return output_df"
      ],
      "metadata": {
        "id": "5vAuojFgHFVS"
      },
      "execution_count": null,
      "outputs": []
    },
    {
      "cell_type": "markdown",
      "source": [
        "Bootstrap validation for performance metrics of DTC"
      ],
      "metadata": {
        "id": "exyS6gzNHwnU"
      }
    },
    {
      "cell_type": "code",
      "source": [
        "bs_output = bootstrap_validation(X_test,y_test,dtc_1,\n",
        "                                 metrics_list=[acc, tpr, fpr, pre],\n",
        "                                 sample = 500)"
      ],
      "metadata": {
        "id": "w6wMsUMXHIRG",
        "colab": {
          "base_uri": "https://localhost:8080/"
        },
        "outputId": "096e518f-25a9-4335-a89a-583d9001a799"
      },
      "execution_count": null,
      "outputs": [
        {
          "output_type": "stream",
          "name": "stdout",
          "text": [
            "(500, 4)\n"
          ]
        }
      ]
    },
    {
      "cell_type": "code",
      "source": [
        "bs_output.head()"
      ],
      "metadata": {
        "colab": {
          "base_uri": "https://localhost:8080/",
          "height": 206
        },
        "id": "3yuBWH-um5c3",
        "outputId": "7117e0b7-cf74-4120-ca57-a7df61883d10"
      },
      "execution_count": null,
      "outputs": [
        {
          "output_type": "execute_result",
          "data": {
            "text/plain": [
              "          0         1         2         3\n",
              "0  0.915093  0.141949  0.041323  0.162228\n",
              "1  0.917920  0.148760  0.037555  0.186528\n",
              "2  0.912267  0.138889  0.041002  0.169903\n",
              "3  0.916676  0.131524  0.038370  0.164062\n",
              "4  0.909780  0.106667  0.039543  0.145455"
            ],
            "text/html": [
              "\n",
              "  <div id=\"df-36f631f9-f88e-4810-8229-4fb5103f8a43\">\n",
              "    <div class=\"colab-df-container\">\n",
              "      <div>\n",
              "<style scoped>\n",
              "    .dataframe tbody tr th:only-of-type {\n",
              "        vertical-align: middle;\n",
              "    }\n",
              "\n",
              "    .dataframe tbody tr th {\n",
              "        vertical-align: top;\n",
              "    }\n",
              "\n",
              "    .dataframe thead th {\n",
              "        text-align: right;\n",
              "    }\n",
              "</style>\n",
              "<table border=\"1\" class=\"dataframe\">\n",
              "  <thead>\n",
              "    <tr style=\"text-align: right;\">\n",
              "      <th></th>\n",
              "      <th>0</th>\n",
              "      <th>1</th>\n",
              "      <th>2</th>\n",
              "      <th>3</th>\n",
              "    </tr>\n",
              "  </thead>\n",
              "  <tbody>\n",
              "    <tr>\n",
              "      <th>0</th>\n",
              "      <td>0.915093</td>\n",
              "      <td>0.141949</td>\n",
              "      <td>0.041323</td>\n",
              "      <td>0.162228</td>\n",
              "    </tr>\n",
              "    <tr>\n",
              "      <th>1</th>\n",
              "      <td>0.917920</td>\n",
              "      <td>0.148760</td>\n",
              "      <td>0.037555</td>\n",
              "      <td>0.186528</td>\n",
              "    </tr>\n",
              "    <tr>\n",
              "      <th>2</th>\n",
              "      <td>0.912267</td>\n",
              "      <td>0.138889</td>\n",
              "      <td>0.041002</td>\n",
              "      <td>0.169903</td>\n",
              "    </tr>\n",
              "    <tr>\n",
              "      <th>3</th>\n",
              "      <td>0.916676</td>\n",
              "      <td>0.131524</td>\n",
              "      <td>0.038370</td>\n",
              "      <td>0.164062</td>\n",
              "    </tr>\n",
              "    <tr>\n",
              "      <th>4</th>\n",
              "      <td>0.909780</td>\n",
              "      <td>0.106667</td>\n",
              "      <td>0.039543</td>\n",
              "      <td>0.145455</td>\n",
              "    </tr>\n",
              "  </tbody>\n",
              "</table>\n",
              "</div>\n",
              "      <button class=\"colab-df-convert\" onclick=\"convertToInteractive('df-36f631f9-f88e-4810-8229-4fb5103f8a43')\"\n",
              "              title=\"Convert this dataframe to an interactive table.\"\n",
              "              style=\"display:none;\">\n",
              "        \n",
              "  <svg xmlns=\"http://www.w3.org/2000/svg\" height=\"24px\"viewBox=\"0 0 24 24\"\n",
              "       width=\"24px\">\n",
              "    <path d=\"M0 0h24v24H0V0z\" fill=\"none\"/>\n",
              "    <path d=\"M18.56 5.44l.94 2.06.94-2.06 2.06-.94-2.06-.94-.94-2.06-.94 2.06-2.06.94zm-11 1L8.5 8.5l.94-2.06 2.06-.94-2.06-.94L8.5 2.5l-.94 2.06-2.06.94zm10 10l.94 2.06.94-2.06 2.06-.94-2.06-.94-.94-2.06-.94 2.06-2.06.94z\"/><path d=\"M17.41 7.96l-1.37-1.37c-.4-.4-.92-.59-1.43-.59-.52 0-1.04.2-1.43.59L10.3 9.45l-7.72 7.72c-.78.78-.78 2.05 0 2.83L4 21.41c.39.39.9.59 1.41.59.51 0 1.02-.2 1.41-.59l7.78-7.78 2.81-2.81c.8-.78.8-2.07 0-2.86zM5.41 20L4 18.59l7.72-7.72 1.47 1.35L5.41 20z\"/>\n",
              "  </svg>\n",
              "      </button>\n",
              "      \n",
              "  <style>\n",
              "    .colab-df-container {\n",
              "      display:flex;\n",
              "      flex-wrap:wrap;\n",
              "      gap: 12px;\n",
              "    }\n",
              "\n",
              "    .colab-df-convert {\n",
              "      background-color: #E8F0FE;\n",
              "      border: none;\n",
              "      border-radius: 50%;\n",
              "      cursor: pointer;\n",
              "      display: none;\n",
              "      fill: #1967D2;\n",
              "      height: 32px;\n",
              "      padding: 0 0 0 0;\n",
              "      width: 32px;\n",
              "    }\n",
              "\n",
              "    .colab-df-convert:hover {\n",
              "      background-color: #E2EBFA;\n",
              "      box-shadow: 0px 1px 2px rgba(60, 64, 67, 0.3), 0px 1px 3px 1px rgba(60, 64, 67, 0.15);\n",
              "      fill: #174EA6;\n",
              "    }\n",
              "\n",
              "    [theme=dark] .colab-df-convert {\n",
              "      background-color: #3B4455;\n",
              "      fill: #D2E3FC;\n",
              "    }\n",
              "\n",
              "    [theme=dark] .colab-df-convert:hover {\n",
              "      background-color: #434B5C;\n",
              "      box-shadow: 0px 1px 3px 1px rgba(0, 0, 0, 0.15);\n",
              "      filter: drop-shadow(0px 1px 2px rgba(0, 0, 0, 0.3));\n",
              "      fill: #FFFFFF;\n",
              "    }\n",
              "  </style>\n",
              "\n",
              "      <script>\n",
              "        const buttonEl =\n",
              "          document.querySelector('#df-36f631f9-f88e-4810-8229-4fb5103f8a43 button.colab-df-convert');\n",
              "        buttonEl.style.display =\n",
              "          google.colab.kernel.accessAllowed ? 'block' : 'none';\n",
              "\n",
              "        async function convertToInteractive(key) {\n",
              "          const element = document.querySelector('#df-36f631f9-f88e-4810-8229-4fb5103f8a43');\n",
              "          const dataTable =\n",
              "            await google.colab.kernel.invokeFunction('convertToInteractive',\n",
              "                                                     [key], {});\n",
              "          if (!dataTable) return;\n",
              "\n",
              "          const docLinkHtml = 'Like what you see? Visit the ' +\n",
              "            '<a target=\"_blank\" href=https://colab.research.google.com/notebooks/data_table.ipynb>data table notebook</a>'\n",
              "            + ' to learn more about interactive tables.';\n",
              "          element.innerHTML = '';\n",
              "          dataTable['output_type'] = 'display_data';\n",
              "          await google.colab.output.renderOutput(dataTable, element);\n",
              "          const docLink = document.createElement('div');\n",
              "          docLink.innerHTML = docLinkHtml;\n",
              "          element.appendChild(docLink);\n",
              "        }\n",
              "      </script>\n",
              "    </div>\n",
              "  </div>\n",
              "  "
            ]
          },
          "metadata": {},
          "execution_count": 52
        }
      ]
    },
    {
      "cell_type": "code",
      "source": [
        "fig, axs = plt.subplots(ncols=1, figsize=(7,5))\n",
        "axs.set_xlabel('Bootstrap Accuracy Estimate', fontsize=16)\n",
        "axs.set_ylabel('Count', fontsize=16)\n",
        "axs.hist(bs_output.iloc[:,0], bins=20,edgecolor='green', linewidth=2,color = \"grey\")\n",
        "axs.set_xlim([0.9,0.925])"
      ],
      "metadata": {
        "id": "ugJaKEaLHIOt",
        "colab": {
          "base_uri": "https://localhost:8080/",
          "height": 356
        },
        "outputId": "999bc78d-469c-4477-d606-aafdb19edbcd"
      },
      "execution_count": null,
      "outputs": [
        {
          "output_type": "execute_result",
          "data": {
            "text/plain": [
              "(0.9, 0.925)"
            ]
          },
          "metadata": {},
          "execution_count": 53
        },
        {
          "output_type": "display_data",
          "data": {
            "text/plain": [
              "<Figure size 504x360 with 1 Axes>"
            ],
            "image/png": "[encoded data removed]"
          },
          "metadata": {
            "needs_background": "light"
          }
        }
      ]
    },
    {
      "cell_type": "code",
      "source": [
        "fig, axs = plt.subplots(ncols=1, figsize=(7,5))\n",
        "axs.set_xlabel('Bootstrap TPR Estimate', fontsize=16)\n",
        "axs.set_ylabel('Count', fontsize=16)\n",
        "axs.hist(bs_output.iloc[:,1], bins=20,edgecolor='green', linewidth=2,color = \"grey\")\n",
        "axs.set_xlim([0.1,0.2])"
      ],
      "metadata": {
        "id": "1F6reRnoHIMb",
        "colab": {
          "base_uri": "https://localhost:8080/",
          "height": 356
        },
        "outputId": "73a43e4a-4ebe-4d68-ee47-dff638c4c56c"
      },
      "execution_count": null,
      "outputs": [
        {
          "output_type": "execute_result",
          "data": {
            "text/plain": [
              "(0.1, 0.2)"
            ]
          },
          "metadata": {},
          "execution_count": 54
        },
        {
          "output_type": "display_data",
          "data": {
            "text/plain": [
              "<Figure size 504x360 with 1 Axes>"
            ],
            "image/png": "[encoded data removed]"
          },
          "metadata": {
            "needs_background": "light"
          }
        }
      ]
    },
    {
      "cell_type": "markdown",
      "source": [
        "####Optimal Decision Tree Classifier for TPR"
      ],
      "metadata": {
        "id": "XoTdjdwRo0DN"
      }
    },
    {
      "cell_type": "markdown",
      "source": [
        "####Decision Tree Classifier with Cross Validation for TPR"
      ],
      "metadata": {
        "id": "dQEH1H1sp0ja"
      }
    },
    {
      "cell_type": "code",
      "source": [
        "#Note that we accidentally tried to run this cell again after it had already finished the first time. Thus, it is showing a keyboard interupt, but the output of the CV is still below and nothing has changed to make that output any different.\n",
        "grid_values_dtc_o = {'ccp_alpha': np.linspace(0, 0.001, 25),\n",
        "               'random_state': [88]}\n",
        "\n",
        "\n",
        "dtc_o = DecisionTreeClassifier()\n",
        "dtc_cv_o = GridSearchCV(dtc_o, param_grid = grid_values_dtc_o, scoring = 'recall', cv=2, verbose=1) # default scoring metric to optimize is accuracy, used as default if none given.\n",
        "dtc_cv_o.fit(X_train, y_train)"
      ],
      "metadata": {
        "colab": {
          "base_uri": "https://localhost:8080/",
          "height": 381
        },
        "id": "5aoY3AqHo0ha",
        "outputId": "d90d66ba-f8aa-4827-9ad8-1d7be786c5a5"
      },
      "execution_count": null,
      "outputs": [
        {
          "output_type": "stream",
          "name": "stdout",
          "text": [
            "Fitting 2 folds for each of 25 candidates, totalling 50 fits\n"
          ]
        },
        {
          "output_type": "error",
          "ename": "KeyboardInterrupt",
          "evalue": "ignored",
          "traceback": [
            "\u001b[0;31m---------------------------------------------------------------------------\u001b[0m",
            "\u001b[0;31mKeyboardInterrupt\u001b[0m                         Traceback (most recent call last)",
            "\u001b[0;32m<ipython-input-174-148ebb3768b3>\u001b[0m in \u001b[0;36m<module>\u001b[0;34m\u001b[0m\n\u001b[1;32m      5\u001b[0m \u001b[0mdtc_o\u001b[0m \u001b[0;34m=\u001b[0m \u001b[0mDecisionTreeClassifier\u001b[0m\u001b[0;34m(\u001b[0m\u001b[0;34m)\u001b[0m\u001b[0;34m\u001b[0m\u001b[0;34m\u001b[0m\u001b[0m\n\u001b[1;32m      6\u001b[0m \u001b[0mdtc_cv_o\u001b[0m \u001b[0;34m=\u001b[0m \u001b[0mGridSearchCV\u001b[0m\u001b[0;34m(\u001b[0m\u001b[0mdtc_o\u001b[0m\u001b[0;34m,\u001b[0m \u001b[0mparam_grid\u001b[0m \u001b[0;34m=\u001b[0m \u001b[0mgrid_values_dtc_o\u001b[0m\u001b[0;34m,\u001b[0m \u001b[0mscoring\u001b[0m \u001b[0;34m=\u001b[0m \u001b[0;34m'recall'\u001b[0m\u001b[0;34m,\u001b[0m \u001b[0mcv\u001b[0m\u001b[0;34m=\u001b[0m\u001b[0;36m2\u001b[0m\u001b[0;34m,\u001b[0m \u001b[0mverbose\u001b[0m\u001b[0;34m=\u001b[0m\u001b[0;36m1\u001b[0m\u001b[0;34m)\u001b[0m \u001b[0;31m# default scoring metric to optimize is accuracy, used as default if none given.\u001b[0m\u001b[0;34m\u001b[0m\u001b[0;34m\u001b[0m\u001b[0m\n\u001b[0;32m----> 7\u001b[0;31m \u001b[0mdtc_cv_o\u001b[0m\u001b[0;34m.\u001b[0m\u001b[0mfit\u001b[0m\u001b[0;34m(\u001b[0m\u001b[0mX_train\u001b[0m\u001b[0;34m,\u001b[0m \u001b[0my_train\u001b[0m\u001b[0;34m)\u001b[0m\u001b[0;34m\u001b[0m\u001b[0;34m\u001b[0m\u001b[0m\n\u001b[0m",
            "\u001b[0;32m/usr/local/lib/python3.8/dist-packages/sklearn/model_selection/_search.py\u001b[0m in \u001b[0;36mfit\u001b[0;34m(self, X, y, groups, **fit_params)\u001b[0m\n\u001b[1;32m    889\u001b[0m                 \u001b[0;32mreturn\u001b[0m \u001b[0mresults\u001b[0m\u001b[0;34m\u001b[0m\u001b[0;34m\u001b[0m\u001b[0m\n\u001b[1;32m    890\u001b[0m \u001b[0;34m\u001b[0m\u001b[0m\n\u001b[0;32m--> 891\u001b[0;31m             \u001b[0mself\u001b[0m\u001b[0;34m.\u001b[0m\u001b[0m_run_search\u001b[0m\u001b[0;34m(\u001b[0m\u001b[0mevaluate_candidates\u001b[0m\u001b[0;34m)\u001b[0m\u001b[0;34m\u001b[0m\u001b[0;34m\u001b[0m\u001b[0m\n\u001b[0m\u001b[1;32m    892\u001b[0m \u001b[0;34m\u001b[0m\u001b[0m\n\u001b[1;32m    893\u001b[0m             \u001b[0;31m# multimetric is determined here because in the case of a callable\u001b[0m\u001b[0;34m\u001b[0m\u001b[0;34m\u001b[0m\u001b[0;34m\u001b[0m\u001b[0m\n",
            "\u001b[0;32m/usr/local/lib/python3.8/dist-packages/sklearn/model_selection/_search.py\u001b[0m in \u001b[0;36m_run_search\u001b[0;34m(self, evaluate_candidates)\u001b[0m\n\u001b[1;32m   1390\u001b[0m     \u001b[0;32mdef\u001b[0m \u001b[0m_run_search\u001b[0m\u001b[0;34m(\u001b[0m\u001b[0mself\u001b[0m\u001b[0;34m,\u001b[0m \u001b[0mevaluate_candidates\u001b[0m\u001b[0;34m)\u001b[0m\u001b[0;34m:\u001b[0m\u001b[0;34m\u001b[0m\u001b[0;34m\u001b[0m\u001b[0m\n\u001b[1;32m   1391\u001b[0m         \u001b[0;34m\"\"\"Search all candidates in param_grid\"\"\"\u001b[0m\u001b[0;34m\u001b[0m\u001b[0;34m\u001b[0m\u001b[0m\n\u001b[0;32m-> 1392\u001b[0;31m         \u001b[0mevaluate_candidates\u001b[0m\u001b[0;34m(\u001b[0m\u001b[0mParameterGrid\u001b[0m\u001b[0;34m(\u001b[0m\u001b[0mself\u001b[0m\u001b[0;34m.\u001b[0m\u001b[0mparam_grid\u001b[0m\u001b[0;34m)\u001b[0m\u001b[0;34m)\u001b[0m\u001b[0;34m\u001b[0m\u001b[0;34m\u001b[0m\u001b[0m\n\u001b[0m\u001b[1;32m   1393\u001b[0m \u001b[0;34m\u001b[0m\u001b[0m\n\u001b[1;32m   1394\u001b[0m \u001b[0;34m\u001b[0m\u001b[0m\n",
            "\u001b[0;32m/usr/local/lib/python3.8/dist-packages/sklearn/model_selection/_search.py\u001b[0m in \u001b[0;36mevaluate_candidates\u001b[0;34m(candidate_params, cv, more_results)\u001b[0m\n\u001b[1;32m    836\u001b[0m                     )\n\u001b[1;32m    837\u001b[0m \u001b[0;34m\u001b[0m\u001b[0m\n\u001b[0;32m--> 838\u001b[0;31m                 out = parallel(\n\u001b[0m\u001b[1;32m    839\u001b[0m                     delayed(_fit_and_score)(\n\u001b[1;32m    840\u001b[0m                         \u001b[0mclone\u001b[0m\u001b[0;34m(\u001b[0m\u001b[0mbase_estimator\u001b[0m\u001b[0;34m)\u001b[0m\u001b[0;34m,\u001b[0m\u001b[0;34m\u001b[0m\u001b[0;34m\u001b[0m\u001b[0m\n",
            "\u001b[0;32m/usr/local/lib/python3.8/dist-packages/joblib/parallel.py\u001b[0m in \u001b[0;36m__call__\u001b[0;34m(self, iterable)\u001b[0m\n\u001b[1;32m   1086\u001b[0m                 \u001b[0mself\u001b[0m\u001b[0;34m.\u001b[0m\u001b[0m_iterating\u001b[0m \u001b[0;34m=\u001b[0m \u001b[0mself\u001b[0m\u001b[0;34m.\u001b[0m\u001b[0m_original_iterator\u001b[0m \u001b[0;32mis\u001b[0m \u001b[0;32mnot\u001b[0m \u001b[0;32mNone\u001b[0m\u001b[0;34m\u001b[0m\u001b[0;34m\u001b[0m\u001b[0m\n\u001b[1;32m   1087\u001b[0m \u001b[0;34m\u001b[0m\u001b[0m\n\u001b[0;32m-> 1088\u001b[0;31m             \u001b[0;32mwhile\u001b[0m \u001b[0mself\u001b[0m\u001b[0;34m.\u001b[0m\u001b[0mdispatch_one_batch\u001b[0m\u001b[0;34m(\u001b[0m\u001b[0miterator\u001b[0m\u001b[0;34m)\u001b[0m\u001b[0;34m:\u001b[0m\u001b[0;34m\u001b[0m\u001b[0;34m\u001b[0m\u001b[0m\n\u001b[0m\u001b[1;32m   1089\u001b[0m                 \u001b[0;32mpass\u001b[0m\u001b[0;34m\u001b[0m\u001b[0;34m\u001b[0m\u001b[0m\n\u001b[1;32m   1090\u001b[0m \u001b[0;34m\u001b[0m\u001b[0m\n",
            "\u001b[0;32m/usr/local/lib/python3.8/dist-packages/joblib/parallel.py\u001b[0m in \u001b[0;36mdispatch_one_batch\u001b[0;34m(self, iterator)\u001b[0m\n\u001b[1;32m    899\u001b[0m                 \u001b[0;32mreturn\u001b[0m \u001b[0;32mFalse\u001b[0m\u001b[0;34m\u001b[0m\u001b[0;34m\u001b[0m\u001b[0m\n\u001b[1;32m    900\u001b[0m             \u001b[0;32melse\u001b[0m\u001b[0;34m:\u001b[0m\u001b[0;34m\u001b[0m\u001b[0;34m\u001b[0m\u001b[0m\n\u001b[0;32m--> 901\u001b[0;31m                 \u001b[0mself\u001b[0m\u001b[0;34m.\u001b[0m\u001b[0m_dispatch\u001b[0m\u001b[0;34m(\u001b[0m\u001b[0mtasks\u001b[0m\u001b[0;34m)\u001b[0m\u001b[0;34m\u001b[0m\u001b[0;34m\u001b[0m\u001b[0m\n\u001b[0m\u001b[1;32m    902\u001b[0m                 \u001b[0;32mreturn\u001b[0m \u001b[0;32mTrue\u001b[0m\u001b[0;34m\u001b[0m\u001b[0;34m\u001b[0m\u001b[0m\n\u001b[1;32m    903\u001b[0m \u001b[0;34m\u001b[0m\u001b[0m\n",
            "\u001b[0;32m/usr/local/lib/python3.8/dist-packages/joblib/parallel.py\u001b[0m in \u001b[0;36m_dispatch\u001b[0;34m(self, batch)\u001b[0m\n\u001b[1;32m    817\u001b[0m         \u001b[0;32mwith\u001b[0m \u001b[0mself\u001b[0m\u001b[0;34m.\u001b[0m\u001b[0m_lock\u001b[0m\u001b[0;34m:\u001b[0m\u001b[0;34m\u001b[0m\u001b[0;34m\u001b[0m\u001b[0m\n\u001b[1;32m    818\u001b[0m             \u001b[0mjob_idx\u001b[0m \u001b[0;34m=\u001b[0m \u001b[0mlen\u001b[0m\u001b[0;34m(\u001b[0m\u001b[0mself\u001b[0m\u001b[0;34m.\u001b[0m\u001b[0m_jobs\u001b[0m\u001b[0;34m)\u001b[0m\u001b[0;34m\u001b[0m\u001b[0;34m\u001b[0m\u001b[0m\n\u001b[0;32m--> 819\u001b[0;31m             \u001b[0mjob\u001b[0m \u001b[0;34m=\u001b[0m \u001b[0mself\u001b[0m\u001b[0;34m.\u001b[0m\u001b[0m_backend\u001b[0m\u001b[0;34m.\u001b[0m\u001b[0mapply_async\u001b[0m\u001b[0;34m(\u001b[0m\u001b[0mbatch\u001b[0m\u001b[0;34m,\u001b[0m \u001b[0mcallback\u001b[0m\u001b[0;34m=\u001b[0m\u001b[0mcb\u001b[0m\u001b[0;34m)\u001b[0m\u001b[0;34m\u001b[0m\u001b[0;34m\u001b[0m\u001b[0m\n\u001b[0m\u001b[1;32m    820\u001b[0m             \u001b[0;31m# A job can complete so quickly than its callback is\u001b[0m\u001b[0;34m\u001b[0m\u001b[0;34m\u001b[0m\u001b[0;34m\u001b[0m\u001b[0m\n\u001b[1;32m    821\u001b[0m             \u001b[0;31m# called before we get here, causing self._jobs to\u001b[0m\u001b[0;34m\u001b[0m\u001b[0;34m\u001b[0m\u001b[0;34m\u001b[0m\u001b[0m\n",
            "\u001b[0;32m/usr/local/lib/python3.8/dist-packages/joblib/_parallel_backends.py\u001b[0m in \u001b[0;36mapply_async\u001b[0;34m(self, func, callback)\u001b[0m\n\u001b[1;32m    206\u001b[0m     \u001b[0;32mdef\u001b[0m \u001b[0mapply_async\u001b[0m\u001b[0;34m(\u001b[0m\u001b[0mself\u001b[0m\u001b[0;34m,\u001b[0m \u001b[0mfunc\u001b[0m\u001b[0;34m,\u001b[0m \u001b[0mcallback\u001b[0m\u001b[0;34m=\u001b[0m\u001b[0;32mNone\u001b[0m\u001b[0;34m)\u001b[0m\u001b[0;34m:\u001b[0m\u001b[0;34m\u001b[0m\u001b[0;34m\u001b[0m\u001b[0m\n\u001b[1;32m    207\u001b[0m         \u001b[0;34m\"\"\"Schedule a func to be run\"\"\"\u001b[0m\u001b[0;34m\u001b[0m\u001b[0;34m\u001b[0m\u001b[0m\n\u001b[0;32m--> 208\u001b[0;31m         \u001b[0mresult\u001b[0m \u001b[0;34m=\u001b[0m \u001b[0mImmediateResult\u001b[0m\u001b[0;34m(\u001b[0m\u001b[0mfunc\u001b[0m\u001b[0;34m)\u001b[0m\u001b[0;34m\u001b[0m\u001b[0;34m\u001b[0m\u001b[0m\n\u001b[0m\u001b[1;32m    209\u001b[0m         \u001b[0;32mif\u001b[0m \u001b[0mcallback\u001b[0m\u001b[0;34m:\u001b[0m\u001b[0;34m\u001b[0m\u001b[0;34m\u001b[0m\u001b[0m\n\u001b[1;32m    210\u001b[0m             \u001b[0mcallback\u001b[0m\u001b[0;34m(\u001b[0m\u001b[0mresult\u001b[0m\u001b[0;34m)\u001b[0m\u001b[0;34m\u001b[0m\u001b[0;34m\u001b[0m\u001b[0m\n",
            "\u001b[0;32m/usr/local/lib/python3.8/dist-packages/joblib/_parallel_backends.py\u001b[0m in \u001b[0;36m__init__\u001b[0;34m(self, batch)\u001b[0m\n\u001b[1;32m    595\u001b[0m         \u001b[0;31m# Don't delay the application, to avoid keeping the input\u001b[0m\u001b[0;34m\u001b[0m\u001b[0;34m\u001b[0m\u001b[0;34m\u001b[0m\u001b[0m\n\u001b[1;32m    596\u001b[0m         \u001b[0;31m# arguments in memory\u001b[0m\u001b[0;34m\u001b[0m\u001b[0;34m\u001b[0m\u001b[0;34m\u001b[0m\u001b[0m\n\u001b[0;32m--> 597\u001b[0;31m         \u001b[0mself\u001b[0m\u001b[0;34m.\u001b[0m\u001b[0mresults\u001b[0m \u001b[0;34m=\u001b[0m \u001b[0mbatch\u001b[0m\u001b[0;34m(\u001b[0m\u001b[0;34m)\u001b[0m\u001b[0;34m\u001b[0m\u001b[0;34m\u001b[0m\u001b[0m\n\u001b[0m\u001b[1;32m    598\u001b[0m \u001b[0;34m\u001b[0m\u001b[0m\n\u001b[1;32m    599\u001b[0m     \u001b[0;32mdef\u001b[0m \u001b[0mget\u001b[0m\u001b[0;34m(\u001b[0m\u001b[0mself\u001b[0m\u001b[0;34m)\u001b[0m\u001b[0;34m:\u001b[0m\u001b[0;34m\u001b[0m\u001b[0;34m\u001b[0m\u001b[0m\n",
            "\u001b[0;32m/usr/local/lib/python3.8/dist-packages/joblib/parallel.py\u001b[0m in \u001b[0;36m__call__\u001b[0;34m(self)\u001b[0m\n\u001b[1;32m    286\u001b[0m         \u001b[0;31m# change the default number of processes to -1\u001b[0m\u001b[0;34m\u001b[0m\u001b[0;34m\u001b[0m\u001b[0;34m\u001b[0m\u001b[0m\n\u001b[1;32m    287\u001b[0m         \u001b[0;32mwith\u001b[0m \u001b[0mparallel_backend\u001b[0m\u001b[0;34m(\u001b[0m\u001b[0mself\u001b[0m\u001b[0;34m.\u001b[0m\u001b[0m_backend\u001b[0m\u001b[0;34m,\u001b[0m \u001b[0mn_jobs\u001b[0m\u001b[0;34m=\u001b[0m\u001b[0mself\u001b[0m\u001b[0;34m.\u001b[0m\u001b[0m_n_jobs\u001b[0m\u001b[0;34m)\u001b[0m\u001b[0;34m:\u001b[0m\u001b[0;34m\u001b[0m\u001b[0;34m\u001b[0m\u001b[0m\n\u001b[0;32m--> 288\u001b[0;31m             return [func(*args, **kwargs)\n\u001b[0m\u001b[1;32m    289\u001b[0m                     for func, args, kwargs in self.items]\n\u001b[1;32m    290\u001b[0m \u001b[0;34m\u001b[0m\u001b[0m\n",
            "\u001b[0;32m/usr/local/lib/python3.8/dist-packages/joblib/parallel.py\u001b[0m in \u001b[0;36m<listcomp>\u001b[0;34m(.0)\u001b[0m\n\u001b[1;32m    286\u001b[0m         \u001b[0;31m# change the default number of processes to -1\u001b[0m\u001b[0;34m\u001b[0m\u001b[0;34m\u001b[0m\u001b[0;34m\u001b[0m\u001b[0m\n\u001b[1;32m    287\u001b[0m         \u001b[0;32mwith\u001b[0m \u001b[0mparallel_backend\u001b[0m\u001b[0;34m(\u001b[0m\u001b[0mself\u001b[0m\u001b[0;34m.\u001b[0m\u001b[0m_backend\u001b[0m\u001b[0;34m,\u001b[0m \u001b[0mn_jobs\u001b[0m\u001b[0;34m=\u001b[0m\u001b[0mself\u001b[0m\u001b[0;34m.\u001b[0m\u001b[0m_n_jobs\u001b[0m\u001b[0;34m)\u001b[0m\u001b[0;34m:\u001b[0m\u001b[0;34m\u001b[0m\u001b[0;34m\u001b[0m\u001b[0m\n\u001b[0;32m--> 288\u001b[0;31m             return [func(*args, **kwargs)\n\u001b[0m\u001b[1;32m    289\u001b[0m                     for func, args, kwargs in self.items]\n\u001b[1;32m    290\u001b[0m \u001b[0;34m\u001b[0m\u001b[0m\n",
            "\u001b[0;32m/usr/local/lib/python3.8/dist-packages/sklearn/utils/fixes.py\u001b[0m in \u001b[0;36m__call__\u001b[0;34m(self, *args, **kwargs)\u001b[0m\n\u001b[1;32m    214\u001b[0m     \u001b[0;32mdef\u001b[0m \u001b[0m__call__\u001b[0m\u001b[0;34m(\u001b[0m\u001b[0mself\u001b[0m\u001b[0;34m,\u001b[0m \u001b[0;34m*\u001b[0m\u001b[0margs\u001b[0m\u001b[0;34m,\u001b[0m \u001b[0;34m**\u001b[0m\u001b[0mkwargs\u001b[0m\u001b[0;34m)\u001b[0m\u001b[0;34m:\u001b[0m\u001b[0;34m\u001b[0m\u001b[0;34m\u001b[0m\u001b[0m\n\u001b[1;32m    215\u001b[0m         \u001b[0;32mwith\u001b[0m \u001b[0mconfig_context\u001b[0m\u001b[0;34m(\u001b[0m\u001b[0;34m**\u001b[0m\u001b[0mself\u001b[0m\u001b[0;34m.\u001b[0m\u001b[0mconfig\u001b[0m\u001b[0;34m)\u001b[0m\u001b[0;34m:\u001b[0m\u001b[0;34m\u001b[0m\u001b[0;34m\u001b[0m\u001b[0m\n\u001b[0;32m--> 216\u001b[0;31m             \u001b[0;32mreturn\u001b[0m \u001b[0mself\u001b[0m\u001b[0;34m.\u001b[0m\u001b[0mfunction\u001b[0m\u001b[0;34m(\u001b[0m\u001b[0;34m*\u001b[0m\u001b[0margs\u001b[0m\u001b[0;34m,\u001b[0m \u001b[0;34m**\u001b[0m\u001b[0mkwargs\u001b[0m\u001b[0;34m)\u001b[0m\u001b[0;34m\u001b[0m\u001b[0;34m\u001b[0m\u001b[0m\n\u001b[0m\u001b[1;32m    217\u001b[0m \u001b[0;34m\u001b[0m\u001b[0m\n\u001b[1;32m    218\u001b[0m \u001b[0;34m\u001b[0m\u001b[0m\n",
            "\u001b[0;32m/usr/local/lib/python3.8/dist-packages/sklearn/model_selection/_validation.py\u001b[0m in \u001b[0;36m_fit_and_score\u001b[0;34m(estimator, X, y, scorer, train, test, verbose, parameters, fit_params, return_train_score, return_parameters, return_n_test_samples, return_times, return_estimator, split_progress, candidate_progress, error_score)\u001b[0m\n\u001b[1;32m    678\u001b[0m             \u001b[0mestimator\u001b[0m\u001b[0;34m.\u001b[0m\u001b[0mfit\u001b[0m\u001b[0;34m(\u001b[0m\u001b[0mX_train\u001b[0m\u001b[0;34m,\u001b[0m \u001b[0;34m**\u001b[0m\u001b[0mfit_params\u001b[0m\u001b[0;34m)\u001b[0m\u001b[0;34m\u001b[0m\u001b[0;34m\u001b[0m\u001b[0m\n\u001b[1;32m    679\u001b[0m         \u001b[0;32melse\u001b[0m\u001b[0;34m:\u001b[0m\u001b[0;34m\u001b[0m\u001b[0;34m\u001b[0m\u001b[0m\n\u001b[0;32m--> 680\u001b[0;31m             \u001b[0mestimator\u001b[0m\u001b[0;34m.\u001b[0m\u001b[0mfit\u001b[0m\u001b[0;34m(\u001b[0m\u001b[0mX_train\u001b[0m\u001b[0;34m,\u001b[0m \u001b[0my_train\u001b[0m\u001b[0;34m,\u001b[0m \u001b[0;34m**\u001b[0m\u001b[0mfit_params\u001b[0m\u001b[0;34m)\u001b[0m\u001b[0;34m\u001b[0m\u001b[0;34m\u001b[0m\u001b[0m\n\u001b[0m\u001b[1;32m    681\u001b[0m \u001b[0;34m\u001b[0m\u001b[0m\n\u001b[1;32m    682\u001b[0m     \u001b[0;32mexcept\u001b[0m \u001b[0mException\u001b[0m\u001b[0;34m:\u001b[0m\u001b[0;34m\u001b[0m\u001b[0;34m\u001b[0m\u001b[0m\n",
            "\u001b[0;32m/usr/local/lib/python3.8/dist-packages/sklearn/tree/_classes.py\u001b[0m in \u001b[0;36mfit\u001b[0;34m(self, X, y, sample_weight, check_input, X_idx_sorted)\u001b[0m\n\u001b[1;32m    935\u001b[0m         \"\"\"\n\u001b[1;32m    936\u001b[0m \u001b[0;34m\u001b[0m\u001b[0m\n\u001b[0;32m--> 937\u001b[0;31m         super().fit(\n\u001b[0m\u001b[1;32m    938\u001b[0m             \u001b[0mX\u001b[0m\u001b[0;34m,\u001b[0m\u001b[0;34m\u001b[0m\u001b[0;34m\u001b[0m\u001b[0m\n\u001b[1;32m    939\u001b[0m             \u001b[0my\u001b[0m\u001b[0;34m,\u001b[0m\u001b[0;34m\u001b[0m\u001b[0;34m\u001b[0m\u001b[0m\n",
            "\u001b[0;32m/usr/local/lib/python3.8/dist-packages/sklearn/tree/_classes.py\u001b[0m in \u001b[0;36mfit\u001b[0;34m(self, X, y, sample_weight, check_input, X_idx_sorted)\u001b[0m\n\u001b[1;32m    418\u001b[0m             )\n\u001b[1;32m    419\u001b[0m \u001b[0;34m\u001b[0m\u001b[0m\n\u001b[0;32m--> 420\u001b[0;31m         \u001b[0mbuilder\u001b[0m\u001b[0;34m.\u001b[0m\u001b[0mbuild\u001b[0m\u001b[0;34m(\u001b[0m\u001b[0mself\u001b[0m\u001b[0;34m.\u001b[0m\u001b[0mtree_\u001b[0m\u001b[0;34m,\u001b[0m \u001b[0mX\u001b[0m\u001b[0;34m,\u001b[0m \u001b[0my\u001b[0m\u001b[0;34m,\u001b[0m \u001b[0msample_weight\u001b[0m\u001b[0;34m)\u001b[0m\u001b[0;34m\u001b[0m\u001b[0;34m\u001b[0m\u001b[0m\n\u001b[0m\u001b[1;32m    421\u001b[0m \u001b[0;34m\u001b[0m\u001b[0m\n\u001b[1;32m    422\u001b[0m         \u001b[0;32mif\u001b[0m \u001b[0mself\u001b[0m\u001b[0;34m.\u001b[0m\u001b[0mn_outputs_\u001b[0m \u001b[0;34m==\u001b[0m \u001b[0;36m1\u001b[0m \u001b[0;32mand\u001b[0m \u001b[0mis_classifier\u001b[0m\u001b[0;34m(\u001b[0m\u001b[0mself\u001b[0m\u001b[0;34m)\u001b[0m\u001b[0;34m:\u001b[0m\u001b[0;34m\u001b[0m\u001b[0;34m\u001b[0m\u001b[0m\n",
            "\u001b[0;31mKeyboardInterrupt\u001b[0m: "
          ]
        }
      ]
    },
    {
      "cell_type": "code",
      "source": [
        "tpr_o = dtc_cv_o.cv_results_['mean_test_score'] # what sklearn calls mean_test_score is the holdout set, i.e. the validation set.\n",
        "ccp_o = dtc_cv_o.cv_results_['param_ccp_alpha'].data\n",
        "\n",
        "pd.DataFrame({'ccp alpha' : ccp_o, 'Validation TPR': tpr_o}).head(20)"
      ],
      "metadata": {
        "colab": {
          "base_uri": "https://localhost:8080/",
          "height": 677
        },
        "id": "FLvcVmGMpCKm",
        "outputId": "b6a3a07e-5493-4f2f-f4d5-ef1f82cb53e7"
      },
      "execution_count": null,
      "outputs": [
        {
          "output_type": "execute_result",
          "data": {
            "text/plain": [
              "   ccp alpha  Validation TPR\n",
              "0        0.0        0.177278\n",
              "1   0.000042        0.177278\n",
              "2   0.000083        0.173359\n",
              "3   0.000125        0.149862\n",
              "4   0.000167        0.122432\n",
              "5   0.000208        0.094027\n",
              "6    0.00025        0.072463\n",
              "7   0.000292        0.065606\n",
              "8   0.000333        0.056786\n",
              "9   0.000375        0.040146\n",
              "10  0.000417        0.031332\n",
              "11  0.000458        0.027418\n",
              "12    0.0005        0.025458\n",
              "13  0.000542        0.000000\n",
              "14  0.000583        0.000000\n",
              "15  0.000625        0.000000\n",
              "16  0.000667        0.000000\n",
              "17  0.000708        0.000000\n",
              "18   0.00075        0.000000\n",
              "19  0.000792        0.000000"
            ],
            "text/html": [
              "\n",
              "  <div id=\"df-c8380f8e-0b7a-427c-8b06-7c0d6a005e67\">\n",
              "    <div class=\"colab-df-container\">\n",
              "      <div>\n",
              "<style scoped>\n",
              "    .dataframe tbody tr th:only-of-type {\n",
              "        vertical-align: middle;\n",
              "    }\n",
              "\n",
              "    .dataframe tbody tr th {\n",
              "        vertical-align: top;\n",
              "    }\n",
              "\n",
              "    .dataframe thead th {\n",
              "        text-align: right;\n",
              "    }\n",
              "</style>\n",
              "<table border=\"1\" class=\"dataframe\">\n",
              "  <thead>\n",
              "    <tr style=\"text-align: right;\">\n",
              "      <th></th>\n",
              "      <th>ccp alpha</th>\n",
              "      <th>Validation TPR</th>\n",
              "    </tr>\n",
              "  </thead>\n",
              "  <tbody>\n",
              "    <tr>\n",
              "      <th>0</th>\n",
              "      <td>0.0</td>\n",
              "      <td>0.177278</td>\n",
              "    </tr>\n",
              "    <tr>\n",
              "      <th>1</th>\n",
              "      <td>0.000042</td>\n",
              "      <td>0.177278</td>\n",
              "    </tr>\n",
              "    <tr>\n",
              "      <th>2</th>\n",
              "      <td>0.000083</td>\n",
              "      <td>0.173359</td>\n",
              "    </tr>\n",
              "    <tr>\n",
              "      <th>3</th>\n",
              "      <td>0.000125</td>\n",
              "      <td>0.149862</td>\n",
              "    </tr>\n",
              "    <tr>\n",
              "      <th>4</th>\n",
              "      <td>0.000167</td>\n",
              "      <td>0.122432</td>\n",
              "    </tr>\n",
              "    <tr>\n",
              "      <th>5</th>\n",
              "      <td>0.000208</td>\n",
              "      <td>0.094027</td>\n",
              "    </tr>\n",
              "    <tr>\n",
              "      <th>6</th>\n",
              "      <td>0.00025</td>\n",
              "      <td>0.072463</td>\n",
              "    </tr>\n",
              "    <tr>\n",
              "      <th>7</th>\n",
              "      <td>0.000292</td>\n",
              "      <td>0.065606</td>\n",
              "    </tr>\n",
              "    <tr>\n",
              "      <th>8</th>\n",
              "      <td>0.000333</td>\n",
              "      <td>0.056786</td>\n",
              "    </tr>\n",
              "    <tr>\n",
              "      <th>9</th>\n",
              "      <td>0.000375</td>\n",
              "      <td>0.040146</td>\n",
              "    </tr>\n",
              "    <tr>\n",
              "      <th>10</th>\n",
              "      <td>0.000417</td>\n",
              "      <td>0.031332</td>\n",
              "    </tr>\n",
              "    <tr>\n",
              "      <th>11</th>\n",
              "      <td>0.000458</td>\n",
              "      <td>0.027418</td>\n",
              "    </tr>\n",
              "    <tr>\n",
              "      <th>12</th>\n",
              "      <td>0.0005</td>\n",
              "      <td>0.025458</td>\n",
              "    </tr>\n",
              "    <tr>\n",
              "      <th>13</th>\n",
              "      <td>0.000542</td>\n",
              "      <td>0.000000</td>\n",
              "    </tr>\n",
              "    <tr>\n",
              "      <th>14</th>\n",
              "      <td>0.000583</td>\n",
              "      <td>0.000000</td>\n",
              "    </tr>\n",
              "    <tr>\n",
              "      <th>15</th>\n",
              "      <td>0.000625</td>\n",
              "      <td>0.000000</td>\n",
              "    </tr>\n",
              "    <tr>\n",
              "      <th>16</th>\n",
              "      <td>0.000667</td>\n",
              "      <td>0.000000</td>\n",
              "    </tr>\n",
              "    <tr>\n",
              "      <th>17</th>\n",
              "      <td>0.000708</td>\n",
              "      <td>0.000000</td>\n",
              "    </tr>\n",
              "    <tr>\n",
              "      <th>18</th>\n",
              "      <td>0.00075</td>\n",
              "      <td>0.000000</td>\n",
              "    </tr>\n",
              "    <tr>\n",
              "      <th>19</th>\n",
              "      <td>0.000792</td>\n",
              "      <td>0.000000</td>\n",
              "    </tr>\n",
              "  </tbody>\n",
              "</table>\n",
              "</div>\n",
              "      <button class=\"colab-df-convert\" onclick=\"convertToInteractive('df-c8380f8e-0b7a-427c-8b06-7c0d6a005e67')\"\n",
              "              title=\"Convert this dataframe to an interactive table.\"\n",
              "              style=\"display:none;\">\n",
              "        \n",
              "  <svg xmlns=\"http://www.w3.org/2000/svg\" height=\"24px\"viewBox=\"0 0 24 24\"\n",
              "       width=\"24px\">\n",
              "    <path d=\"M0 0h24v24H0V0z\" fill=\"none\"/>\n",
              "    <path d=\"M18.56 5.44l.94 2.06.94-2.06 2.06-.94-2.06-.94-.94-2.06-.94 2.06-2.06.94zm-11 1L8.5 8.5l.94-2.06 2.06-.94-2.06-.94L8.5 2.5l-.94 2.06-2.06.94zm10 10l.94 2.06.94-2.06 2.06-.94-2.06-.94-.94-2.06-.94 2.06-2.06.94z\"/><path d=\"M17.41 7.96l-1.37-1.37c-.4-.4-.92-.59-1.43-.59-.52 0-1.04.2-1.43.59L10.3 9.45l-7.72 7.72c-.78.78-.78 2.05 0 2.83L4 21.41c.39.39.9.59 1.41.59.51 0 1.02-.2 1.41-.59l7.78-7.78 2.81-2.81c.8-.78.8-2.07 0-2.86zM5.41 20L4 18.59l7.72-7.72 1.47 1.35L5.41 20z\"/>\n",
              "  </svg>\n",
              "      </button>\n",
              "      \n",
              "  <style>\n",
              "    .colab-df-container {\n",
              "      display:flex;\n",
              "      flex-wrap:wrap;\n",
              "      gap: 12px;\n",
              "    }\n",
              "\n",
              "    .colab-df-convert {\n",
              "      background-color: #E8F0FE;\n",
              "      border: none;\n",
              "      border-radius: 50%;\n",
              "      cursor: pointer;\n",
              "      display: none;\n",
              "      fill: #1967D2;\n",
              "      height: 32px;\n",
              "      padding: 0 0 0 0;\n",
              "      width: 32px;\n",
              "    }\n",
              "\n",
              "    .colab-df-convert:hover {\n",
              "      background-color: #E2EBFA;\n",
              "      box-shadow: 0px 1px 2px rgba(60, 64, 67, 0.3), 0px 1px 3px 1px rgba(60, 64, 67, 0.15);\n",
              "      fill: #174EA6;\n",
              "    }\n",
              "\n",
              "    [theme=dark] .colab-df-convert {\n",
              "      background-color: #3B4455;\n",
              "      fill: #D2E3FC;\n",
              "    }\n",
              "\n",
              "    [theme=dark] .colab-df-convert:hover {\n",
              "      background-color: #434B5C;\n",
              "      box-shadow: 0px 1px 3px 1px rgba(0, 0, 0, 0.15);\n",
              "      filter: drop-shadow(0px 1px 2px rgba(0, 0, 0, 0.3));\n",
              "      fill: #FFFFFF;\n",
              "    }\n",
              "  </style>\n",
              "\n",
              "      <script>\n",
              "        const buttonEl =\n",
              "          document.querySelector('#df-c8380f8e-0b7a-427c-8b06-7c0d6a005e67 button.colab-df-convert');\n",
              "        buttonEl.style.display =\n",
              "          google.colab.kernel.accessAllowed ? 'block' : 'none';\n",
              "\n",
              "        async function convertToInteractive(key) {\n",
              "          const element = document.querySelector('#df-c8380f8e-0b7a-427c-8b06-7c0d6a005e67');\n",
              "          const dataTable =\n",
              "            await google.colab.kernel.invokeFunction('convertToInteractive',\n",
              "                                                     [key], {});\n",
              "          if (!dataTable) return;\n",
              "\n",
              "          const docLinkHtml = 'Like what you see? Visit the ' +\n",
              "            '<a target=\"_blank\" href=https://colab.research.google.com/notebooks/data_table.ipynb>data table notebook</a>'\n",
              "            + ' to learn more about interactive tables.';\n",
              "          element.innerHTML = '';\n",
              "          dataTable['output_type'] = 'display_data';\n",
              "          await google.colab.output.renderOutput(dataTable, element);\n",
              "          const docLink = document.createElement('div');\n",
              "          docLink.innerHTML = docLinkHtml;\n",
              "          element.appendChild(docLink);\n",
              "        }\n",
              "      </script>\n",
              "    </div>\n",
              "  </div>\n",
              "  "
            ]
          },
          "metadata": {},
          "execution_count": 139
        }
      ]
    },
    {
      "cell_type": "code",
      "source": [
        "plt.figure(figsize=(8, 6))\n",
        "plt.xlabel('ccp alpha', fontsize=16)\n",
        "plt.ylabel('mean validation TPR', fontsize=16)\n",
        "plt.scatter(ccp_o, tpr_o, s=2)\n",
        "plt.plot(ccp_o, tpr_o, linewidth=3)\n",
        "plt.grid(True, which='both')\n",
        "plt.show()"
      ],
      "metadata": {
        "colab": {
          "base_uri": "https://localhost:8080/",
          "height": 393
        },
        "id": "P18sLo3PpDAD",
        "outputId": "6a3a1bf4-3d6c-44f3-a0db-4a343fa63764"
      },
      "execution_count": null,
      "outputs": [
        {
          "output_type": "display_data",
          "data": {
            "text/plain": [
              "<Figure size 576x432 with 1 Axes>"
            ],
            "image/png": "[encoded data removed]"
          },
          "metadata": {
            "needs_background": "light"
          }
        }
      ]
    },
    {
      "cell_type": "code",
      "source": [
        "print('Grid best parameter ccp_alpha (max. TPR): ', dtc_cv_o.best_params_['ccp_alpha'])\n",
        "print('Grid best score (TPR): ', dtc_cv_o.best_score_)"
      ],
      "metadata": {
        "colab": {
          "base_uri": "https://localhost:8080/"
        },
        "id": "pZGM4u5BpC9h",
        "outputId": "df4bb37f-92d8-4593-fe16-487d1167c185"
      },
      "execution_count": null,
      "outputs": [
        {
          "output_type": "stream",
          "name": "stdout",
          "text": [
            "Grid best parameter ccp_alpha (max. TPR):  0.0\n",
            "Grid best score (TPR):  0.17727830858370747\n"
          ]
        }
      ]
    },
    {
      "cell_type": "code",
      "source": [
        "print('Node count =', dtc_cv_o.best_estimator_.tree_.node_count)\n",
        "\n",
        "plt.figure(figsize=(20,10))\n",
        "plot_tree(dtc_cv_o.best_estimator_,\n",
        "          feature_names=X_train.columns,\n",
        "          class_names=['0','1'],\n",
        "          filled=True,\n",
        "          impurity=True,\n",
        "          rounded=True,\n",
        "          fontsize=12,\n",
        "          max_depth=3)\n",
        "plt.show()"
      ],
      "metadata": {
        "colab": {
          "base_uri": "https://localhost:8080/",
          "height": 592
        },
        "id": "5LQk4FX9pC7N",
        "outputId": "92492a49-7730-4d40-b0c6-2e736fadce72"
      },
      "execution_count": null,
      "outputs": [
        {
          "output_type": "stream",
          "name": "stdout",
          "text": [
            "Node count = 2483\n"
          ]
        },
        {
          "output_type": "display_data",
          "data": {
            "text/plain": [
              "<Figure size 1440x720 with 1 Axes>"
            ],
            "image/png": "[encoded data removed]"
          },
          "metadata": {
            "needs_background": "light"
          }
        }
      ]
    },
    {
      "cell_type": "code",
      "source": [
        "y_pred_dtc_cv_o = dtc_cv_o.best_estimator_.predict(X_test)\n",
        "\n",
        "acc_dtc_o = accuracy_score(y_test, y_pred_dtc_cv_o)\n",
        "recall_dtc_o = recall_score(y_test, y_pred_dtc_cv_o)\n",
        "pre_dtc_o = pre(y_test, y_pred_dtc_cv_o)\n",
        "fpr_dtc_o = fpr(y_test, y_pred_dtc_cv_o)\n",
        "print(f'DTC Optimized Test Accuracy: {acc_dtc_o:.4f}')\n",
        "print(f'DTC Optimized Test TPR: {recall_dtc_o:.4f}')"
      ],
      "metadata": {
        "colab": {
          "base_uri": "https://localhost:8080/"
        },
        "id": "PI-_-2UlpmlU",
        "outputId": "451c67a8-63cc-4801-afe1-b45f400ad411"
      },
      "execution_count": null,
      "outputs": [
        {
          "output_type": "stream",
          "name": "stdout",
          "text": [
            "DTC Optimized Test Accuracy: 0.9149\n",
            "DTC Optimized Test TPR: 0.1807\n"
          ]
        }
      ]
    },
    {
      "cell_type": "code",
      "source": [],
      "metadata": {
        "id": "UMvPTT73qEh4"
      },
      "execution_count": null,
      "outputs": []
    },
    {
      "cell_type": "markdown",
      "source": [
        "####Decision Tree Classifier for TPR"
      ],
      "metadata": {
        "id": "QfqbW0hopvge"
      }
    },
    {
      "cell_type": "code",
      "source": [
        "dtc_tpr = DecisionTreeClassifier(random_state = 88)\n",
        "dtc_tpr.fit(X_train, y_train)\n",
        "y_pred_dtc_tpr = dtc_tpr.predict(X_test)"
      ],
      "metadata": {
        "id": "4Pj-LrnaxBWx"
      },
      "execution_count": null,
      "outputs": []
    },
    {
      "cell_type": "code",
      "source": [
        "array = dtc_tpr.cost_complexity_pruning_path(X_train, y_train)\n",
        "ccp_a = array['ccp_alphas']\n",
        "ccp_a"
      ],
      "metadata": {
        "colab": {
          "base_uri": "https://localhost:8080/"
        },
        "id": "gCONbCIKxBUT",
        "outputId": "da1a67d7-970a-4fb0-ef61-be6be21e8179"
      },
      "execution_count": null,
      "outputs": [
        {
          "output_type": "execute_result",
          "data": {
            "text/plain": [
              "array([0.00000000e+00, 2.42086938e-05, 3.18222812e-05, 3.18293718e-05,\n",
              "       3.19243848e-05, 3.19331216e-05, 3.19781296e-05, 3.20160045e-05,\n",
              "       3.20259505e-05, 3.20633591e-05, 3.20761371e-05, 3.20919078e-05,\n",
              "       3.21187793e-05, 3.21335141e-05, 3.21370565e-05, 3.21476194e-05,\n",
              "       3.21767515e-05, 3.21803489e-05, 3.22198704e-05, 3.22236759e-05,\n",
              "       3.22240777e-05, 3.22250649e-05, 3.22351816e-05, 3.22598176e-05,\n",
              "       3.24305890e-05, 3.83092618e-05, 3.84705311e-05, 3.85359438e-05,\n",
              "       3.86204073e-05, 4.03805463e-05, 4.08056046e-05, 4.15342762e-05,\n",
              "       4.23995736e-05, 4.24199678e-05, 4.24211239e-05, 4.28217962e-05,\n",
              "       4.30725827e-05, 4.30725827e-05, 4.33716978e-05, 4.36109900e-05,\n",
              "       4.40407342e-05, 4.40515050e-05, 4.43297303e-05, 4.44186009e-05,\n",
              "       4.44186009e-05, 4.45277375e-05, 4.45277375e-05, 4.47292205e-05,\n",
              "       4.48404872e-05, 4.49954658e-05, 4.49954658e-05, 4.49954658e-05,\n",
              "       4.52262118e-05, 4.52262118e-05, 4.52262118e-05, 4.54281146e-05,\n",
              "       4.56062640e-05, 4.56062640e-05, 4.56062640e-05, 4.56062640e-05,\n",
              "       4.56062640e-05, 4.56062640e-05, 4.57646191e-05, 4.57646191e-05,\n",
              "       4.58788324e-05, 4.59063052e-05, 4.59063052e-05, 4.60929162e-05,\n",
              "       4.61491957e-05, 4.62540803e-05, 4.63030264e-05, 4.63725441e-05,\n",
              "       4.64788328e-05, 4.65183893e-05, 4.65183893e-05, 4.65512214e-05,\n",
              "       4.66619646e-05, 4.66619646e-05, 4.67260607e-05, 4.68392256e-05,\n",
              "       4.68414337e-05, 4.68414337e-05, 4.68679127e-05, 4.68967709e-05,\n",
              "       4.69423850e-05, 4.69423850e-05, 4.70314598e-05, 4.70314598e-05,\n",
              "       4.70573724e-05, 4.71106373e-05, 4.71106373e-05, 4.71470162e-05,\n",
              "       4.71814804e-05, 4.71814804e-05, 4.72725124e-05, 4.73029256e-05,\n",
              "       4.73476764e-05, 4.74677442e-05, 4.74875224e-05, 4.75017095e-05,\n",
              "       4.75069279e-05, 4.75756254e-05, 4.75913581e-05, 4.76211959e-05,\n",
              "       4.76282350e-05, 4.77111685e-05, 4.77111685e-05, 4.77385088e-05,\n",
              "       4.77644176e-05, 4.77746800e-05, 4.77805085e-05, 4.78018359e-05,\n",
              "       4.78345931e-05, 4.78446717e-05, 4.79336039e-05, 4.79862026e-05,\n",
              "       4.80561873e-05, 4.81052607e-05, 4.81129913e-05, 4.81682230e-05,\n",
              "       4.81728243e-05, 4.82361549e-05, 4.82391395e-05, 4.83270923e-05,\n",
              "       4.84307919e-05, 4.84566555e-05, 4.84566555e-05, 4.84566555e-05,\n",
              "       4.84566555e-05, 4.84566555e-05, 4.84566555e-05, 4.84566555e-05,\n",
              "       4.84566555e-05, 4.84566555e-05, 4.84566555e-05, 4.84566555e-05,\n",
              "       4.84566555e-05, 4.84566555e-05, 4.84566555e-05, 4.98486857e-05,\n",
              "       5.03555375e-05, 5.23347237e-05, 5.34102683e-05, 5.34759461e-05,\n",
              "       5.46774424e-05, 5.51818520e-05, 5.57227591e-05, 5.59091052e-05,\n",
              "       5.65897977e-05, 5.68828492e-05, 5.70297561e-05, 5.70762739e-05,\n",
              "       5.78079399e-05, 5.80141927e-05, 5.84556479e-05, 5.86543554e-05,\n",
              "       5.87205731e-05, 5.94445593e-05, 5.95322213e-05, 6.01530896e-05,\n",
              "       6.04405596e-05, 6.09044389e-05, 6.17219390e-05, 6.17238219e-05,\n",
              "       6.21661074e-05, 6.23014142e-05, 6.26209087e-05, 6.39627853e-05,\n",
              "       6.46088740e-05, 6.46088740e-05, 6.46088740e-05, 6.46088740e-05,\n",
              "       6.46088740e-05, 6.46088740e-05, 6.46088740e-05, 6.46088740e-05,\n",
              "       6.46088740e-05, 6.46088740e-05, 6.46088740e-05, 6.46088740e-05,\n",
              "       6.46088740e-05, 6.46088740e-05, 6.46088740e-05, 6.46088740e-05,\n",
              "       6.46088740e-05, 6.46088740e-05, 6.46088740e-05, 6.46088740e-05,\n",
              "       6.46088740e-05, 6.46088740e-05, 6.46088740e-05, 6.56730324e-05,\n",
              "       6.59843854e-05, 6.67783868e-05, 6.82957935e-05, 6.88309345e-05,\n",
              "       7.10851856e-05, 7.17876378e-05, 7.18152484e-05, 7.26849833e-05,\n",
              "       7.26849833e-05, 7.26849833e-05, 7.26849833e-05, 7.26849833e-05,\n",
              "       7.26849833e-05, 7.26849833e-05, 7.26849833e-05, 7.26849833e-05,\n",
              "       7.26849833e-05, 7.26849833e-05, 7.26849833e-05, 7.26849833e-05,\n",
              "       7.26849833e-05, 7.27028551e-05, 7.31176320e-05, 7.38387132e-05,\n",
              "       7.75306488e-05, 7.75306488e-05, 7.75306488e-05, 7.75306488e-05,\n",
              "       7.75306488e-05, 7.75306488e-05, 7.75306488e-05, 7.75306488e-05,\n",
              "       7.75306488e-05, 7.75306488e-05, 7.75306488e-05, 7.75306488e-05,\n",
              "       7.75306488e-05, 7.75306488e-05, 7.75306488e-05, 7.75306488e-05,\n",
              "       7.75306488e-05, 7.75306488e-05, 7.75767980e-05, 7.78767678e-05,\n",
              "       7.82274518e-05, 7.91533239e-05, 7.96073626e-05, 8.01672610e-05,\n",
              "       8.06352311e-05, 8.07610925e-05, 8.07610925e-05, 8.07610925e-05,\n",
              "       8.07610925e-05, 8.07610925e-05, 8.07610925e-05, 8.09036558e-05,\n",
              "       8.10778027e-05, 8.10778027e-05, 8.10778027e-05, 8.10778027e-05,\n",
              "       8.12066710e-05, 8.18945816e-05, 8.21613857e-05, 8.26993588e-05,\n",
              "       8.30685523e-05, 8.30685523e-05, 8.30685523e-05, 8.30685523e-05,\n",
              "       8.30685523e-05, 8.30685523e-05, 8.41069092e-05, 8.41404551e-05,\n",
              "       8.47991472e-05, 8.47991472e-05, 8.47991472e-05, 8.47991472e-05,\n",
              "       8.51662430e-05, 8.52151073e-05, 8.56011301e-05, 8.56668684e-05,\n",
              "       8.59824599e-05, 8.61451654e-05, 8.61451654e-05, 8.61451654e-05,\n",
              "       8.61451654e-05, 8.61451654e-05, 8.69510052e-05, 8.71562017e-05,\n",
              "       8.72219799e-05, 8.72219799e-05, 8.73918087e-05, 8.76388114e-05,\n",
              "       8.77494387e-05, 8.79524772e-05, 8.81030100e-05, 8.81030100e-05,\n",
              "       8.88372018e-05, 8.90430150e-05, 8.91422108e-05, 8.92002210e-05,\n",
              "       8.94598181e-05, 8.97345473e-05, 8.99909317e-05, 9.01123769e-05,\n",
              "       9.04524236e-05, 9.05356636e-05, 9.05485164e-05, 9.06270567e-05,\n",
              "       9.08562291e-05, 9.09942867e-05, 9.13161114e-05, 9.15292382e-05,\n",
              "       9.15292382e-05, 9.16329963e-05, 9.16462833e-05, 9.17739688e-05,\n",
              "       9.20586554e-05, 9.20946315e-05, 9.22204367e-05, 9.22983915e-05,\n",
              "       9.33122753e-05, 9.34521214e-05, 9.38055161e-05, 9.45408475e-05,\n",
              "       9.46582935e-05, 9.48064999e-05, 9.48706871e-05, 9.48834573e-05,\n",
              "       9.52239072e-05, 9.54032459e-05, 9.59343887e-05, 9.68316517e-05,\n",
              "       9.69133110e-05, 9.70434595e-05, 9.74103024e-05, 9.93982677e-05,\n",
              "       9.93982677e-05, 1.00273564e-04, 1.00951366e-04, 1.01121322e-04,\n",
              "       1.01385847e-04, 1.02597146e-04, 1.03838119e-04, 1.04884536e-04,\n",
              "       1.04989420e-04, 1.06017289e-04, 1.06405472e-04, 1.07030749e-04,\n",
              "       1.07492987e-04, 1.07681457e-04, 1.09001082e-04, 1.09027475e-04,\n",
              "       1.09291844e-04, 1.09654070e-04, 1.10967839e-04, 1.11365652e-04,\n",
              "       1.11496457e-04, 1.15077567e-04, 1.16326582e-04, 1.16654911e-04,\n",
              "       1.16915768e-04, 1.16923752e-04, 1.17547963e-04, 1.19696440e-04,\n",
              "       1.20069415e-04, 1.20647283e-04, 1.20975778e-04, 1.21253300e-04,\n",
              "       1.22612416e-04, 1.24317755e-04, 1.26305882e-04, 1.27871730e-04,\n",
              "       1.30832970e-04, 1.31368618e-04, 1.32663443e-04, 1.34680998e-04,\n",
              "       1.35018545e-04, 1.36698567e-04, 1.37474259e-04, 1.38762241e-04,\n",
              "       1.39943163e-04, 1.40178182e-04, 1.42200445e-04, 1.46247434e-04,\n",
              "       1.47677426e-04, 1.49345578e-04, 1.50754039e-04, 1.55061298e-04,\n",
              "       1.55387568e-04, 1.58804832e-04, 1.59343293e-04, 1.60677408e-04,\n",
              "       1.61522185e-04, 1.62564737e-04, 1.64312454e-04, 1.73253796e-04,\n",
              "       1.73648397e-04, 1.75622635e-04, 1.77191466e-04, 1.84673698e-04,\n",
              "       1.85385165e-04, 1.86960999e-04, 1.89369726e-04, 1.89985219e-04,\n",
              "       1.90289293e-04, 1.99559230e-04, 2.02335835e-04, 2.37199334e-04,\n",
              "       2.47405465e-04, 2.71272653e-04, 2.92151958e-04, 4.01855168e-04,\n",
              "       5.35834227e-04, 7.28875246e-04, 1.13382538e-03, 4.30208320e-03])"
            ]
          },
          "metadata": {},
          "execution_count": 176
        }
      ]
    },
    {
      "cell_type": "code",
      "source": [
        "tpr_train = []\n",
        "tpr_test = []\n",
        "for i in ccp_a:\n",
        "  dtc_new = DecisionTreeClassifier(ccp_alpha = i)\n",
        "  dtc_new.fit(X_train, y_train)\n",
        "  y_train_pred = dtc_new.predict(X_train)\n",
        "  y_test_pred = dtc_new.predict(X_test)\n",
        "  tpr_train.append(tpr(y_train, y_train_pred))\n",
        "  tpr_test.append(tpr(y_test, y_test_pred))"
      ],
      "metadata": {
        "colab": {
          "base_uri": "https://localhost:8080/",
          "height": 381
        },
        "id": "nbjX4otcxBSv",
        "outputId": "430c5b32-e799-4827-8835-0b9a9fe79981"
      },
      "execution_count": null,
      "outputs": [
        {
          "output_type": "error",
          "ename": "KeyboardInterrupt",
          "evalue": "ignored",
          "traceback": [
            "\u001b[0;31m---------------------------------------------------------------------------\u001b[0m",
            "\u001b[0;31mKeyboardInterrupt\u001b[0m                         Traceback (most recent call last)",
            "\u001b[0;32m<ipython-input-177-f8e44a339336>\u001b[0m in \u001b[0;36m<module>\u001b[0;34m\u001b[0m\n\u001b[1;32m      3\u001b[0m \u001b[0;32mfor\u001b[0m \u001b[0mi\u001b[0m \u001b[0;32min\u001b[0m \u001b[0mccp_a\u001b[0m\u001b[0;34m:\u001b[0m\u001b[0;34m\u001b[0m\u001b[0;34m\u001b[0m\u001b[0m\n\u001b[1;32m      4\u001b[0m   \u001b[0mdtc_new\u001b[0m \u001b[0;34m=\u001b[0m \u001b[0mDecisionTreeClassifier\u001b[0m\u001b[0;34m(\u001b[0m\u001b[0mccp_alpha\u001b[0m \u001b[0;34m=\u001b[0m \u001b[0mi\u001b[0m\u001b[0;34m)\u001b[0m\u001b[0;34m\u001b[0m\u001b[0;34m\u001b[0m\u001b[0m\n\u001b[0;32m----> 5\u001b[0;31m   \u001b[0mdtc_new\u001b[0m\u001b[0;34m.\u001b[0m\u001b[0mfit\u001b[0m\u001b[0;34m(\u001b[0m\u001b[0mX_train\u001b[0m\u001b[0;34m,\u001b[0m \u001b[0my_train\u001b[0m\u001b[0;34m)\u001b[0m\u001b[0;34m\u001b[0m\u001b[0;34m\u001b[0m\u001b[0m\n\u001b[0m\u001b[1;32m      6\u001b[0m   \u001b[0my_train_pred\u001b[0m \u001b[0;34m=\u001b[0m \u001b[0mdtc_new\u001b[0m\u001b[0;34m.\u001b[0m\u001b[0mpredict\u001b[0m\u001b[0;34m(\u001b[0m\u001b[0mX_train\u001b[0m\u001b[0;34m)\u001b[0m\u001b[0;34m\u001b[0m\u001b[0;34m\u001b[0m\u001b[0m\n\u001b[1;32m      7\u001b[0m   \u001b[0my_test_pred\u001b[0m \u001b[0;34m=\u001b[0m \u001b[0mdtc_new\u001b[0m\u001b[0;34m.\u001b[0m\u001b[0mpredict\u001b[0m\u001b[0;34m(\u001b[0m\u001b[0mX_test\u001b[0m\u001b[0;34m)\u001b[0m\u001b[0;34m\u001b[0m\u001b[0;34m\u001b[0m\u001b[0m\n",
            "\u001b[0;32m/usr/local/lib/python3.8/dist-packages/sklearn/tree/_classes.py\u001b[0m in \u001b[0;36mfit\u001b[0;34m(self, X, y, sample_weight, check_input, X_idx_sorted)\u001b[0m\n\u001b[1;32m    935\u001b[0m         \"\"\"\n\u001b[1;32m    936\u001b[0m \u001b[0;34m\u001b[0m\u001b[0m\n\u001b[0;32m--> 937\u001b[0;31m         super().fit(\n\u001b[0m\u001b[1;32m    938\u001b[0m             \u001b[0mX\u001b[0m\u001b[0;34m,\u001b[0m\u001b[0;34m\u001b[0m\u001b[0;34m\u001b[0m\u001b[0m\n\u001b[1;32m    939\u001b[0m             \u001b[0my\u001b[0m\u001b[0;34m,\u001b[0m\u001b[0;34m\u001b[0m\u001b[0;34m\u001b[0m\u001b[0m\n",
            "\u001b[0;32m/usr/local/lib/python3.8/dist-packages/sklearn/tree/_classes.py\u001b[0m in \u001b[0;36mfit\u001b[0;34m(self, X, y, sample_weight, check_input, X_idx_sorted)\u001b[0m\n\u001b[1;32m    418\u001b[0m             )\n\u001b[1;32m    419\u001b[0m \u001b[0;34m\u001b[0m\u001b[0m\n\u001b[0;32m--> 420\u001b[0;31m         \u001b[0mbuilder\u001b[0m\u001b[0;34m.\u001b[0m\u001b[0mbuild\u001b[0m\u001b[0;34m(\u001b[0m\u001b[0mself\u001b[0m\u001b[0;34m.\u001b[0m\u001b[0mtree_\u001b[0m\u001b[0;34m,\u001b[0m \u001b[0mX\u001b[0m\u001b[0;34m,\u001b[0m \u001b[0my\u001b[0m\u001b[0;34m,\u001b[0m \u001b[0msample_weight\u001b[0m\u001b[0;34m)\u001b[0m\u001b[0;34m\u001b[0m\u001b[0;34m\u001b[0m\u001b[0m\n\u001b[0m\u001b[1;32m    421\u001b[0m \u001b[0;34m\u001b[0m\u001b[0m\n\u001b[1;32m    422\u001b[0m         \u001b[0;32mif\u001b[0m \u001b[0mself\u001b[0m\u001b[0;34m.\u001b[0m\u001b[0mn_outputs_\u001b[0m \u001b[0;34m==\u001b[0m \u001b[0;36m1\u001b[0m \u001b[0;32mand\u001b[0m \u001b[0mis_classifier\u001b[0m\u001b[0;34m(\u001b[0m\u001b[0mself\u001b[0m\u001b[0;34m)\u001b[0m\u001b[0;34m:\u001b[0m\u001b[0;34m\u001b[0m\u001b[0;34m\u001b[0m\u001b[0m\n",
            "\u001b[0;31mKeyboardInterrupt\u001b[0m: "
          ]
        }
      ]
    },
    {
      "cell_type": "code",
      "source": [
        "plt.figure(figsize=(8, 6))\n",
        "plt.xlabel('ccp alpha', fontsize=16)\n",
        "plt.ylabel('mean validation TPR', fontsize=16)\n",
        "plt.scatter(ccp_a, tpr_train, s=2)\n",
        "plt.plot(ccp_a, tpr_train, linewidth=3)\n",
        "plt.grid(True, which='both')\n",
        "plt.show()"
      ],
      "metadata": {
        "id": "B-SPHj9bxBPV"
      },
      "execution_count": null,
      "outputs": []
    },
    {
      "cell_type": "code",
      "source": [],
      "metadata": {
        "id": "RQC1ijPRo5Uq"
      },
      "execution_count": null,
      "outputs": []
    },
    {
      "cell_type": "markdown",
      "source": [
        "####Logistic Regression for TPR"
      ],
      "metadata": {
        "id": "2O4OtksfpyhD"
      }
    },
    {
      "cell_type": "code",
      "source": [
        "logreg_tpr = sm.Logit(y_train,X_train).fit()\n",
        "y_pred_logreg_tpr = logreg_tpr.predict(X_train)\n",
        "array2 = [x*.05 for x in np.arange(1,11)]\n",
        "acc_v, rec_v = [], []\n",
        "for i in array2:\n",
        "  y_pred_logreg_tpr_2 = pd.Series([1 if x > i else 0 for x in y_pred_logreg_tpr], index = y_pred_logreg_tpr.index)\n",
        "  acc_logreg_tpr = accuracy_score(y_train, y_pred_logreg_tpr_2)\n",
        "  recall_logreg_tpr = tpr(y_train, y_pred_logreg_tpr_2)\n",
        "  acc_v.append(acc_logreg_tpr)\n",
        "  rec_v.append(recall_logreg_tpr)"
      ],
      "metadata": {
        "colab": {
          "base_uri": "https://localhost:8080/"
        },
        "id": "J5GmdkwJo5QF",
        "outputId": "7da68ac7-8a4e-4e25-f025-34f4ec9f6dd8"
      },
      "execution_count": null,
      "outputs": [
        {
          "output_type": "stream",
          "name": "stdout",
          "text": [
            "Optimization terminated successfully.\n",
            "         Current function value: 0.149912\n",
            "         Iterations 9\n"
          ]
        }
      ]
    },
    {
      "cell_type": "code",
      "source": [
        "pd.DataFrame({'Threshold Values' : array2, 'Accuracy' : acc_v, 'TPR': rec_v}).head(20)"
      ],
      "metadata": {
        "colab": {
          "base_uri": "https://localhost:8080/",
          "height": 363
        },
        "id": "A9YnWkECwUQB",
        "outputId": "95735c1a-2d17-42a5-ea64-d89540982985"
      },
      "execution_count": null,
      "outputs": [
        {
          "output_type": "execute_result",
          "data": {
            "text/plain": [
              "   Threshold Values  Accuracy       TPR\n",
              "0              0.05  0.775746  0.673759\n",
              "1              0.10  0.894129  0.524823\n",
              "2              0.15  0.924286  0.368794\n",
              "3              0.20  0.941611  0.276596\n",
              "4              0.25  0.949310  0.226950\n",
              "5              0.30  0.953802  0.163121\n",
              "6              0.35  0.956368  0.148936\n",
              "7              0.40  0.956047  0.113475\n",
              "8              0.45  0.956047  0.070922\n",
              "9              0.50  0.955406  0.035461"
            ],
            "text/html": [
              "\n",
              "  <div id=\"df-bac47d90-5c5e-468d-99bc-1cec55a5618b\">\n",
              "    <div class=\"colab-df-container\">\n",
              "      <div>\n",
              "<style scoped>\n",
              "    .dataframe tbody tr th:only-of-type {\n",
              "        vertical-align: middle;\n",
              "    }\n",
              "\n",
              "    .dataframe tbody tr th {\n",
              "        vertical-align: top;\n",
              "    }\n",
              "\n",
              "    .dataframe thead th {\n",
              "        text-align: right;\n",
              "    }\n",
              "</style>\n",
              "<table border=\"1\" class=\"dataframe\">\n",
              "  <thead>\n",
              "    <tr style=\"text-align: right;\">\n",
              "      <th></th>\n",
              "      <th>Threshold Values</th>\n",
              "      <th>Accuracy</th>\n",
              "      <th>TPR</th>\n",
              "    </tr>\n",
              "  </thead>\n",
              "  <tbody>\n",
              "    <tr>\n",
              "      <th>0</th>\n",
              "      <td>0.05</td>\n",
              "      <td>0.775746</td>\n",
              "      <td>0.673759</td>\n",
              "    </tr>\n",
              "    <tr>\n",
              "      <th>1</th>\n",
              "      <td>0.10</td>\n",
              "      <td>0.894129</td>\n",
              "      <td>0.524823</td>\n",
              "    </tr>\n",
              "    <tr>\n",
              "      <th>2</th>\n",
              "      <td>0.15</td>\n",
              "      <td>0.924286</td>\n",
              "      <td>0.368794</td>\n",
              "    </tr>\n",
              "    <tr>\n",
              "      <th>3</th>\n",
              "      <td>0.20</td>\n",
              "      <td>0.941611</td>\n",
              "      <td>0.276596</td>\n",
              "    </tr>\n",
              "    <tr>\n",
              "      <th>4</th>\n",
              "      <td>0.25</td>\n",
              "      <td>0.949310</td>\n",
              "      <td>0.226950</td>\n",
              "    </tr>\n",
              "    <tr>\n",
              "      <th>5</th>\n",
              "      <td>0.30</td>\n",
              "      <td>0.953802</td>\n",
              "      <td>0.163121</td>\n",
              "    </tr>\n",
              "    <tr>\n",
              "      <th>6</th>\n",
              "      <td>0.35</td>\n",
              "      <td>0.956368</td>\n",
              "      <td>0.148936</td>\n",
              "    </tr>\n",
              "    <tr>\n",
              "      <th>7</th>\n",
              "      <td>0.40</td>\n",
              "      <td>0.956047</td>\n",
              "      <td>0.113475</td>\n",
              "    </tr>\n",
              "    <tr>\n",
              "      <th>8</th>\n",
              "      <td>0.45</td>\n",
              "      <td>0.956047</td>\n",
              "      <td>0.070922</td>\n",
              "    </tr>\n",
              "    <tr>\n",
              "      <th>9</th>\n",
              "      <td>0.50</td>\n",
              "      <td>0.955406</td>\n",
              "      <td>0.035461</td>\n",
              "    </tr>\n",
              "  </tbody>\n",
              "</table>\n",
              "</div>\n",
              "      <button class=\"colab-df-convert\" onclick=\"convertToInteractive('df-bac47d90-5c5e-468d-99bc-1cec55a5618b')\"\n",
              "              title=\"Convert this dataframe to an interactive table.\"\n",
              "              style=\"display:none;\">\n",
              "        \n",
              "  <svg xmlns=\"http://www.w3.org/2000/svg\" height=\"24px\"viewBox=\"0 0 24 24\"\n",
              "       width=\"24px\">\n",
              "    <path d=\"M0 0h24v24H0V0z\" fill=\"none\"/>\n",
              "    <path d=\"M18.56 5.44l.94 2.06.94-2.06 2.06-.94-2.06-.94-.94-2.06-.94 2.06-2.06.94zm-11 1L8.5 8.5l.94-2.06 2.06-.94-2.06-.94L8.5 2.5l-.94 2.06-2.06.94zm10 10l.94 2.06.94-2.06 2.06-.94-2.06-.94-.94-2.06-.94 2.06-2.06.94z\"/><path d=\"M17.41 7.96l-1.37-1.37c-.4-.4-.92-.59-1.43-.59-.52 0-1.04.2-1.43.59L10.3 9.45l-7.72 7.72c-.78.78-.78 2.05 0 2.83L4 21.41c.39.39.9.59 1.41.59.51 0 1.02-.2 1.41-.59l7.78-7.78 2.81-2.81c.8-.78.8-2.07 0-2.86zM5.41 20L4 18.59l7.72-7.72 1.47 1.35L5.41 20z\"/>\n",
              "  </svg>\n",
              "      </button>\n",
              "      \n",
              "  <style>\n",
              "    .colab-df-container {\n",
              "      display:flex;\n",
              "      flex-wrap:wrap;\n",
              "      gap: 12px;\n",
              "    }\n",
              "\n",
              "    .colab-df-convert {\n",
              "      background-color: #E8F0FE;\n",
              "      border: none;\n",
              "      border-radius: 50%;\n",
              "      cursor: pointer;\n",
              "      display: none;\n",
              "      fill: #1967D2;\n",
              "      height: 32px;\n",
              "      padding: 0 0 0 0;\n",
              "      width: 32px;\n",
              "    }\n",
              "\n",
              "    .colab-df-convert:hover {\n",
              "      background-color: #E2EBFA;\n",
              "      box-shadow: 0px 1px 2px rgba(60, 64, 67, 0.3), 0px 1px 3px 1px rgba(60, 64, 67, 0.15);\n",
              "      fill: #174EA6;\n",
              "    }\n",
              "\n",
              "    [theme=dark] .colab-df-convert {\n",
              "      background-color: #3B4455;\n",
              "      fill: #D2E3FC;\n",
              "    }\n",
              "\n",
              "    [theme=dark] .colab-df-convert:hover {\n",
              "      background-color: #434B5C;\n",
              "      box-shadow: 0px 1px 3px 1px rgba(0, 0, 0, 0.15);\n",
              "      filter: drop-shadow(0px 1px 2px rgba(0, 0, 0, 0.3));\n",
              "      fill: #FFFFFF;\n",
              "    }\n",
              "  </style>\n",
              "\n",
              "      <script>\n",
              "        const buttonEl =\n",
              "          document.querySelector('#df-bac47d90-5c5e-468d-99bc-1cec55a5618b button.colab-df-convert');\n",
              "        buttonEl.style.display =\n",
              "          google.colab.kernel.accessAllowed ? 'block' : 'none';\n",
              "\n",
              "        async function convertToInteractive(key) {\n",
              "          const element = document.querySelector('#df-bac47d90-5c5e-468d-99bc-1cec55a5618b');\n",
              "          const dataTable =\n",
              "            await google.colab.kernel.invokeFunction('convertToInteractive',\n",
              "                                                     [key], {});\n",
              "          if (!dataTable) return;\n",
              "\n",
              "          const docLinkHtml = 'Like what you see? Visit the ' +\n",
              "            '<a target=\"_blank\" href=https://colab.research.google.com/notebooks/data_table.ipynb>data table notebook</a>'\n",
              "            + ' to learn more about interactive tables.';\n",
              "          element.innerHTML = '';\n",
              "          dataTable['output_type'] = 'display_data';\n",
              "          await google.colab.output.renderOutput(dataTable, element);\n",
              "          const docLink = document.createElement('div');\n",
              "          docLink.innerHTML = docLinkHtml;\n",
              "          element.appendChild(docLink);\n",
              "        }\n",
              "      </script>\n",
              "    </div>\n",
              "  </div>\n",
              "  "
            ]
          },
          "metadata": {},
          "execution_count": 36
        }
      ]
    },
    {
      "cell_type": "code",
      "source": [
        "logreg_tpr2 = sm.Logit(y_train,X_train).fit()\n",
        "y_pred_logreg_tpr2 = logreg_tpr2.predict(X_test)\n",
        "y_pred_logreg_tpr2 = pd.Series([1 if x > 0.2 else 0 for x in y_pred_logreg_tpr2], index = y_pred_logreg_tpr2.index)"
      ],
      "metadata": {
        "colab": {
          "base_uri": "https://localhost:8080/"
        },
        "id": "YW1aFk4lxPZU",
        "outputId": "7ac8e7c0-56a5-4bc4-a4de-0a9556c27feb"
      },
      "execution_count": null,
      "outputs": [
        {
          "output_type": "stream",
          "name": "stdout",
          "text": [
            "Optimization terminated successfully.\n",
            "         Current function value: 0.149912\n",
            "         Iterations 9\n"
          ]
        }
      ]
    },
    {
      "cell_type": "code",
      "source": [
        "recall_logreg_2_tpr = tpr(y_test, y_pred_logreg_tpr2)\n",
        "acc_logreg_2_tpr = accuracy_score(y_test, y_pred_logreg_tpr2)\n",
        "\n",
        "print(f'Logistic Regression Test Accuracy: {acc_logreg_2_tpr:.4f}')\n",
        "print(f'Logistic Regression TPR Accuracy: {recall_logreg_2_tpr:.4f}')"
      ],
      "metadata": {
        "colab": {
          "base_uri": "https://localhost:8080/"
        },
        "id": "6HvHNSCYxPWm",
        "outputId": "448db509-5ff2-4f36-bc13-c44474e14b20"
      },
      "execution_count": null,
      "outputs": [
        {
          "output_type": "stream",
          "name": "stdout",
          "text": [
            "Logistic Regression Test Accuracy: 0.9334\n",
            "Logistic Regression TPR Accuracy: 0.1786\n"
          ]
        }
      ]
    },
    {
      "cell_type": "code",
      "source": [],
      "metadata": {
        "id": "uZBk0r90xPKj"
      },
      "execution_count": null,
      "outputs": []
    },
    {
      "cell_type": "markdown",
      "source": [
        "#### Trying to Improve LogReg Through Feature Selection"
      ],
      "metadata": {
        "id": "hYP5Lmelc0eJ"
      }
    },
    {
      "cell_type": "code",
      "source": [
        "high_pvals = logreg_tpr2.pvalues[logreg_tpr2.pvalues > 0.05]\n",
        "high_pval_vars = high_pvals.index.tolist()"
      ],
      "metadata": {
        "id": "sbgoaF5cc1ze"
      },
      "execution_count": null,
      "outputs": []
    },
    {
      "cell_type": "code",
      "source": [
        "X_train_feature_selection = X_train.drop(high_pval_vars, axis=1)\n",
        "X_test_feature_selection = X_test.drop(high_pval_vars, axis=1)\n",
        "X_train_feature_selection.head()"
      ],
      "metadata": {
        "colab": {
          "base_uri": "https://localhost:8080/",
          "height": 206
        },
        "id": "4RMGvQHlc70U",
        "outputId": "85eebb45-d63a-469f-83c7-cf16005d648d"
      },
      "execution_count": null,
      "outputs": [
        {
          "output_type": "execute_result",
          "data": {
            "text/plain": [
              "      SINCOVRX_A  CFSEV_A  ARTHEV_A  PAYBLL12M_A  AGEP_A  CANEV_A  PHSTAT_A  \\\n",
              "3671         2.0      2.0       2.0          2.0    28.0      2.0       1.0   \n",
              "4313         2.0      2.0       1.0          2.0    78.0      2.0       2.0   \n",
              "717          2.0      2.0       2.0          2.0    79.0      2.0       2.0   \n",
              "416          2.0      2.0       2.0          2.0    51.0      2.0       2.0   \n",
              "267          2.0      2.0       2.0          2.0    47.0      2.0       1.0   \n",
              "\n",
              "      COLOGUARD1_A  CVDRSLT_A  \n",
              "3671           9.0        2.0  \n",
              "4313           2.0        9.0  \n",
              "717            2.0        9.0  \n",
              "416            2.0        9.0  \n",
              "267            2.0        9.0  "
            ],
            "text/html": [
              "\n",
              "  <div id=\"df-93e18524-66a5-4d1f-85f2-4a6d02517f0e\">\n",
              "    <div class=\"colab-df-container\">\n",
              "      <div>\n",
              "<style scoped>\n",
              "    .dataframe tbody tr th:only-of-type {\n",
              "        vertical-align: middle;\n",
              "    }\n",
              "\n",
              "    .dataframe tbody tr th {\n",
              "        vertical-align: top;\n",
              "    }\n",
              "\n",
              "    .dataframe thead th {\n",
              "        text-align: right;\n",
              "    }\n",
              "</style>\n",
              "<table border=\"1\" class=\"dataframe\">\n",
              "  <thead>\n",
              "    <tr style=\"text-align: right;\">\n",
              "      <th></th>\n",
              "      <th>SINCOVRX_A</th>\n",
              "      <th>CFSEV_A</th>\n",
              "      <th>ARTHEV_A</th>\n",
              "      <th>PAYBLL12M_A</th>\n",
              "      <th>AGEP_A</th>\n",
              "      <th>CANEV_A</th>\n",
              "      <th>PHSTAT_A</th>\n",
              "      <th>COLOGUARD1_A</th>\n",
              "      <th>CVDRSLT_A</th>\n",
              "    </tr>\n",
              "  </thead>\n",
              "  <tbody>\n",
              "    <tr>\n",
              "      <th>3671</th>\n",
              "      <td>2.0</td>\n",
              "      <td>2.0</td>\n",
              "      <td>2.0</td>\n",
              "      <td>2.0</td>\n",
              "      <td>28.0</td>\n",
              "      <td>2.0</td>\n",
              "      <td>1.0</td>\n",
              "      <td>9.0</td>\n",
              "      <td>2.0</td>\n",
              "    </tr>\n",
              "    <tr>\n",
              "      <th>4313</th>\n",
              "      <td>2.0</td>\n",
              "      <td>2.0</td>\n",
              "      <td>1.0</td>\n",
              "      <td>2.0</td>\n",
              "      <td>78.0</td>\n",
              "      <td>2.0</td>\n",
              "      <td>2.0</td>\n",
              "      <td>2.0</td>\n",
              "      <td>9.0</td>\n",
              "    </tr>\n",
              "    <tr>\n",
              "      <th>717</th>\n",
              "      <td>2.0</td>\n",
              "      <td>2.0</td>\n",
              "      <td>2.0</td>\n",
              "      <td>2.0</td>\n",
              "      <td>79.0</td>\n",
              "      <td>2.0</td>\n",
              "      <td>2.0</td>\n",
              "      <td>2.0</td>\n",
              "      <td>9.0</td>\n",
              "    </tr>\n",
              "    <tr>\n",
              "      <th>416</th>\n",
              "      <td>2.0</td>\n",
              "      <td>2.0</td>\n",
              "      <td>2.0</td>\n",
              "      <td>2.0</td>\n",
              "      <td>51.0</td>\n",
              "      <td>2.0</td>\n",
              "      <td>2.0</td>\n",
              "      <td>2.0</td>\n",
              "      <td>9.0</td>\n",
              "    </tr>\n",
              "    <tr>\n",
              "      <th>267</th>\n",
              "      <td>2.0</td>\n",
              "      <td>2.0</td>\n",
              "      <td>2.0</td>\n",
              "      <td>2.0</td>\n",
              "      <td>47.0</td>\n",
              "      <td>2.0</td>\n",
              "      <td>1.0</td>\n",
              "      <td>2.0</td>\n",
              "      <td>9.0</td>\n",
              "    </tr>\n",
              "  </tbody>\n",
              "</table>\n",
              "</div>\n",
              "      <button class=\"colab-df-convert\" onclick=\"convertToInteractive('df-93e18524-66a5-4d1f-85f2-4a6d02517f0e')\"\n",
              "              title=\"Convert this dataframe to an interactive table.\"\n",
              "              style=\"display:none;\">\n",
              "        \n",
              "  <svg xmlns=\"http://www.w3.org/2000/svg\" height=\"24px\"viewBox=\"0 0 24 24\"\n",
              "       width=\"24px\">\n",
              "    <path d=\"M0 0h24v24H0V0z\" fill=\"none\"/>\n",
              "    <path d=\"M18.56 5.44l.94 2.06.94-2.06 2.06-.94-2.06-.94-.94-2.06-.94 2.06-2.06.94zm-11 1L8.5 8.5l.94-2.06 2.06-.94-2.06-.94L8.5 2.5l-.94 2.06-2.06.94zm10 10l.94 2.06.94-2.06 2.06-.94-2.06-.94-.94-2.06-.94 2.06-2.06.94z\"/><path d=\"M17.41 7.96l-1.37-1.37c-.4-.4-.92-.59-1.43-.59-.52 0-1.04.2-1.43.59L10.3 9.45l-7.72 7.72c-.78.78-.78 2.05 0 2.83L4 21.41c.39.39.9.59 1.41.59.51 0 1.02-.2 1.41-.59l7.78-7.78 2.81-2.81c.8-.78.8-2.07 0-2.86zM5.41 20L4 18.59l7.72-7.72 1.47 1.35L5.41 20z\"/>\n",
              "  </svg>\n",
              "      </button>\n",
              "      \n",
              "  <style>\n",
              "    .colab-df-container {\n",
              "      display:flex;\n",
              "      flex-wrap:wrap;\n",
              "      gap: 12px;\n",
              "    }\n",
              "\n",
              "    .colab-df-convert {\n",
              "      background-color: #E8F0FE;\n",
              "      border: none;\n",
              "      border-radius: 50%;\n",
              "      cursor: pointer;\n",
              "      display: none;\n",
              "      fill: #1967D2;\n",
              "      height: 32px;\n",
              "      padding: 0 0 0 0;\n",
              "      width: 32px;\n",
              "    }\n",
              "\n",
              "    .colab-df-convert:hover {\n",
              "      background-color: #E2EBFA;\n",
              "      box-shadow: 0px 1px 2px rgba(60, 64, 67, 0.3), 0px 1px 3px 1px rgba(60, 64, 67, 0.15);\n",
              "      fill: #174EA6;\n",
              "    }\n",
              "\n",
              "    [theme=dark] .colab-df-convert {\n",
              "      background-color: #3B4455;\n",
              "      fill: #D2E3FC;\n",
              "    }\n",
              "\n",
              "    [theme=dark] .colab-df-convert:hover {\n",
              "      background-color: #434B5C;\n",
              "      box-shadow: 0px 1px 3px 1px rgba(0, 0, 0, 0.15);\n",
              "      filter: drop-shadow(0px 1px 2px rgba(0, 0, 0, 0.3));\n",
              "      fill: #FFFFFF;\n",
              "    }\n",
              "  </style>\n",
              "\n",
              "      <script>\n",
              "        const buttonEl =\n",
              "          document.querySelector('#df-93e18524-66a5-4d1f-85f2-4a6d02517f0e button.colab-df-convert');\n",
              "        buttonEl.style.display =\n",
              "          google.colab.kernel.accessAllowed ? 'block' : 'none';\n",
              "\n",
              "        async function convertToInteractive(key) {\n",
              "          const element = document.querySelector('#df-93e18524-66a5-4d1f-85f2-4a6d02517f0e');\n",
              "          const dataTable =\n",
              "            await google.colab.kernel.invokeFunction('convertToInteractive',\n",
              "                                                     [key], {});\n",
              "          if (!dataTable) return;\n",
              "\n",
              "          const docLinkHtml = 'Like what you see? Visit the ' +\n",
              "            '<a target=\"_blank\" href=https://colab.research.google.com/notebooks/data_table.ipynb>data table notebook</a>'\n",
              "            + ' to learn more about interactive tables.';\n",
              "          element.innerHTML = '';\n",
              "          dataTable['output_type'] = 'display_data';\n",
              "          await google.colab.output.renderOutput(dataTable, element);\n",
              "          const docLink = document.createElement('div');\n",
              "          docLink.innerHTML = docLinkHtml;\n",
              "          element.appendChild(docLink);\n",
              "        }\n",
              "      </script>\n",
              "    </div>\n",
              "  </div>\n",
              "  "
            ]
          },
          "metadata": {},
          "execution_count": 40
        }
      ]
    },
    {
      "cell_type": "code",
      "source": [
        "logreg_feature_selection = sm.Logit(y_train,X_train_feature_selection).fit()"
      ],
      "metadata": {
        "colab": {
          "base_uri": "https://localhost:8080/"
        },
        "id": "6KuiE-eYc8Ao",
        "outputId": "2c3b6c5f-cfe7-4ea9-d203-7ce1056ad8b5"
      },
      "execution_count": null,
      "outputs": [
        {
          "output_type": "stream",
          "name": "stdout",
          "text": [
            "Optimization terminated successfully.\n",
            "         Current function value: 0.159100\n",
            "         Iterations 8\n"
          ]
        }
      ]
    },
    {
      "cell_type": "code",
      "source": [
        "y_pred_logreg_feature_selection = logreg_feature_selection.predict(X_test_feature_selection)\n",
        "y_pred_logreg_feature_selection_1 = pd.Series([1 if x > 0.2 else 0 for x in y_pred_logreg_feature_selection], index = y_pred_logreg_feature_selection.index)"
      ],
      "metadata": {
        "id": "539TBFzSc8LF"
      },
      "execution_count": null,
      "outputs": []
    },
    {
      "cell_type": "code",
      "source": [
        "acc_logreg_feature_selection = accuracy_score(y_test, y_pred_logreg_feature_selection_1)\n",
        "recall_logreg_feature_selection = tpr(y_test, y_pred_logreg_feature_selection_1)\n",
        "pre_logreg_feature_selection = pre(y_test, y_pred_logreg_feature_selection_1)\n",
        "fpr_logreg_feature_selection = fpr(y_test, y_pred_logreg_feature_selection_1)\n",
        "\n",
        "# CONCLUSION: Accuracy is a little higher this time, so feature selection worked.\n",
        "print(f'Logistic Regression Feature Selection Test Accuracy: {acc_logreg_feature_selection:.4f}')\n",
        "print(f'Logistic Regression Feature Selection TPR Accuracy: {recall_logreg_feature_selection:.4f}')"
      ],
      "metadata": {
        "colab": {
          "base_uri": "https://localhost:8080/"
        },
        "id": "kQNXmPvndCkN",
        "outputId": "01e374aa-5dd8-4031-bb62-551c13a5a99a"
      },
      "execution_count": null,
      "outputs": [
        {
          "output_type": "stream",
          "name": "stdout",
          "text": [
            "Logistic Regression Feature Selection Test Accuracy: 0.9476\n",
            "Logistic Regression Feature Selection TPR Accuracy: 0.1071\n"
          ]
        }
      ]
    },
    {
      "cell_type": "markdown",
      "source": [
        "#### Bootstrap Validation for Logistic Regression"
      ],
      "metadata": {
        "id": "-3mQ54FGNSwD"
      }
    },
    {
      "cell_type": "code",
      "source": [
        "def bootstrap_validation_logreg(test_data, test_label, model, metrics_list, sample=500, random_state=66):\n",
        "    tic = time.time()\n",
        "    n_sample = sample\n",
        "    n_metrics = len(metrics_list)\n",
        "    output_array=np.zeros([n_sample, n_metrics])\n",
        "    output_array[:]=np.nan\n",
        "    print(output_array.shape)\n",
        "    for bs_iter in range(n_sample):\n",
        "        bs_index = np.random.choice(test_data.index, len(test_data.index), replace=True)\n",
        "        bs_data = test_data.loc[bs_index]\n",
        "        bs_label = test_label.loc[bs_index]\n",
        "        bs_predicted = model.predict(bs_data)\n",
        "        bs_predicted = pd.Series([1 if x > 0.2 else 0 for x in bs_predicted], index = bs_predicted.index)\n",
        "        for metrics_iter in range(n_metrics):\n",
        "            metrics = metrics_list[metrics_iter]\n",
        "            output_array[bs_iter, metrics_iter]=metrics(bs_predicted,bs_label)\n",
        "    output_df = pd.DataFrame(output_array)\n",
        "    return output_df"
      ],
      "metadata": {
        "id": "gDgHC4OPP7TO"
      },
      "execution_count": null,
      "outputs": []
    },
    {
      "cell_type": "code",
      "source": [
        "bs_output_2 = bootstrap_validation_logreg(X_test,y_test,logreg_tpr2,\n",
        "                                 metrics_list=[acc, tpr, fpr, pre],\n",
        "                                 sample = 500)"
      ],
      "metadata": {
        "colab": {
          "base_uri": "https://localhost:8080/"
        },
        "id": "T0GEdtRxO3Rr",
        "outputId": "b9895edf-1a8b-440e-ad83-aa3dc5de29fb"
      },
      "execution_count": null,
      "outputs": [
        {
          "output_type": "stream",
          "name": "stdout",
          "text": [
            "(500, 4)\n"
          ]
        }
      ]
    },
    {
      "cell_type": "code",
      "source": [
        "bs_output_2.head()"
      ],
      "metadata": {
        "colab": {
          "base_uri": "https://localhost:8080/",
          "height": 206
        },
        "id": "K8MvruPqQ8Xx",
        "outputId": "feb28a14-11d1-4b9c-a865-76621c1df7cf"
      },
      "execution_count": null,
      "outputs": [
        {
          "output_type": "execute_result",
          "data": {
            "text/plain": [
              "          0         1         2         3\n",
              "0  0.925898  0.237288  0.042287  0.205882\n",
              "1  0.939371  0.190476  0.036321  0.145455\n",
              "2  0.939371  0.104167  0.029503  0.116279\n",
              "3  0.935629  0.209302  0.040217  0.147541\n",
              "4  0.931886  0.258621  0.037559  0.238095"
            ],
            "text/html": [
              "\n",
              "  <div id=\"df-d69867ff-eb2c-4978-bef9-4534fa2beb91\">\n",
              "    <div class=\"colab-df-container\">\n",
              "      <div>\n",
              "<style scoped>\n",
              "    .dataframe tbody tr th:only-of-type {\n",
              "        vertical-align: middle;\n",
              "    }\n",
              "\n",
              "    .dataframe tbody tr th {\n",
              "        vertical-align: top;\n",
              "    }\n",
              "\n",
              "    .dataframe thead th {\n",
              "        text-align: right;\n",
              "    }\n",
              "</style>\n",
              "<table border=\"1\" class=\"dataframe\">\n",
              "  <thead>\n",
              "    <tr style=\"text-align: right;\">\n",
              "      <th></th>\n",
              "      <th>0</th>\n",
              "      <th>1</th>\n",
              "      <th>2</th>\n",
              "      <th>3</th>\n",
              "    </tr>\n",
              "  </thead>\n",
              "  <tbody>\n",
              "    <tr>\n",
              "      <th>0</th>\n",
              "      <td>0.925898</td>\n",
              "      <td>0.237288</td>\n",
              "      <td>0.042287</td>\n",
              "      <td>0.205882</td>\n",
              "    </tr>\n",
              "    <tr>\n",
              "      <th>1</th>\n",
              "      <td>0.939371</td>\n",
              "      <td>0.190476</td>\n",
              "      <td>0.036321</td>\n",
              "      <td>0.145455</td>\n",
              "    </tr>\n",
              "    <tr>\n",
              "      <th>2</th>\n",
              "      <td>0.939371</td>\n",
              "      <td>0.104167</td>\n",
              "      <td>0.029503</td>\n",
              "      <td>0.116279</td>\n",
              "    </tr>\n",
              "    <tr>\n",
              "      <th>3</th>\n",
              "      <td>0.935629</td>\n",
              "      <td>0.209302</td>\n",
              "      <td>0.040217</td>\n",
              "      <td>0.147541</td>\n",
              "    </tr>\n",
              "    <tr>\n",
              "      <th>4</th>\n",
              "      <td>0.931886</td>\n",
              "      <td>0.258621</td>\n",
              "      <td>0.037559</td>\n",
              "      <td>0.238095</td>\n",
              "    </tr>\n",
              "  </tbody>\n",
              "</table>\n",
              "</div>\n",
              "      <button class=\"colab-df-convert\" onclick=\"convertToInteractive('df-d69867ff-eb2c-4978-bef9-4534fa2beb91')\"\n",
              "              title=\"Convert this dataframe to an interactive table.\"\n",
              "              style=\"display:none;\">\n",
              "        \n",
              "  <svg xmlns=\"http://www.w3.org/2000/svg\" height=\"24px\"viewBox=\"0 0 24 24\"\n",
              "       width=\"24px\">\n",
              "    <path d=\"M0 0h24v24H0V0z\" fill=\"none\"/>\n",
              "    <path d=\"M18.56 5.44l.94 2.06.94-2.06 2.06-.94-2.06-.94-.94-2.06-.94 2.06-2.06.94zm-11 1L8.5 8.5l.94-2.06 2.06-.94-2.06-.94L8.5 2.5l-.94 2.06-2.06.94zm10 10l.94 2.06.94-2.06 2.06-.94-2.06-.94-.94-2.06-.94 2.06-2.06.94z\"/><path d=\"M17.41 7.96l-1.37-1.37c-.4-.4-.92-.59-1.43-.59-.52 0-1.04.2-1.43.59L10.3 9.45l-7.72 7.72c-.78.78-.78 2.05 0 2.83L4 21.41c.39.39.9.59 1.41.59.51 0 1.02-.2 1.41-.59l7.78-7.78 2.81-2.81c.8-.78.8-2.07 0-2.86zM5.41 20L4 18.59l7.72-7.72 1.47 1.35L5.41 20z\"/>\n",
              "  </svg>\n",
              "      </button>\n",
              "      \n",
              "  <style>\n",
              "    .colab-df-container {\n",
              "      display:flex;\n",
              "      flex-wrap:wrap;\n",
              "      gap: 12px;\n",
              "    }\n",
              "\n",
              "    .colab-df-convert {\n",
              "      background-color: #E8F0FE;\n",
              "      border: none;\n",
              "      border-radius: 50%;\n",
              "      cursor: pointer;\n",
              "      display: none;\n",
              "      fill: #1967D2;\n",
              "      height: 32px;\n",
              "      padding: 0 0 0 0;\n",
              "      width: 32px;\n",
              "    }\n",
              "\n",
              "    .colab-df-convert:hover {\n",
              "      background-color: #E2EBFA;\n",
              "      box-shadow: 0px 1px 2px rgba(60, 64, 67, 0.3), 0px 1px 3px 1px rgba(60, 64, 67, 0.15);\n",
              "      fill: #174EA6;\n",
              "    }\n",
              "\n",
              "    [theme=dark] .colab-df-convert {\n",
              "      background-color: #3B4455;\n",
              "      fill: #D2E3FC;\n",
              "    }\n",
              "\n",
              "    [theme=dark] .colab-df-convert:hover {\n",
              "      background-color: #434B5C;\n",
              "      box-shadow: 0px 1px 3px 1px rgba(0, 0, 0, 0.15);\n",
              "      filter: drop-shadow(0px 1px 2px rgba(0, 0, 0, 0.3));\n",
              "      fill: #FFFFFF;\n",
              "    }\n",
              "  </style>\n",
              "\n",
              "      <script>\n",
              "        const buttonEl =\n",
              "          document.querySelector('#df-d69867ff-eb2c-4978-bef9-4534fa2beb91 button.colab-df-convert');\n",
              "        buttonEl.style.display =\n",
              "          google.colab.kernel.accessAllowed ? 'block' : 'none';\n",
              "\n",
              "        async function convertToInteractive(key) {\n",
              "          const element = document.querySelector('#df-d69867ff-eb2c-4978-bef9-4534fa2beb91');\n",
              "          const dataTable =\n",
              "            await google.colab.kernel.invokeFunction('convertToInteractive',\n",
              "                                                     [key], {});\n",
              "          if (!dataTable) return;\n",
              "\n",
              "          const docLinkHtml = 'Like what you see? Visit the ' +\n",
              "            '<a target=\"_blank\" href=https://colab.research.google.com/notebooks/data_table.ipynb>data table notebook</a>'\n",
              "            + ' to learn more about interactive tables.';\n",
              "          element.innerHTML = '';\n",
              "          dataTable['output_type'] = 'display_data';\n",
              "          await google.colab.output.renderOutput(dataTable, element);\n",
              "          const docLink = document.createElement('div');\n",
              "          docLink.innerHTML = docLinkHtml;\n",
              "          element.appendChild(docLink);\n",
              "        }\n",
              "      </script>\n",
              "    </div>\n",
              "  </div>\n",
              "  "
            ]
          },
          "metadata": {},
          "execution_count": 49
        }
      ]
    },
    {
      "cell_type": "code",
      "source": [
        "fig, axs = plt.subplots(ncols=1, figsize=(7,5))\n",
        "axs.set_xlabel('Bootstrap TPR Estimate', fontsize=16)\n",
        "axs.set_ylabel('Count', fontsize=16)\n",
        "axs.hist(bs_output_2.iloc[:,1], bins=20,edgecolor='green', linewidth=2,color = \"grey\")\n",
        "axs.set_xlim([0.005,0.4])"
      ],
      "metadata": {
        "colab": {
          "base_uri": "https://localhost:8080/",
          "height": 357
        },
        "id": "zQD_N9qdRWb1",
        "outputId": "31ec1e73-8606-4a6d-b4c3-f7149e060909"
      },
      "execution_count": null,
      "outputs": [
        {
          "output_type": "execute_result",
          "data": {
            "text/plain": [
              "(0.005, 0.4)"
            ]
          },
          "metadata": {},
          "execution_count": 64
        },
        {
          "output_type": "display_data",
          "data": {
            "text/plain": [
              "<Figure size 504x360 with 1 Axes>"
            ],
            "image/png": "[encoded data removed]"
          },
          "metadata": {
            "needs_background": "light"
          }
        }
      ]
    },
    {
      "cell_type": "code",
      "source": [
        "fig, axs = plt.subplots(ncols=1, figsize=(7,5))\n",
        "axs.set_xlabel('Bootstrap Accuracy Estimate', fontsize=16)\n",
        "axs.set_ylabel('Count', fontsize=16)\n",
        "axs.hist(bs_output_2.iloc[:,0], bins=20,edgecolor='green', linewidth=2,color = \"grey\")\n",
        "axs.set_xlim([0.91,0.955])"
      ],
      "metadata": {
        "colab": {
          "base_uri": "https://localhost:8080/",
          "height": 358
        },
        "id": "DqHN6NRRRAIw",
        "outputId": "36c519d5-5ca3-4925-a993-1caf3b4114c7"
      },
      "execution_count": null,
      "outputs": [
        {
          "output_type": "execute_result",
          "data": {
            "text/plain": [
              "(0.91, 0.955)"
            ]
          },
          "metadata": {},
          "execution_count": 54
        },
        {
          "output_type": "display_data",
          "data": {
            "text/plain": [
              "<Figure size 504x360 with 1 Axes>"
            ],
            "image/png": "[encoded data removed]"
          },
          "metadata": {
            "needs_background": "light"
          }
        }
      ]
    }
  ]
}